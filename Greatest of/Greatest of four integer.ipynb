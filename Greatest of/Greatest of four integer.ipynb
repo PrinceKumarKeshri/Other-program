{
 "cells": [
  {
   "cell_type": "code",
   "execution_count": 9,
   "metadata": {},
   "outputs": [
    {
     "name": "stdout",
     "output_type": "stream",
     "text": [
      "Value of A = 4\n",
      "Value of B = 5\n",
      "Value of C = 6\n",
      "Value of D = 6\n",
      "C is greatest , C and D are same\n"
     ]
    }
   ],
   "source": [
    "a=int(input(\"Value of A = \"))\n",
    "b=int(input(\"Value of B = \"))\n",
    "c=int(input(\"Value of C = \"))\n",
    "d=int(input(\"Value of D = \"))\n",
    "if(a>b and a>c and a>d):\n",
    "    print(\"A is greatest\")\n",
    "elif(a==b and a>c and a>d):\n",
    "    print(\"A is greatest , A and B are same\")\n",
    "elif(a>b and a==c and a>d):\n",
    "    print(\"A is greatest , A and C are same\")\n",
    "elif(a>b and a>c and a==d):\n",
    "    print(\"A is greatest , A and D are same\")\n",
    "elif(a==b and a==c and a>d):\n",
    "    print(\"A is greatest , A, B and C are same\")\n",
    "elif(a>b and a==c and a==d):\n",
    "    print(\"A is greatest , A, C and D are same\")\n",
    "elif(a==b and a>c and a==d):\n",
    "    print(\"A is greatest , A, B and C are same\")\n",
    "elif(a==b and a==c and a==d):\n",
    "    print(\"All are same\")\n",
    "elif(b>a and b>c and b>d):\n",
    "    print(\"B is greatest\")\n",
    "elif(b==a and b>c and b>d):\n",
    "    print(\"B is greatest , A and B are same\")\n",
    "elif(b>a and b==c and b>d):\n",
    "    print(\"B is greatest , C and B are same\")\n",
    "elif(b>a and b>c and b==d):\n",
    "    print(\"B is greatest , D and B are same\")\n",
    "elif(b==a and b==c and b>d):\n",
    "    print(\"B is greatest , A, C and B are same\")\n",
    "elif(b>a and b==c and b==d):\n",
    "    print(\"B is greatest , C, D and B are same\")\n",
    "elif(b==a and b>c and b==d):\n",
    "    print(\"B is greatest , A, D and B are same\")\n",
    "elif(c>a and c>b and c>d):\n",
    "    print(\"C is greatest\")\n",
    "elif(c==a and c>b and c>d):\n",
    "    print(\"C is greatest , C and A are same\")\n",
    "elif(c>a and c==b and c>d):\n",
    "    print(\"C is greatest , C and B are same\")\n",
    "elif(c>a and c>b and c==d):\n",
    "    print(\"C is greatest , C and D are same\")\n",
    "elif(c==a and c==b and c>d):\n",
    "    print(\"C is greatest , C, B and A are same\")\n",
    "elif(c>a and c==b and c==d):\n",
    "    print(\"C is greatest , C, B and D are same\")\n",
    "elif(c==a and c>b and c==d):\n",
    "    print(\"C is greatest , C, D and A are same\")\n",
    "elif(d>a and d>b and d>c):\n",
    "    print(\"D is greatest\")\n",
    "elif(d==a and d>b and d>c):\n",
    "    print(\"D is greatest , D and A are same\")\n",
    "elif(d>a and d==b and d>c):\n",
    "    print(\"D is greatest , D and B are same\")\n",
    "elif(d>a and d>b and d==c):\n",
    "    print(\"D is greatest , D and A are same\")\n",
    "elif(d==a and d==b and d>c):\n",
    "    print(\"D is greatest , D, B and A are same\")\n",
    "elif(d>a and d==b and d==c):\n",
    "    print(\"D is greatest , D, B and C are same\")\n",
    "else:\n",
    "    print(\"D is greatest , D, A and C are same\")"
   ]
  },
  {
   "cell_type": "code",
   "execution_count": null,
   "metadata": {},
   "outputs": [],
   "source": []
  },
  {
   "cell_type": "code",
   "execution_count": null,
   "metadata": {},
   "outputs": [],
   "source": []
  }
 ],
 "metadata": {
  "kernelspec": {
   "display_name": "Python 3",
   "language": "python",
   "name": "python3"
  },
  "language_info": {
   "codemirror_mode": {
    "name": "ipython",
    "version": 3
   },
   "file_extension": ".py",
   "mimetype": "text/x-python",
   "name": "python",
   "nbconvert_exporter": "python",
   "pygments_lexer": "ipython3",
   "version": "3.7.4"
  }
 },
 "nbformat": 4,
 "nbformat_minor": 2
}
