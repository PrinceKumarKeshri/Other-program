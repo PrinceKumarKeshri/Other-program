{
 "cells": [
  {
   "cell_type": "markdown",
   "metadata": {},
   "source": [
    "## Enter grades and find the average of grades"
   ]
  },
  {
   "cell_type": "code",
   "execution_count": 3,
   "metadata": {},
   "outputs": [
    {
     "name": "stdout",
     "output_type": "stream",
     "text": [
      "Enter grades of sub 0= 5\n",
      "Enter grades of sub 1= 15\n",
      "Enter grades of sub 2= 25\n",
      "Enter grades of sub 3= 35\n",
      "Enter grades of sub 4= 45\n",
      "Enter grades of sub 5= 55\n",
      "Enter grades of sub 6= 65\n",
      "Enter grades of sub 7= 75\n",
      "Enter grades of sub 8= 85\n",
      "Enter grades of sub 9= 95\n",
      "Enter grades of sub 10= 105\n",
      "Enter grades of sub 11= 115\n",
      "Enter grades of sub 12= 125\n",
      "Enter grades of sub 13= 135\n",
      "Enter grades of sub 14= 145\n",
      "Enter grades of sub 15= 155\n",
      "Enter grades of sub 16= 165\n",
      "Enter grades of sub 17= 175\n",
      "Enter grades of sub 18= 185\n",
      "Enter grades of sub 19= 195\n",
      "\n",
      "Average of grades = 100.0\n"
     ]
    }
   ],
   "source": [
    "g=0\n",
    "for a in range(20):\n",
    "    g=int(input(f\"Enter grades of sub {a}= \"))+g\n",
    "g=g/20\n",
    "print(f\"\\nAverage of grades = {g}\")"
   ]
  },
  {
   "cell_type": "code",
   "execution_count": null,
   "metadata": {},
   "outputs": [],
   "source": []
  }
 ],
 "metadata": {
  "kernelspec": {
   "display_name": "Python 3",
   "language": "python",
   "name": "python3"
  },
  "language_info": {
   "codemirror_mode": {
    "name": "ipython",
    "version": 3
   },
   "file_extension": ".py",
   "mimetype": "text/x-python",
   "name": "python",
   "nbconvert_exporter": "python",
   "pygments_lexer": "ipython3",
   "version": "3.7.4"
  }
 },
 "nbformat": 4,
 "nbformat_minor": 2
}
