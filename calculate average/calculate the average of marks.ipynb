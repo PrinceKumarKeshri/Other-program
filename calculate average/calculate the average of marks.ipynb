{
 "cells": [
  {
   "cell_type": "code",
   "execution_count": 1,
   "metadata": {},
   "outputs": [
    {
     "name": "stdout",
     "output_type": "stream",
     "text": [
      "Enter grades of sub 0= 43\n",
      "Enter grades of sub 1= 435\n",
      "Enter grades of sub 2= 345\n",
      "Enter grades of sub 3= 34\n",
      "Enter grades of sub 4= 345\n",
      "Enter grades of sub 5= 2\n",
      "Enter grades of sub 6= 324\n",
      "Enter grades of sub 7= 34\n",
      "Enter grades of sub 8= 34\n",
      "Enter grades of sub 9= 345\n",
      "Enter grades of sub 10= 2\n",
      "Enter grades of sub 11= 4\n",
      "Enter grades of sub 12= 23\n",
      "Enter grades of sub 13= 5\n",
      "Enter grades of sub 14= 4\n",
      "Enter grades of sub 15= 45\n",
      "Enter grades of sub 16= 45\n",
      "Enter grades of sub 17= 24\n",
      "Enter grades of sub 18= 2\n",
      "Enter grades of sub 19= 2\n",
      "Average of grades = 104.85\n"
     ]
    }
   ],
   "source": [
    "\n",
    "\n",
    "g=0\n",
    "for a in range(20):\n",
    "    g=int(input(f\"Enter grades of sub {a}= \"))+g\n",
    "g=g/20\n",
    "print(f\"Average of grades = {g}\")"
   ]
  },
  {
   "cell_type": "markdown",
   "metadata": {},
   "source": [
    "##### ############# fmjnf"
   ]
  },
  {
   "cell_type": "code",
   "execution_count": null,
   "metadata": {},
   "outputs": [],
   "source": []
  }
 ],
 "metadata": {
  "kernelspec": {
   "display_name": "Python 3",
   "language": "python",
   "name": "python3"
  },
  "language_info": {
   "codemirror_mode": {
    "name": "ipython",
    "version": 3
   },
   "file_extension": ".py",
   "mimetype": "text/x-python",
   "name": "python",
   "nbconvert_exporter": "python",
   "pygments_lexer": "ipython3",
   "version": "3.7.4"
  }
 },
 "nbformat": 4,
 "nbformat_minor": 2
}
