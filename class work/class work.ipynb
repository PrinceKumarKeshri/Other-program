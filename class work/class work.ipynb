{
 "cells": [
  {
   "cell_type": "markdown",
   "metadata": {},
   "source": [
    "%%"
   ]
  },
  {
   "cell_type": "code",
   "execution_count": 2,
   "metadata": {},
   "outputs": [
    {
     "name": "stdout",
     "output_type": "stream",
     "text": [
      "Writing abc.txt\n"
     ]
    }
   ],
   "source": [
    "%%writefile abc.txt\n",
    "this is my first line\n",
    "this is my second line\n",
    "this is my third line"
   ]
  },
  {
   "cell_type": "raw",
   "metadata": {},
   "source": []
  },
  {
   "cell_type": "code",
   "execution_count": 7,
   "metadata": {},
   "outputs": [],
   "source": [
    "abc=open('abc.txt')"
   ]
  },
  {
   "cell_type": "code",
   "execution_count": 9,
   "metadata": {},
   "outputs": [
    {
     "data": {
      "text/plain": [
       "''"
      ]
     },
     "execution_count": 9,
     "metadata": {},
     "output_type": "execute_result"
    }
   ],
   "source": [
    "abc.read()"
   ]
  },
  {
   "cell_type": "code",
   "execution_count": 11,
   "metadata": {},
   "outputs": [
    {
     "data": {
      "text/plain": [
       "0"
      ]
     },
     "execution_count": 11,
     "metadata": {},
     "output_type": "execute_result"
    }
   ],
   "source": [
    "abc.seek(0)"
   ]
  },
  {
   "cell_type": "code",
   "execution_count": 12,
   "metadata": {},
   "outputs": [
    {
     "data": {
      "text/plain": [
       "['this is my first line\\n',\n",
       " 'this is my second line\\n',\n",
       " 'this is my third line\\n']"
      ]
     },
     "execution_count": 12,
     "metadata": {},
     "output_type": "execute_result"
    }
   ],
   "source": [
    "abc.readlines()"
   ]
  },
  {
   "cell_type": "code",
   "execution_count": 15,
   "metadata": {},
   "outputs": [],
   "source": [
    "abc.close()"
   ]
  },
  {
   "cell_type": "code",
   "execution_count": 27,
   "metadata": {},
   "outputs": [
    {
     "name": "stdout",
     "output_type": "stream",
     "text": [
      "name=prince\n",
      "age=20\n",
      "salary=25000\n",
      "marrital_status==0\n",
      "Not married\n",
      "marrital_status==1\n",
      "married\n"
     ]
    }
   ],
   "source": [
    "print(\"name=prince\")\n",
    "print(\"age=20\")\n",
    "print(\"salary=25000\")\n",
    "print(\"marrital_status==0\")\n",
    "print(\"Not married\")\n",
    "print(\"marrital_status==1\")\n",
    "print(\"married\")\n"
   ]
  },
  {
   "cell_type": "code",
   "execution_count": 21,
   "metadata": {},
   "outputs": [
    {
     "name": "stdout",
     "output_type": "stream",
     "text": [
      "name=prince\n"
     ]
    }
   ],
   "source": [
    "print(\"name=prince\")"
   ]
  },
  {
   "cell_type": "markdown",
   "metadata": {},
   "source": []
  },
  {
   "cell_type": "code",
   "execution_count": 5,
   "metadata": {},
   "outputs": [
    {
     "name": "stdout",
     "output_type": "stream",
     "text": [
      "hello ravi\n",
      "your age is 25\n"
     ]
    }
   ],
   "source": [
    "print(\"hello\",\"ravi\")\n",
    "print(\"your age is\",int(25))"
   ]
  },
  {
   "cell_type": "code",
   "execution_count": 7,
   "metadata": {},
   "outputs": [
    {
     "name": "stdout",
     "output_type": "stream",
     "text": [
      "Total number of employee data input = 4\n",
      "Employee number : 12\n",
      "Employee name : prince\n",
      "Employee salary : 2300\n",
      "\n",
      "Employee number : 13\n",
      "Employee name : rajat\n",
      "Employee salary : 4300\n",
      "\n",
      "Employee number : 14\n",
      "Employee name : dhruv\n",
      "Employee salary : 3000\n",
      "\n",
      "Employee number : 15\n",
      "Employee name : \n",
      "Employee salary : 4000\n",
      "\n"
     ]
    }
   ],
   "source": [
    "n=int(input(\"Total number of employee data input = \"))\n",
    "for e in range(n):     \n",
    "    eno=int(input(\"Employee number : \"))\n",
    "    enam=input(\"Employee name : \")\n",
    "    esal=float(input(\"Employee salary : \"))\n",
    "    print()"
   ]
  },
  {
   "cell_type": "code",
   "execution_count": 1,
   "metadata": {},
   "outputs": [
    {
     "name": "stdout",
     "output_type": "stream",
     "text": [
      "Total number of employee data input = 2\n",
      "Employee number : 15\n",
      "Employee name : rajat\n",
      "Employee salary : 40000\n",
      "\n",
      "Employee number : 16\n",
      "Employee name : dhruv\n",
      "Employee salary : 45000\n",
      "\n",
      "Employee Data : 1\n"
     ]
    },
    {
     "ename": "TypeError",
     "evalue": "'int' object is not subscriptable",
     "output_type": "error",
     "traceback": [
      "\u001b[1;31m---------------------------------------------------------------------------\u001b[0m",
      "\u001b[1;31mTypeError\u001b[0m                                 Traceback (most recent call last)",
      "\u001b[1;32m<ipython-input-1-c8e4dc09b649>\u001b[0m in \u001b[0;36m<module>\u001b[1;34m\u001b[0m\n\u001b[0;32m      6\u001b[0m     \u001b[0mprint\u001b[0m\u001b[1;33m(\u001b[0m\u001b[1;33m)\u001b[0m\u001b[1;33m\u001b[0m\u001b[1;33m\u001b[0m\u001b[0m\n\u001b[0;32m      7\u001b[0m \u001b[0md\u001b[0m\u001b[1;33m=\u001b[0m\u001b[0mint\u001b[0m\u001b[1;33m(\u001b[0m\u001b[0minput\u001b[0m\u001b[1;33m(\u001b[0m\u001b[1;34m\"Employee Data : \"\u001b[0m\u001b[1;33m)\u001b[0m\u001b[1;33m)\u001b[0m\u001b[1;33m\u001b[0m\u001b[1;33m\u001b[0m\u001b[0m\n\u001b[1;32m----> 8\u001b[1;33m \u001b[0mprint\u001b[0m\u001b[1;33m(\u001b[0m\u001b[0me\u001b[0m\u001b[1;33m[\u001b[0m\u001b[0md\u001b[0m\u001b[1;33m]\u001b[0m\u001b[1;33m)\u001b[0m\u001b[1;33m\u001b[0m\u001b[1;33m\u001b[0m\u001b[0m\n\u001b[0m",
      "\u001b[1;31mTypeError\u001b[0m: 'int' object is not subscriptable"
     ]
    }
   ],
   "source": [
    "n=int(input(\"Total number of employee data input = \"))\n",
    "for e in range(n):     \n",
    "    eno=int(input(\"Employee number : \"))\n",
    "    enam=input(\"Employee name : \")\n",
    "    esal=float(input(\"Employee salary : \"))\n",
    "    print()\n",
    "d=int(input(\"Employee Data : \"))\n",
    "print(e[d])"
   ]
  },
  {
   "cell_type": "code",
   "execution_count": 2,
   "metadata": {},
   "outputs": [
    {
     "name": "stdout",
     "output_type": "stream",
     "text": [
      "Total number of employee data input = 2\n",
      "Employee number : 3\n",
      "Employee name : rajat\n",
      "Employee salary : 30000\n",
      "lis0\n",
      "Employee number : 3\n",
      "Employee name : dhruv\n",
      "Employee salary : 40000\n",
      "lis1\n",
      "Employee Data : 1\n",
      "dhruv\n"
     ]
    }
   ],
   "source": [
    "n=int(input(\"Total number of employee data input = \"))\n",
    "for e in range(n):\n",
    "    lis=[]\n",
    "    lis.append(int(input(\"Employee number : \")))\n",
    "    lis.append(input(\"Employee name : \"))\n",
    "    lis.append(float(input(\"Employee salary : \")))\n",
    "    print(f'lis{e}')\n",
    "d=int(input(\"Employee Data : \"))\n",
    "print(lis[d])"
   ]
  },
  {
   "cell_type": "code",
   "execution_count": 13,
   "metadata": {},
   "outputs": [
    {
     "name": "stdout",
     "output_type": "stream",
     "text": [
      "Total number of employee data input = 2\n",
      "Employee number : 23\n",
      "Employee name : hjghj\n",
      "Employee salary : 656\n",
      "lis0=[23, 'hjghj', 656.0]\n",
      "Employee number : 46\n",
      "Employee name : fyhgh\n",
      "Employee salary : 67\n",
      "lis1=[46, 'fyhgh', 67.0]\n",
      "Employee Data : 0\n"
     ]
    },
    {
     "ename": "NameError",
     "evalue": "name 'lis0' is not defined",
     "output_type": "error",
     "traceback": [
      "\u001b[1;31m---------------------------------------------------------------------------\u001b[0m",
      "\u001b[1;31mNameError\u001b[0m                                 Traceback (most recent call last)",
      "\u001b[1;32m<ipython-input-13-bb359d15b640>\u001b[0m in \u001b[0;36m<module>\u001b[1;34m\u001b[0m\n\u001b[0;32m      7\u001b[0m     \u001b[0mprint\u001b[0m\u001b[1;33m(\u001b[0m\u001b[1;34mf'lis{e}={lis}'\u001b[0m\u001b[1;33m)\u001b[0m\u001b[1;33m\u001b[0m\u001b[1;33m\u001b[0m\u001b[0m\n\u001b[0;32m      8\u001b[0m \u001b[0md\u001b[0m\u001b[1;33m=\u001b[0m\u001b[0mint\u001b[0m\u001b[1;33m(\u001b[0m\u001b[0minput\u001b[0m\u001b[1;33m(\u001b[0m\u001b[1;34m\"Employee Data : \"\u001b[0m\u001b[1;33m)\u001b[0m\u001b[1;33m)\u001b[0m\u001b[1;33m\u001b[0m\u001b[1;33m\u001b[0m\u001b[0m\n\u001b[1;32m----> 9\u001b[1;33m \u001b[0mprint\u001b[0m\u001b[1;33m(\u001b[0m\u001b[0mlis0\u001b[0m\u001b[1;33m)\u001b[0m\u001b[1;33m\u001b[0m\u001b[1;33m\u001b[0m\u001b[0m\n\u001b[0m",
      "\u001b[1;31mNameError\u001b[0m: name 'lis0' is not defined"
     ]
    }
   ],
   "source": [
    "n=int(input(\"Total number of employee data input = \"))\n",
    "for e in range(n):\n",
    "    lis=[]\n",
    "    lis.append(int(input(\"Employee number : \")))\n",
    "    lis.append(input(\"Employee name : \"))\n",
    "    lis.append(float(input(\"Employee salary : \")))\n",
    "    print(f'lis{e}={lis}')\n",
    "d=int(input(\"Employee Data : \"))\n",
    "print(lis0)"
   ]
  },
  {
   "cell_type": "code",
   "execution_count": 14,
   "metadata": {},
   "outputs": [
    {
     "name": "stdout",
     "output_type": "stream",
     "text": [
      "Total number of employee data input = 1\n",
      "Employee number : 1\n",
      "Employee name : ert\n",
      "Employee salary : 4565\n",
      "lis0=[[], 'fyhgh', 67.0, 1, 'ert', 4565.0]\n",
      "Employee Data : 1\n"
     ]
    },
    {
     "ename": "NameError",
     "evalue": "name 'lis0' is not defined",
     "output_type": "error",
     "traceback": [
      "\u001b[1;31m---------------------------------------------------------------------------\u001b[0m",
      "\u001b[1;31mNameError\u001b[0m                                 Traceback (most recent call last)",
      "\u001b[1;32m<ipython-input-14-c4e44aec4618>\u001b[0m in \u001b[0;36m<module>\u001b[1;34m\u001b[0m\n\u001b[0;32m      7\u001b[0m     \u001b[0mprint\u001b[0m\u001b[1;33m(\u001b[0m\u001b[1;34mf'lis{e}={lis}'\u001b[0m\u001b[1;33m)\u001b[0m\u001b[1;33m\u001b[0m\u001b[1;33m\u001b[0m\u001b[0m\n\u001b[0;32m      8\u001b[0m \u001b[0md\u001b[0m\u001b[1;33m=\u001b[0m\u001b[0mint\u001b[0m\u001b[1;33m(\u001b[0m\u001b[0minput\u001b[0m\u001b[1;33m(\u001b[0m\u001b[1;34m\"Employee Data : \"\u001b[0m\u001b[1;33m)\u001b[0m\u001b[1;33m)\u001b[0m\u001b[1;33m\u001b[0m\u001b[1;33m\u001b[0m\u001b[0m\n\u001b[1;32m----> 9\u001b[1;33m \u001b[0mprint\u001b[0m\u001b[1;33m(\u001b[0m\u001b[0mlis0\u001b[0m\u001b[1;33m)\u001b[0m\u001b[1;33m\u001b[0m\u001b[1;33m\u001b[0m\u001b[0m\n\u001b[0m",
      "\u001b[1;31mNameError\u001b[0m: name 'lis0' is not defined"
     ]
    }
   ],
   "source": [
    "n=int(input(\"Total number of employee data input = \"))\n",
    "for e in range(n):\n",
    "    lis[e]=[]\n",
    "    lis.append(int(input(\"Employee number : \")))\n",
    "    lis.append(input(\"Employee name : \"))\n",
    "    lis.append(float(input(\"Employee salary : \")))\n",
    "    print(f'lis{e}={lis}')\n",
    "d=int(input(\"Employee Data : \"))\n",
    "print(lis0)"
   ]
  },
  {
   "cell_type": "code",
   "execution_count": null,
   "metadata": {},
   "outputs": [],
   "source": []
  },
  {
   "cell_type": "code",
   "execution_count": null,
   "metadata": {},
   "outputs": [],
   "source": []
  },
  {
   "cell_type": "code",
   "execution_count": null,
   "metadata": {},
   "outputs": [],
   "source": []
  },
  {
   "cell_type": "code",
   "execution_count": null,
   "metadata": {},
   "outputs": [],
   "source": []
  },
  {
   "cell_type": "code",
   "execution_count": 4,
   "metadata": {},
   "outputs": [
    {
     "data": {
      "text/plain": [
       "[7]"
      ]
     },
     "execution_count": 4,
     "metadata": {},
     "output_type": "execute_result"
    }
   ],
   "source": [
    "l=[]\n",
    "l.append(7)\n",
    "l"
   ]
  },
  {
   "cell_type": "code",
   "execution_count": 9,
   "metadata": {},
   "outputs": [
    {
     "name": "stdout",
     "output_type": "stream",
     "text": [
      "hj:78\n",
      "gfgh89.89\n"
     ]
    },
    {
     "data": {
      "text/plain": [
       "[78, 89.89]"
      ]
     },
     "execution_count": 9,
     "metadata": {},
     "output_type": "execute_result"
    }
   ],
   "source": [
    "l=[]\n",
    "l.append(int(input(\"hj:\")))\n",
    "l.append(float(input(\"gfgh\")))\n",
    "l"
   ]
  },
  {
   "cell_type": "code",
   "execution_count": null,
   "metadata": {},
   "outputs": [],
   "source": []
  }
 ],
 "metadata": {
  "kernelspec": {
   "display_name": "Python 3",
   "language": "python",
   "name": "python3"
  }
 },
 "nbformat": 4,
 "nbformat_minor": 2
}
