{
 "cells": [
  {
   "cell_type": "code",
   "execution_count": 2,
   "metadata": {},
   "outputs": [
    {
     "name": "stdout",
     "output_type": "stream",
     "text": [
      "exam_st_date :  2020/04/01\n",
      "The examination will start from :  2020/04/01\n"
     ]
    }
   ],
   "source": [
    "import datetime\n",
    "now=datetime.datetime.now().strftime('%Y/%m/%d')\n",
    "print(\"exam_st_date : \",now)\n",
    "print(\"The examination will start from : \",now)"
   ]
  },
  {
   "cell_type": "code",
   "execution_count": 3,
   "metadata": {},
   "outputs": [
    {
     "name": "stdout",
     "output_type": "stream",
     "text": [
      "The examination will start from : 2019-05-26\n"
     ]
    }
   ],
   "source": [
    "import datetime\n",
    "exam_st_date=datetime.date(2019,5,26)\n",
    "print(\"The examination will start from :\",exam_st_date)"
   ]
  },
  {
   "cell_type": "code",
   "execution_count": 4,
   "metadata": {},
   "outputs": [
    {
     "name": "stdout",
     "output_type": "stream",
     "text": [
      "The examination will start from : 11 / 12 / 2014\n"
     ]
    }
   ],
   "source": [
    "exam_st_date = (11,12,2014)\n",
    "print( \"The examination will start from : %i / %i / %i\"%exam_st_date)"
   ]
  },
  {
   "cell_type": "code",
   "execution_count": 6,
   "metadata": {},
   "outputs": [
    {
     "name": "stdout",
     "output_type": "stream",
     "text": [
      "2019/06/12\n",
      "The examination will start from : 2019/06/12\n"
     ]
    }
   ],
   "source": [
    "exam_st_date=input(\"\")\n",
    "print( f\"The examination will start from : {exam_st_date}\")"
   ]
  },
  {
   "cell_type": "code",
   "execution_count": 9,
   "metadata": {},
   "outputs": [
    {
     "name": "stdout",
     "output_type": "stream",
     "text": [
      "The examination will start from : 2019/12/23\n"
     ]
    }
   ],
   "source": [
    "v=input(\"The examination will start from : \")"
   ]
  },
  {
   "cell_type": "code",
   "execution_count": 13,
   "metadata": {},
   "outputs": [
    {
     "name": "stdout",
     "output_type": "stream",
     "text": [
      "Sample value of n = 4\n",
      "Total sum = 84\n"
     ]
    }
   ],
   "source": [
    "n=int(input(\"Sample value of n = \"))\n",
    "n=n+n*n+n*n*n+n*n*n\n",
    "print(f\"Total sum = {n}\")"
   ]
  },
  {
   "cell_type": "code",
   "execution_count": null,
   "metadata": {},
   "outputs": [],
   "source": []
  }
 ],
 "metadata": {
  "kernelspec": {
   "display_name": "Python 3",
   "language": "python",
   "name": "python3"
  },
  "language_info": {
   "codemirror_mode": {
    "name": "ipython",
    "version": 3
   },
   "file_extension": ".py",
   "mimetype": "text/x-python",
   "name": "python",
   "nbconvert_exporter": "python",
   "pygments_lexer": "ipython3",
   "version": "3.7.4"
  }
 },
 "nbformat": 4,
 "nbformat_minor": 2
}
