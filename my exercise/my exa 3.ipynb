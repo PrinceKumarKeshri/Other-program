{
 "cells": [
  {
   "cell_type": "code",
   "execution_count": 9,
   "metadata": {},
   "outputs": [
    {
     "name": "stdout",
     "output_type": "stream",
     "text": [
      "exam_st_date :  2020/05/09\n",
      "The examination will start from :  2020/05/09\n"
     ]
    }
   ],
   "source": [
    "import datetime\n",
    "now=datetime.datetime.now().strftime('%Y/%m/%d')\n",
    "print(\"exam_st_date : \",now)\n",
    "print(\"The examination will start from : \",now)"
   ]
  },
  {
   "cell_type": "code",
   "execution_count": 3,
   "metadata": {},
   "outputs": [
    {
     "name": "stdout",
     "output_type": "stream",
     "text": [
      "The examination will start from : 2019-05-26\n"
     ]
    }
   ],
   "source": [
    "import datetime\n",
    "exam_st_date=datetime.date(2019,5,26)\n",
    "print(\"The examination will start from :\",exam_st_date)"
   ]
  },
  {
   "cell_type": "code",
   "execution_count": 4,
   "metadata": {},
   "outputs": [
    {
     "name": "stdout",
     "output_type": "stream",
     "text": [
      "The examination will start from : 11 / 12 / 2014\n"
     ]
    }
   ],
   "source": [
    "exam_st_date = (11,12,2014)\n",
    "print( \"The examination will start from : %i / %i / %i\"%exam_st_date)"
   ]
  },
  {
   "cell_type": "code",
   "execution_count": 10,
   "metadata": {},
   "outputs": [
    {
     "name": "stdout",
     "output_type": "stream",
     "text": [
      "31/1/2020\n",
      "The examination will start from : 31/1/2020\n"
     ]
    }
   ],
   "source": [
    "exam_st_date=input(\"\")\n",
    "print( f\"The examination will start from : {exam_st_date}\")"
   ]
  },
  {
   "cell_type": "code",
   "execution_count": 2,
   "metadata": {},
   "outputs": [
    {
     "name": "stdout",
     "output_type": "stream",
     "text": [
      "The examination will start from : 12/05/2019\n"
     ]
    }
   ],
   "source": [
    "v=input(\"The examination will start from : \")"
   ]
  },
  {
   "cell_type": "code",
   "execution_count": 3,
   "metadata": {},
   "outputs": [
    {
     "name": "stdout",
     "output_type": "stream",
     "text": [
      "Sample value of n = 5\n",
      "Total sum = 280\n"
     ]
    }
   ],
   "source": [
    "n=int(input(\"Sample value of n = \"))\n",
    "n=n+n*n+n*n*n+n*n*n\n",
    "print(f\"Total sum = {n}\")"
   ]
  },
  {
   "cell_type": "code",
   "execution_count": 4,
   "metadata": {},
   "outputs": [
    {
     "name": "stdout",
     "output_type": "stream",
     "text": [
      "Sample value of n = 5\n",
      "Total value of b = 615\n"
     ]
    }
   ],
   "source": [
    "n=int(input(\"Sample value of n = \"))\n",
    "b=n+(n*10+n)+((n*100)+(n*10)+n)\n",
    "print(f\"Total value of b = {b}\")"
   ]
  },
  {
   "cell_type": "code",
   "execution_count": 12,
   "metadata": {},
   "outputs": [
    {
     "data": {
      "text/plain": [
       "234.3"
      ]
     },
     "execution_count": 12,
     "metadata": {},
     "output_type": "execute_result"
    }
   ],
   "source": [
    "abs(234.3)"
   ]
  },
  {
   "cell_type": "code",
   "execution_count": 13,
   "metadata": {},
   "outputs": [
    {
     "data": {
      "text/plain": [
       "234"
      ]
     },
     "execution_count": 13,
     "metadata": {},
     "output_type": "execute_result"
    }
   ],
   "source": [
    "abs(234)"
   ]
  },
  {
   "cell_type": "code",
   "execution_count": 14,
   "metadata": {},
   "outputs": [
    {
     "data": {
      "text/plain": [
       "344444.56"
      ]
     },
     "execution_count": 14,
     "metadata": {},
     "output_type": "execute_result"
    }
   ],
   "source": [
    "abs(344444.56)"
   ]
  },
  {
   "cell_type": "code",
   "execution_count": 16,
   "metadata": {},
   "outputs": [
    {
     "data": {
      "text/plain": [
       "332.6"
      ]
     },
     "execution_count": 16,
     "metadata": {},
     "output_type": "execute_result"
    }
   ],
   "source": [
    "abs(332.6)"
   ]
  },
  {
   "cell_type": "code",
   "execution_count": 17,
   "metadata": {},
   "outputs": [
    {
     "data": {
      "text/plain": [
       "332.6"
      ]
     },
     "execution_count": 17,
     "metadata": {},
     "output_type": "execute_result"
    }
   ],
   "source": [
    "abs(332.60)"
   ]
  },
  {
   "cell_type": "code",
   "execution_count": 24,
   "metadata": {},
   "outputs": [
    {
     "data": {
      "text/plain": [
       "322.99"
      ]
     },
     "execution_count": 24,
     "metadata": {},
     "output_type": "execute_result"
    }
   ],
   "source": [
    "abs(322.99)"
   ]
  },
  {
   "cell_type": "code",
   "execution_count": 26,
   "metadata": {},
   "outputs": [
    {
     "data": {
      "text/plain": [
       "323.0"
      ]
     },
     "execution_count": 26,
     "metadata": {},
     "output_type": "execute_result"
    }
   ],
   "source": [
    "abs(323.0)"
   ]
  },
  {
   "cell_type": "code",
   "execution_count": 9,
   "metadata": {},
   "outputs": [
    {
     "data": {
      "text/plain": [
       "32234"
      ]
     },
     "execution_count": 9,
     "metadata": {},
     "output_type": "execute_result"
    }
   ],
   "source": [
    "abs(-32234)"
   ]
  },
  {
   "cell_type": "code",
   "execution_count": 11,
   "metadata": {},
   "outputs": [
    {
     "data": {
      "text/plain": [
       "2423"
      ]
     },
     "execution_count": 11,
     "metadata": {},
     "output_type": "execute_result"
    }
   ],
   "source": [
    "abs(-(-(-2423)))"
   ]
  },
  {
   "cell_type": "code",
   "execution_count": null,
   "metadata": {},
   "outputs": [],
   "source": []
  },
  {
   "cell_type": "code",
   "execution_count": 27,
   "metadata": {},
   "outputs": [
    {
     "data": {
      "text/plain": [
       "323.0"
      ]
     },
     "execution_count": 27,
     "metadata": {},
     "output_type": "execute_result"
    }
   ],
   "source": [
    "abs(323.00)"
   ]
  },
  {
   "cell_type": "code",
   "execution_count": 2,
   "metadata": {},
   "outputs": [
    {
     "name": "stdout",
     "output_type": "stream",
     "text": [
      "Enter the year which you want to be find  = 2020\n",
      "\n",
      "\n",
      "Enter the month which you want to be find = 5\n",
      "\n",
      "\n",
      "      May 2020\n",
      "Mo Tu We Th Fr Sa Su\n",
      "             1  2  3\n",
      " 4  5  6  7  8  9 10\n",
      "11 12 13 14 15 16 17\n",
      "18 19 20 21 22 23 24\n",
      "25 26 27 28 29 30 31\n",
      "\n"
     ]
    }
   ],
   "source": [
    "import calendar\n",
    "y=int(input(\"Enter the year which you want to be find  = \"))\n",
    "print('\\n')\n",
    "m=int(input(\"Enter the month which you want to be find = \"))\n",
    "print('\\n')\n",
    "print(calendar.month(y,m))"
   ]
  },
  {
   "cell_type": "code",
   "execution_count": 3,
   "metadata": {},
   "outputs": [
    {
     "name": "stdout",
     "output_type": "stream",
     "text": [
      "a string that you \"don't\" have to\n",
      "escape\n",
      "This\n",
      "is a ....... multi-line\n",
      "heredoc string --------> example\n"
     ]
    }
   ],
   "source": [
    "print(\"\"\"a string that you \"don't\" have to\\nescape\\nThis\\nis a ....... multi-line\\nheredoc string --------> example\"\"\")"
   ]
  },
  {
   "cell_type": "code",
   "execution_count": 1,
   "metadata": {},
   "outputs": [
    {
     "name": "stdout",
     "output_type": "stream",
     "text": [
      "\n",
      "\n",
      "Enter initial(year, month, date) and final(year,month,date) = 2020,5,11,2020,5,26\n",
      "\n",
      "\n",
      "Initial date = 2020/5/11\n",
      "\n",
      "Final   date = 2020/5/26\n",
      "\n",
      "Total no. of days = 15 days, 0:00:00\n",
      "\n"
     ]
    }
   ],
   "source": [
    "import datetime\n",
    "print('\\n')\n",
    "n=list(map(int,input('Enter initial(year, month, date) and final(year,month,date) = ').split(',')))\n",
    "print('\\n')\n",
    "print(f'Initial date = {n[0]}/{n[1]}/{n[2]}\\n')\n",
    "print(f'Final   date = {n[3]}/{n[4]}/{n[5]}\\n')\n",
    "now=datetime.date(n[0],n[1],n[2])\n",
    "now1=datetime.date(n[3],n[4],n[5])\n",
    "no_of_days=now1-now\n",
    "print(f\"Total no. of days = {no_of_days}\\n\")"
   ]
  },
  {
   "cell_type": "code",
   "execution_count": 3,
   "metadata": {},
   "outputs": [
    {
     "name": "stdout",
     "output_type": "stream",
     "text": [
      "Radius of The sphere = 1\n",
      "volume of the sphere = 4.1866666666666665\n"
     ]
    }
   ],
   "source": [
    "rad=int(input('Radius of The sphere = '))\n",
    "vol=(4/3)*3.14*(rad**3)\n",
    "print(f'volume of the sphere = {vol}')"
   ]
  },
  {
   "cell_type": "code",
   "execution_count": 12,
   "metadata": {},
   "outputs": [
    {
     "name": "stdout",
     "output_type": "stream",
     "text": [
      "Given number = 1\n",
      "16\n"
     ]
    }
   ],
   "source": [
    "giv_num=int(input('Given number = '))\n",
    "diff=giv_num-17\n",
    "if diff<=17:\n",
    "    print(abs(diff))\n",
    "elif diff>17:\n",
    "    print(abs(diff*2))\n",
    "    "
   ]
  },
  {
   "cell_type": "code",
   "execution_count": 42,
   "metadata": {},
   "outputs": [
    {
     "name": "stdout",
     "output_type": "stream",
     "text": [
      "Number = 565\n"
     ]
    }
   ],
   "source": [
    "nu=int(input('Number = '))\n",
    "def check(nu):\n",
    "    return ((abs(1000-nu)<=100) or (abs(2000-nu)<=100))"
   ]
  },
  {
   "cell_type": "code",
   "execution_count": 43,
   "metadata": {},
   "outputs": [
    {
     "data": {
      "text/plain": [
       "False"
      ]
     },
     "execution_count": 43,
     "metadata": {},
     "output_type": "execute_result"
    }
   ],
   "source": [
    "check(nu)"
   ]
  },
  {
   "cell_type": "code",
   "execution_count": 44,
   "metadata": {},
   "outputs": [],
   "source": [
    "\n",
    "def check(nu):\n",
    "    nu=int(input('Number = '))\n",
    "    return ((abs(1000-nu)<=100) or (abs(2000-nu)<=100))"
   ]
  },
  {
   "cell_type": "code",
   "execution_count": 45,
   "metadata": {},
   "outputs": [
    {
     "name": "stdout",
     "output_type": "stream",
     "text": [
      "Number = 577\n"
     ]
    },
    {
     "data": {
      "text/plain": [
       "False"
      ]
     },
     "execution_count": 45,
     "metadata": {},
     "output_type": "execute_result"
    }
   ],
   "source": [
    "check(nu)"
   ]
  },
  {
   "cell_type": "code",
   "execution_count": 48,
   "metadata": {},
   "outputs": [],
   "source": [
    "def near_thousand(n):\n",
    "      return ((abs(1000 - n) <= 100) or (abs(2000 - n) <= 100))\n"
   ]
  },
  {
   "cell_type": "code",
   "execution_count": 49,
   "metadata": {},
   "outputs": [
    {
     "name": "stdout",
     "output_type": "stream",
     "text": [
      "True\n",
      "True\n",
      "False\n",
      "False\n"
     ]
    }
   ],
   "source": [
    "print(near_thousand(1000))\n",
    "print(near_thousand(900))\n",
    "print(near_thousand(800))   \n",
    "print(near_thousand(2200))\n"
   ]
  },
  {
   "cell_type": "code",
   "execution_count": 62,
   "metadata": {},
   "outputs": [],
   "source": [
    "def suth(n1,n2,n3):\n",
    "    print(f'Numbers = {n1}, {n2}, {n3}')\n",
    "    if n1!=n2!=n3 :\n",
    "        su=n1+n2+n3\n",
    "        print(f'Sum of numbers = {su}')\n",
    "    elif n1==n2==n3:\n",
    "        tot=(n1*3)*3\n",
    "        print(f'Sum of numbers = {tot}')\n",
    "        "
   ]
  },
  {
   "cell_type": "code",
   "execution_count": 63,
   "metadata": {},
   "outputs": [
    {
     "name": "stdout",
     "output_type": "stream",
     "text": [
      "Numbers = 2, 3, 4\n",
      "Sum of numbers = 9\n"
     ]
    }
   ],
   "source": [
    "suth(2,3,4)"
   ]
  },
  {
   "cell_type": "code",
   "execution_count": 65,
   "metadata": {},
   "outputs": [
    {
     "name": "stdout",
     "output_type": "stream",
     "text": [
      "Numbers = 4, 4, 4\n",
      "Sum of numbers = 36\n"
     ]
    }
   ],
   "source": [
    "suth(4,4,4)"
   ]
  },
  {
   "cell_type": "code",
   "execution_count": 63,
   "metadata": {},
   "outputs": [],
   "source": [
    "def is_add(s):\n",
    "    l=s.split(' ')\n",
    "    lisa=[]\n",
    "    if l[0]=='Is':\n",
    "        print('The string unchanged')\n",
    "    elif l[0]!='Is':\n",
    "        lisa.append('Is')\n",
    "        add=lisa+l\n",
    "        print(' '.join(add))"
   ]
  },
  {
   "cell_type": "code",
   "execution_count": 64,
   "metadata": {},
   "outputs": [
    {
     "name": "stdout",
     "output_type": "stream",
     "text": [
      "Is Hey! my name is prince\n"
     ]
    }
   ],
   "source": [
    "s='Hey! my name is prince'\n",
    "is_add(s)"
   ]
  },
  {
   "cell_type": "code",
   "execution_count": 65,
   "metadata": {},
   "outputs": [
    {
     "name": "stdout",
     "output_type": "stream",
     "text": [
      "The string unchanged\n"
     ]
    }
   ],
   "source": [
    "s='Is he palying good cricket ?'\n",
    "is_add(s)"
   ]
  },
  {
   "cell_type": "code",
   "execution_count": 68,
   "metadata": {
    "scrolled": true
   },
   "outputs": [
    {
     "name": "stdout",
     "output_type": "stream",
     "text": [
      "The string unchanged\n"
     ]
    }
   ],
   "source": [
    "s='is he palying good cricket ?'\n",
    "is_add(s)"
   ]
  },
  {
   "cell_type": "markdown",
   "metadata": {},
   "source": [
    "#### Method 2"
   ]
  },
  {
   "cell_type": "code",
   "execution_count": 69,
   "metadata": {},
   "outputs": [],
   "source": [
    "def is_add(s):\n",
    "    l=s.split(' ')\n",
    "    lisa=[]\n",
    "    if l[0].capitalize()=='Is':\n",
    "        print('The string unchanged')\n",
    "    elif l[0]!='Is':\n",
    "        lisa.append('Is')\n",
    "        add=lisa+l\n",
    "        print(' '.join(add))"
   ]
  },
  {
   "cell_type": "code",
   "execution_count": 70,
   "metadata": {},
   "outputs": [
    {
     "name": "stdout",
     "output_type": "stream",
     "text": [
      "The string unchanged\n"
     ]
    }
   ],
   "source": [
    "s='is he palying good cricket ?'\n",
    "is_add(s)"
   ]
  },
  {
   "cell_type": "code",
   "execution_count": null,
   "metadata": {},
   "outputs": [],
   "source": []
  },
  {
   "cell_type": "code",
   "execution_count": null,
   "metadata": {},
   "outputs": [],
   "source": []
  },
  {
   "cell_type": "markdown",
   "metadata": {},
   "source": [
    "#### Research for the above code"
   ]
  },
  {
   "cell_type": "code",
   "execution_count": 2,
   "metadata": {},
   "outputs": [],
   "source": [
    "j=[1,3,4,4,2]"
   ]
  },
  {
   "cell_type": "code",
   "execution_count": 3,
   "metadata": {},
   "outputs": [
    {
     "data": {
      "text/plain": [
       "[1, 3, 4, 4, 2, 34]"
      ]
     },
     "execution_count": 3,
     "metadata": {},
     "output_type": "execute_result"
    }
   ],
   "source": [
    "j.append(34)\n",
    "j"
   ]
  },
  {
   "cell_type": "code",
   "execution_count": 4,
   "metadata": {},
   "outputs": [
    {
     "data": {
      "text/plain": [
       "[1, 190, 3, 4, 4, 2, 34]"
      ]
     },
     "execution_count": 4,
     "metadata": {},
     "output_type": "execute_result"
    }
   ],
   "source": [
    "j.insert(j[0],190)\n",
    "j"
   ]
  },
  {
   "cell_type": "code",
   "execution_count": 5,
   "metadata": {},
   "outputs": [
    {
     "data": {
      "text/plain": [
       "[1, 190, 3, 4, 4, 2]"
      ]
     },
     "execution_count": 5,
     "metadata": {},
     "output_type": "execute_result"
    }
   ],
   "source": [
    "j.pop()\n",
    "j"
   ]
  },
  {
   "cell_type": "code",
   "execution_count": 6,
   "metadata": {},
   "outputs": [
    {
     "data": {
      "text/plain": [
       "[232233, 1, 190, 3, 4, 4, 2]"
      ]
     },
     "execution_count": 6,
     "metadata": {},
     "output_type": "execute_result"
    }
   ],
   "source": [
    "v=[232233]\n",
    "ne=v+j\n",
    "ne"
   ]
  },
  {
   "cell_type": "code",
   "execution_count": 7,
   "metadata": {},
   "outputs": [
    {
     "data": {
      "text/plain": [
       "[232233, 1, 190, 3, 4, 4, 2, 'fd']"
      ]
     },
     "execution_count": 7,
     "metadata": {},
     "output_type": "execute_result"
    }
   ],
   "source": [
    "ne.append('fd')\n",
    "ne"
   ]
  },
  {
   "cell_type": "code",
   "execution_count": 54,
   "metadata": {},
   "outputs": [
    {
     "data": {
      "text/plain": [
       "'Fd'"
      ]
     },
     "execution_count": 54,
     "metadata": {},
     "output_type": "execute_result"
    }
   ],
   "source": [
    "ne[7].capitalize()"
   ]
  },
  {
   "cell_type": "code",
   "execution_count": 75,
   "metadata": {},
   "outputs": [
    {
     "name": "stdout",
     "output_type": "stream",
     "text": [
      "abcabc\n",
      ".py.py.py\n"
     ]
    }
   ],
   "source": [
    "def larger_string(str, n):\n",
    "   result = \"\"\n",
    "   for i in range(n):\n",
    "      result = result + str\n",
    "   return result\n",
    "\n",
    "print(larger_string('abc', 2))\n",
    "print(larger_string('.py', 3))\n"
   ]
  },
  {
   "cell_type": "code",
   "execution_count": 78,
   "metadata": {},
   "outputs": [
    {
     "data": {
      "text/plain": [
       "'My name is prince My name is prince My name is prince '"
      ]
     },
     "execution_count": 78,
     "metadata": {},
     "output_type": "execute_result"
    }
   ],
   "source": [
    "\n",
    "larger_string('My name is prince ',3)"
   ]
  },
  {
   "cell_type": "code",
   "execution_count": 94,
   "metadata": {},
   "outputs": [
    {
     "name": "stdout",
     "output_type": "stream",
     "text": [
      "Given string : My name is prince \n",
      "Number of times you want to copy string = 5\n",
      "My name is prince My name is prince My name is prince My name is prince My name is prince \n"
     ]
    }
   ],
   "source": [
    "st=input('Given string : ')\n",
    "nm=int(input('Number of times you want to copy string = '))\n",
    "print(st*nm)\n"
   ]
  },
  {
   "cell_type": "code",
   "execution_count": 81,
   "metadata": {},
   "outputs": [
    {
     "name": "stdout",
     "output_type": "stream",
     "text": [
      "Number = 34\n",
      "Number is even\n"
     ]
    }
   ],
   "source": [
    "ni=int(input('Number = '))\n",
    "if ni%2==0:\n",
    "    print('Number is even')\n",
    "else:\n",
    "    print('Number is odd')"
   ]
  },
  {
   "cell_type": "code",
   "execution_count": 92,
   "metadata": {},
   "outputs": [
    {
     "name": "stdout",
     "output_type": "stream",
     "text": [
      "Enter the elements of list = 234,4,3,45,4,542,4,4,345,4,5\n",
      "\n",
      "\n",
      "mylist = [234, 4, 3, 45, 4, 542, 4, 4, 345, 4, 5]\n",
      "\n",
      "The number '4' in list = 5\n",
      "\n"
     ]
    }
   ],
   "source": [
    "nii=list(map(int,input('Enter the elements of list = ').split(',')))\n",
    "print('\\n')\n",
    "print(f'mylist = {nii}\\n')\n",
    "cot_fr=0\n",
    "for item in nii:\n",
    "    if item==4:\n",
    "        cot_fr=cot_fr+1\n",
    "print(f\"The number '4' in list = {cot_fr}\\n\")\n"
   ]
  },
  {
   "cell_type": "code",
   "execution_count": 97,
   "metadata": {},
   "outputs": [
    {
     "name": "stdout",
     "output_type": "stream",
     "text": [
      "My string : My name is prince\n",
      "Number of times you want to copy string = 5\n",
      "MyMyMyMyMy\n"
     ]
    }
   ],
   "source": [
    "stt=input('My string : ')\n",
    "n=int(input('Number of times you want to copy string = '))\n",
    "if len(stt)<2:\n",
    "    print(stt*n)\n",
    "else:\n",
    "    print(stt[0:2]*n)\n"
   ]
  },
  {
   "cell_type": "code",
   "execution_count": 98,
   "metadata": {},
   "outputs": [],
   "source": [
    "def n_ti():\n",
    "    stt=input('My string : ')\n",
    "    n=int(input('Number of times you want to copy string = '))\n",
    "    if len(stt)<2:\n",
    "        print(stt*n)\n",
    "    else:\n",
    "        print(stt[0:2]*n)\n"
   ]
  },
  {
   "cell_type": "code",
   "execution_count": 100,
   "metadata": {},
   "outputs": [
    {
     "name": "stdout",
     "output_type": "stream",
     "text": [
      "My string : i\n",
      "Number of times you want to copy string = 4\n",
      "iiii\n"
     ]
    }
   ],
   "source": [
    "n_ti()"
   ]
  },
  {
   "cell_type": "code",
   "execution_count": 118,
   "metadata": {},
   "outputs": [
    {
     "name": "stdout",
     "output_type": "stream",
     "text": [
      "Passed letter = F\n"
     ]
    },
    {
     "data": {
      "text/plain": [
       "False"
      ]
     },
     "execution_count": 118,
     "metadata": {},
     "output_type": "execute_result"
    }
   ],
   "source": [
    "pas_ltt=input('Passed letter = ')\n",
    "pas_ltt.lower() in 'aeiou'"
   ]
  },
  {
   "cell_type": "code",
   "execution_count": 115,
   "metadata": {},
   "outputs": [],
   "source": [
    "def plt():\n",
    "    pas_ltt=input('Passed letter = ')\n",
    "    return pas_ltt.lower() in 'aeiou'"
   ]
  },
  {
   "cell_type": "code",
   "execution_count": 116,
   "metadata": {},
   "outputs": [
    {
     "name": "stdout",
     "output_type": "stream",
     "text": [
      "Passed letter = A\n"
     ]
    },
    {
     "data": {
      "text/plain": [
       "True"
      ]
     },
     "execution_count": 116,
     "metadata": {},
     "output_type": "execute_result"
    }
   ],
   "source": [
    "plt()"
   ]
  },
  {
   "cell_type": "code",
   "execution_count": 4,
   "metadata": {},
   "outputs": [],
   "source": [
    "def chk_spv():\n",
    "    jojo=list(map(int,input('Enter the elements of list = ').split(',')))\n",
    "    print(f'My list =  {jojo}')\n",
    "    jo=int(input('Specified value contained in the list = '))\n",
    "    return jo in jojo"
   ]
  },
  {
   "cell_type": "code",
   "execution_count": 5,
   "metadata": {},
   "outputs": [
    {
     "name": "stdout",
     "output_type": "stream",
     "text": [
      "Enter the elements of list = 1,2,45,67,678,4,6,56\n",
      "My list =  [1, 2, 45, 67, 678, 4, 6, 56]\n",
      "Specified value contained in the list = -21\n"
     ]
    },
    {
     "data": {
      "text/plain": [
       "False"
      ]
     },
     "execution_count": 5,
     "metadata": {},
     "output_type": "execute_result"
    }
   ],
   "source": [
    "chk_spv()"
   ]
  },
  {
   "cell_type": "code",
   "execution_count": 7,
   "metadata": {},
   "outputs": [
    {
     "name": "stdout",
     "output_type": "stream",
     "text": [
      "Enter the elements of list = 1,2,45,67,678,4,6,56\n",
      "My list =  [1, 2, 45, 67, 678, 4, 6, 56]\n",
      "Specified value contained in the list = 67\n"
     ]
    },
    {
     "data": {
      "text/plain": [
       "True"
      ]
     },
     "execution_count": 7,
     "metadata": {},
     "output_type": "execute_result"
    }
   ],
   "source": [
    "chk_spv()"
   ]
  },
  {
   "cell_type": "code",
   "execution_count": 18,
   "metadata": {},
   "outputs": [],
   "source": [
    "def hiso():\n",
    "    s=input('Charachter to print = ')\n",
    "    print('\\nHistogram :-')\n",
    "    hisa=[2,3,6,5]\n",
    "    for item in hisa:\n",
    "        print(s*item)"
   ]
  },
  {
   "cell_type": "code",
   "execution_count": 51,
   "metadata": {},
   "outputs": [
    {
     "name": "stdout",
     "output_type": "stream",
     "text": [
      "Charachter to print = @\n",
      "\n",
      "Histogram :-\n",
      "@@\n",
      "@@@\n",
      "@@@@@@\n",
      "@@@@@\n"
     ]
    }
   ],
   "source": [
    "hiso()"
   ]
  },
  {
   "cell_type": "code",
   "execution_count": 49,
   "metadata": {},
   "outputs": [],
   "source": [
    "def concat():\n",
    "    n_li=list(map(chr,input('Enter the elements of list = ').split(',')))\n",
    "    print('\\n')\n",
    "    print(f'My list = {n_li}')\n",
    "    return ' '.join(n_li)"
   ]
  },
  {
   "cell_type": "code",
   "execution_count": 50,
   "metadata": {},
   "outputs": [
    {
     "name": "stdout",
     "output_type": "stream",
     "text": [
      "Enter the elements of list = a,s,d,f,g,h,j,k,l\n"
     ]
    },
    {
     "ename": "TypeError",
     "evalue": "an integer is required (got type str)",
     "output_type": "error",
     "traceback": [
      "\u001b[1;31m---------------------------------------------------------------------------\u001b[0m",
      "\u001b[1;31mTypeError\u001b[0m                                 Traceback (most recent call last)",
      "\u001b[1;32m<ipython-input-50-1070d480a9a9>\u001b[0m in \u001b[0;36m<module>\u001b[1;34m\u001b[0m\n\u001b[1;32m----> 1\u001b[1;33m \u001b[0mconcat\u001b[0m\u001b[1;33m(\u001b[0m\u001b[1;33m)\u001b[0m\u001b[1;33m\u001b[0m\u001b[1;33m\u001b[0m\u001b[0m\n\u001b[0m",
      "\u001b[1;32m<ipython-input-49-dfb6091445cb>\u001b[0m in \u001b[0;36mconcat\u001b[1;34m()\u001b[0m\n\u001b[0;32m      1\u001b[0m \u001b[1;32mdef\u001b[0m \u001b[0mconcat\u001b[0m\u001b[1;33m(\u001b[0m\u001b[1;33m)\u001b[0m\u001b[1;33m:\u001b[0m\u001b[1;33m\u001b[0m\u001b[1;33m\u001b[0m\u001b[0m\n\u001b[1;32m----> 2\u001b[1;33m     \u001b[0mn_li\u001b[0m\u001b[1;33m=\u001b[0m\u001b[0mlist\u001b[0m\u001b[1;33m(\u001b[0m\u001b[0mmap\u001b[0m\u001b[1;33m(\u001b[0m\u001b[0mchr\u001b[0m\u001b[1;33m,\u001b[0m\u001b[0minput\u001b[0m\u001b[1;33m(\u001b[0m\u001b[1;34m'Enter the elements of list = '\u001b[0m\u001b[1;33m)\u001b[0m\u001b[1;33m.\u001b[0m\u001b[0msplit\u001b[0m\u001b[1;33m(\u001b[0m\u001b[1;34m','\u001b[0m\u001b[1;33m)\u001b[0m\u001b[1;33m)\u001b[0m\u001b[1;33m)\u001b[0m\u001b[1;33m\u001b[0m\u001b[1;33m\u001b[0m\u001b[0m\n\u001b[0m\u001b[0;32m      3\u001b[0m     \u001b[0mprint\u001b[0m\u001b[1;33m(\u001b[0m\u001b[1;34m'\\n'\u001b[0m\u001b[1;33m)\u001b[0m\u001b[1;33m\u001b[0m\u001b[1;33m\u001b[0m\u001b[0m\n\u001b[0;32m      4\u001b[0m     \u001b[0mprint\u001b[0m\u001b[1;33m(\u001b[0m\u001b[1;34mf'My list = {n_li}'\u001b[0m\u001b[1;33m)\u001b[0m\u001b[1;33m\u001b[0m\u001b[1;33m\u001b[0m\u001b[0m\n\u001b[0;32m      5\u001b[0m     \u001b[1;32mreturn\u001b[0m \u001b[1;34m' '\u001b[0m\u001b[1;33m.\u001b[0m\u001b[0mjoin\u001b[0m\u001b[1;33m(\u001b[0m\u001b[0mn_li\u001b[0m\u001b[1;33m)\u001b[0m\u001b[1;33m\u001b[0m\u001b[1;33m\u001b[0m\u001b[0m\n",
      "\u001b[1;31mTypeError\u001b[0m: an integer is required (got type str)"
     ]
    }
   ],
   "source": [
    "concat()"
   ]
  },
  {
   "cell_type": "code",
   "execution_count": 54,
   "metadata": {},
   "outputs": [],
   "source": [
    "def concat():\n",
    "    n_li=list(map(str,input('Enter the elements of list = ').split(',')))\n",
    "    print('\\n')\n",
    "    print(f'My list = {n_li}')\n",
    "    return ' '.join(n_li)"
   ]
  },
  {
   "cell_type": "code",
   "execution_count": 55,
   "metadata": {},
   "outputs": [
    {
     "name": "stdout",
     "output_type": "stream",
     "text": [
      "Enter the elements of list = Hello,Prince!,I,am,your,presonal,assistant,'Lisa'\n",
      "\n",
      "\n",
      "My list = ['Hello', 'Prince!', 'I', 'am', 'your', 'presonal', 'assistant', \"'Lisa'\"]\n"
     ]
    },
    {
     "data": {
      "text/plain": [
       "\"Hello Prince! I am your presonal assistant 'Lisa'\""
      ]
     },
     "execution_count": 55,
     "metadata": {},
     "output_type": "execute_result"
    }
   ],
   "source": [
    "concat()"
   ]
  },
  {
   "cell_type": "code",
   "execution_count": 2,
   "metadata": {},
   "outputs": [
    {
     "name": "stdout",
     "output_type": "stream",
     "text": [
      "Beginning value  = 1\n",
      "Last value       = 1000\n",
      "\n",
      "\n",
      "8\n",
      "454\n",
      "354\n",
      "902\n",
      "116\n",
      "886\n",
      "500\n",
      "956\n",
      "88\n",
      "506\n",
      "738\n",
      "860\n",
      "324\n",
      "546\n",
      "958\n",
      "886\n",
      "394\n",
      "542\n",
      "874\n",
      "12\n",
      "40\n",
      "4\n",
      "510\n",
      "560\n",
      "424\n",
      "906\n",
      "658\n",
      "674\n",
      "126\n",
      "662\n",
      "744\n",
      "296\n",
      "958\n",
      "742\n",
      "166\n",
      "272\n",
      "288\n",
      "20\n",
      "624\n",
      "356\n",
      "30\n",
      "972\n",
      "564\n",
      "960\n",
      "848\n",
      "182\n",
      "446\n",
      "756\n",
      "548\n",
      "410\n",
      "282\n",
      "968\n",
      "134\n",
      "178\n",
      "64\n",
      "424\n",
      "918\n",
      "718\n",
      "84\n",
      "398\n",
      "292\n",
      "704\n",
      "986\n",
      "294\n",
      "932\n",
      "870\n",
      "588\n",
      "550\n",
      "424\n",
      "210\n",
      "984\n",
      "944\n",
      "492\n",
      "404\n",
      "686\n",
      "138\n",
      "750\n",
      "598\n",
      "620\n",
      "890\n",
      "448\n",
      "680\n",
      "564\n",
      "434\n",
      "668\n",
      "576\n",
      "732\n",
      "430\n",
      "836\n",
      "960\n",
      "320\n",
      "42\n",
      "818\n",
      "598\n",
      "264\n",
      "90\n",
      "194\n",
      "294\n",
      "842\n",
      "848\n",
      "268\n",
      "908\n",
      "540\n",
      "172\n",
      "960\n",
      "624\n",
      "474\n",
      "798\n",
      "402\n",
      "558\n",
      "388\n",
      "550\n",
      "630\n",
      "432\n",
      "354\n",
      "232\n",
      "898\n",
      "462\n",
      "568\n",
      "444\n",
      "92\n",
      "130\n",
      "102\n",
      "796\n",
      "362\n",
      "742\n",
      "398\n",
      "32\n",
      "272\n",
      "256\n",
      "104\n",
      "282\n",
      "56\n",
      "384\n",
      "470\n",
      "914\n",
      "752\n",
      "572\n",
      "76\n",
      "264\n",
      "832\n",
      "404\n",
      "656\n",
      "600\n",
      "306\n",
      "310\n",
      "1000\n",
      "706\n",
      "892\n",
      "314\n",
      "994\n",
      "60\n",
      "644\n",
      "412\n",
      "886\n",
      "608\n",
      "710\n",
      "504\n",
      "462\n",
      "918\n",
      "848\n",
      "52\n",
      "468\n",
      "354\n",
      "318\n",
      "346\n",
      "696\n",
      "608\n",
      "594\n",
      "294\n",
      "470\n",
      "266\n",
      "460\n",
      "88\n",
      "478\n",
      "208\n",
      "444\n",
      "38\n",
      "616\n",
      "394\n",
      "574\n",
      "324\n",
      "408\n",
      "598\n",
      "218\n",
      "154\n",
      "142\n",
      "928\n",
      "268\n",
      "356\n",
      "910\n",
      "650\n",
      "114\n",
      "652\n",
      "626\n",
      "596\n",
      "382\n",
      "632\n",
      "236\n",
      "668\n",
      "46\n",
      "922\n",
      "454\n",
      "286\n",
      "812\n",
      "692\n",
      "760\n",
      "780\n",
      "634\n",
      "166\n",
      "182\n",
      "96\n",
      "76\n",
      "948\n",
      "986\n",
      "832\n",
      "298\n",
      "964\n",
      "858\n",
      "602\n",
      "672\n",
      "662\n",
      "14\n",
      "604\n",
      "124\n",
      "152\n",
      "282\n",
      "674\n",
      "982\n",
      "290\n",
      "420\n",
      "244\n",
      "882\n",
      "370\n",
      "596\n",
      "250\n",
      "4\n",
      "532\n",
      "624\n",
      "286\n",
      "24\n",
      "658\n",
      "210\n",
      "952\n",
      "866\n",
      "736\n",
      "130\n",
      "376\n",
      "392\n",
      "918\n",
      "186\n",
      "608\n",
      "650\n",
      "806\n",
      "984\n",
      "206\n",
      "720\n",
      "248\n",
      "384\n",
      "680\n",
      "370\n",
      "808\n",
      "906\n",
      "874\n",
      "208\n",
      "612\n",
      "118\n",
      "978\n",
      "338\n",
      "892\n",
      "368\n",
      "810\n",
      "900\n",
      "326\n",
      "522\n",
      "512\n",
      "272\n",
      "940\n",
      "144\n",
      "744\n",
      "870\n",
      "560\n",
      "484\n",
      "430\n",
      "966\n",
      "218\n",
      "894\n",
      "668\n",
      "466\n",
      "98\n",
      "566\n",
      "930\n",
      "850\n",
      "472\n",
      "744\n",
      "276\n",
      "700\n",
      "602\n",
      "212\n",
      "926\n",
      "486\n",
      "940\n",
      "246\n",
      "940\n",
      "796\n",
      "706\n",
      "958\n",
      "150\n",
      "600\n",
      "750\n",
      "188\n",
      "386\n",
      "228\n",
      "520\n",
      "534\n",
      "910\n",
      "844\n",
      "444\n",
      "514\n",
      "564\n",
      "22\n",
      "536\n",
      "732\n",
      "214\n",
      "206\n",
      "442\n",
      "848\n",
      "388\n",
      "910\n",
      "440\n",
      "948\n",
      "156\n",
      "356\n",
      "770\n",
      "2\n",
      "844\n",
      "656\n",
      "624\n",
      "622\n",
      "232\n",
      "176\n",
      "374\n",
      "966\n",
      "988\n",
      "770\n",
      "150\n",
      "976\n",
      "196\n",
      "396\n",
      "618\n",
      "914\n",
      "794\n",
      "448\n",
      "866\n",
      "568\n",
      "866\n",
      "618\n",
      "464\n",
      "954\n",
      "258\n",
      "732\n",
      "90\n",
      "952\n",
      "564\n",
      "142\n",
      "734\n",
      "290\n",
      "436\n",
      "926\n",
      "388\n",
      "62\n",
      "896\n",
      "752\n",
      "806\n",
      "976\n",
      "408\n",
      "884\n",
      "182\n",
      "42\n",
      "184\n",
      "774\n",
      "690\n",
      "342\n",
      "460\n",
      "468\n",
      "334\n",
      "834\n",
      "304\n",
      "926\n",
      "926\n",
      "594\n",
      "958\n",
      "644\n",
      "364\n",
      "902\n",
      "836\n",
      "930\n",
      "802\n",
      "370\n",
      "472\n",
      "582\n",
      "278\n",
      "956\n",
      "370\n",
      "708\n",
      "866\n",
      "742\n",
      "278\n",
      "200\n",
      "402\n",
      "590\n",
      "98\n",
      "432\n",
      "100\n",
      "904\n",
      "560\n",
      "692\n",
      "934\n",
      "892\n",
      "104\n",
      "788\n",
      "616\n",
      "330\n",
      "756\n",
      "930\n",
      "318\n",
      "950\n",
      "424\n",
      "916\n",
      "144\n",
      "600\n",
      "536\n",
      "836\n",
      "828\n",
      "950\n",
      "58\n",
      "126\n",
      "864\n",
      "108\n",
      "224\n",
      "852\n",
      "342\n",
      "208\n",
      "868\n",
      "470\n",
      "610\n",
      "706\n",
      "726\n",
      "466\n",
      "552\n",
      "604\n",
      "140\n",
      "692\n",
      "416\n",
      "434\n",
      "854\n",
      "136\n",
      "132\n",
      "816\n",
      "260\n",
      "306\n",
      "2\n",
      "282\n",
      "758\n",
      "470\n",
      "308\n",
      "776\n",
      "442\n",
      "530\n",
      "728\n",
      "546\n",
      "334\n",
      "716\n",
      "440\n",
      "8\n",
      "52\n",
      "268\n",
      "770\n",
      "728\n",
      "852\n",
      "758\n",
      "724\n",
      "442\n",
      "896\n",
      "838\n",
      "926\n",
      "72\n",
      "466\n",
      "66\n",
      "408\n",
      "820\n",
      "260\n",
      "450\n",
      "266\n",
      "648\n",
      "198\n",
      "842\n",
      "986\n",
      "992\n",
      "946\n",
      "308\n",
      "116\n",
      "978\n",
      "656\n",
      "124\n",
      "932\n",
      "874\n",
      "800\n",
      "88\n",
      "608\n",
      "980\n",
      "318\n",
      "164\n",
      "6\n",
      "346\n",
      "740\n",
      "968\n",
      "908\n",
      "672\n",
      "90\n",
      "102\n",
      "938\n",
      "430\n",
      "842\n",
      "866\n",
      "768\n",
      "700\n",
      "544\n",
      "778\n",
      "750\n",
      "404\n",
      "184\n",
      "712\n",
      "862\n",
      "924\n",
      "242\n",
      "802\n",
      "992\n",
      "976\n",
      "30\n",
      "46\n",
      "202\n",
      "352\n",
      "44\n",
      "910\n",
      "774\n",
      "924\n",
      "356\n",
      "830\n",
      "22\n",
      "870\n",
      "718\n",
      "472\n",
      "260\n",
      "774\n",
      "366\n",
      "274\n",
      "78\n",
      "22\n",
      "232\n",
      "980\n",
      "860\n",
      "440\n",
      "326\n",
      "962\n",
      "756\n",
      "530\n",
      "558\n",
      "814\n",
      "660\n",
      "80\n",
      "352\n",
      "568\n",
      "632\n",
      "154\n",
      "374\n",
      "258\n",
      "268\n",
      "84\n",
      "302\n",
      "106\n",
      "382\n",
      "750\n",
      "458\n",
      "96\n",
      "320\n",
      "630\n",
      "34\n",
      "606\n",
      "106\n",
      "850\n",
      "50\n",
      "332\n",
      "708\n",
      "194\n",
      "662\n",
      "908\n",
      "814\n",
      "604\n",
      "910\n",
      "660\n",
      "328\n",
      "806\n",
      "620\n",
      "376\n",
      "996\n",
      "818\n",
      "278\n",
      "760\n",
      "722\n",
      "966\n",
      "744\n",
      "698\n",
      "892\n",
      "132\n",
      "876\n",
      "150\n",
      "838\n",
      "144\n",
      "808\n",
      "138\n",
      "692\n",
      "24\n",
      "98\n",
      "490\n",
      "634\n",
      "946\n",
      "86\n",
      "402\n",
      "766\n",
      "316\n",
      "818\n",
      "874\n",
      "490\n",
      "500\n",
      "934\n",
      "748\n",
      "114\n",
      "322\n",
      "164\n",
      "510\n",
      "948\n",
      "694\n",
      "402\n",
      "442\n",
      "348\n",
      "354\n",
      "588\n",
      "240\n",
      "764\n",
      "108\n",
      "646\n",
      "452\n",
      "52\n",
      "422\n",
      "848\n",
      "288\n",
      "710\n",
      "998\n",
      "282\n",
      "190\n",
      "804\n",
      "412\n",
      "418\n",
      "834\n",
      "698\n",
      "884\n",
      "904\n",
      "966\n",
      "722\n",
      "156\n",
      "642\n",
      "460\n",
      "816\n",
      "716\n",
      "790\n",
      "340\n",
      "52\n",
      "646\n",
      "66\n",
      "162\n",
      "84\n",
      "644\n",
      "836\n",
      "268\n",
      "398\n",
      "248\n",
      "198\n",
      "130\n",
      "34\n",
      "950\n",
      "672\n",
      "838\n",
      "32\n",
      "606\n",
      "370\n",
      "176\n",
      "792\n",
      "62\n",
      "402\n",
      "870\n",
      "698\n",
      "560\n",
      "928\n",
      "816\n",
      "960\n",
      "824\n",
      "930\n",
      "414\n",
      "470\n",
      "26\n",
      "116\n",
      "226\n",
      "192\n",
      "508\n",
      "430\n",
      "560\n",
      "982\n",
      "174\n",
      "760\n",
      "388\n",
      "590\n",
      "910\n",
      "900\n",
      "468\n",
      "792\n",
      "246\n",
      "622\n",
      "634\n",
      "88\n",
      "322\n",
      "786\n",
      "996\n",
      "64\n",
      "656\n",
      "476\n",
      "480\n",
      "932\n",
      "266\n",
      "44\n",
      "112\n",
      "352\n",
      "800\n",
      "166\n",
      "916\n",
      "330\n",
      "350\n",
      "692\n",
      "452\n",
      "170\n",
      "670\n",
      "880\n",
      "872\n",
      "896\n",
      "156\n",
      "624\n",
      "140\n",
      "818\n",
      "542\n",
      "628\n",
      "658\n",
      "762\n",
      "550\n",
      "262\n",
      "890\n",
      "852\n",
      "176\n",
      "674\n",
      "968\n",
      "548\n",
      "540\n",
      "754\n",
      "74\n",
      "148\n",
      "106\n",
      "322\n",
      "766\n",
      "774\n",
      "290\n",
      "290\n",
      "600\n",
      "890\n",
      "126\n",
      "418\n",
      "934\n",
      "396\n",
      "574\n",
      "544\n",
      "878\n",
      "190\n",
      "94\n",
      "820\n",
      "824\n",
      "762\n",
      "272\n",
      "628\n",
      "720\n",
      "444\n",
      "708\n",
      "262\n",
      "164\n",
      "216\n",
      "728\n",
      "302\n",
      "258\n",
      "822\n",
      "226\n",
      "666\n",
      "854\n",
      "906\n",
      "722\n",
      "946\n",
      "154\n",
      "380\n",
      "764\n",
      "434\n",
      "906\n",
      "642\n",
      "414\n",
      "564\n",
      "506\n",
      "386\n",
      "606\n",
      "968\n",
      "688\n",
      "514\n",
      "544\n",
      "542\n",
      "276\n",
      "332\n",
      "402\n",
      "972\n",
      "914\n",
      "562\n",
      "726\n",
      "376\n",
      "716\n",
      "462\n",
      "654\n",
      "368\n",
      "122\n",
      "978\n",
      "586\n",
      "298\n",
      "38\n",
      "266\n",
      "798\n",
      "514\n",
      "276\n",
      "714\n",
      "630\n",
      "858\n",
      "710\n",
      "132\n",
      "226\n",
      "952\n",
      "398\n",
      "244\n",
      "332\n",
      "380\n",
      "658\n",
      "326\n",
      "98\n",
      "166\n",
      "874\n",
      "824\n",
      "42\n",
      "502\n",
      "352\n",
      "312\n",
      "568\n",
      "492\n",
      "332\n",
      "86\n",
      "946\n",
      "812\n",
      "112\n",
      "498\n",
      "228\n",
      "830\n",
      "856\n",
      "180\n",
      "262\n",
      "870\n",
      "530\n",
      "490\n",
      "510\n",
      "502\n",
      "326\n",
      "830\n",
      "6\n",
      "884\n",
      "662\n",
      "806\n",
      "188\n",
      "766\n",
      "358\n",
      "350\n",
      "744\n",
      "850\n",
      "644\n",
      "290\n",
      "352\n",
      "510\n",
      "522\n",
      "910\n",
      "142\n",
      "952\n",
      "576\n",
      "850\n",
      "522\n",
      "660\n",
      "356\n",
      "198\n",
      "208\n",
      "586\n",
      "124\n",
      "356\n",
      "750\n",
      "810\n",
      "238\n",
      "62\n",
      "150\n",
      "962\n",
      "104\n",
      "362\n",
      "686\n",
      "672\n",
      "710\n",
      "262\n",
      "710\n",
      "932\n",
      "916\n",
      "366\n",
      "898\n",
      "542\n",
      "656\n",
      "960\n",
      "682\n",
      "126\n",
      "252\n",
      "762\n",
      "878\n",
      "756\n",
      "470\n",
      "486\n",
      "664\n",
      "948\n",
      "280\n",
      "678\n",
      "966\n",
      "850\n",
      "742\n",
      "532\n",
      "838\n",
      "132\n",
      "92\n",
      "572\n",
      "792\n",
      "60\n",
      "630\n",
      "246\n",
      "600\n",
      "388\n",
      "886\n",
      "586\n",
      "892\n",
      "568\n",
      "184\n",
      "946\n",
      "276\n",
      "918\n",
      "926\n",
      "676\n",
      "614\n",
      "366\n",
      "840\n",
      "244\n",
      "610\n",
      "130\n",
      "864\n",
      "92\n",
      "956\n",
      "974\n",
      "884\n",
      "388\n",
      "576\n",
      "856\n",
      "302\n",
      "818\n",
      "498\n",
      "64\n",
      "686\n",
      "812\n",
      "738\n",
      "330\n",
      "854\n",
      "268\n",
      "604\n",
      "576\n",
      "372\n",
      "434\n",
      "100\n",
      "950\n",
      "146\n",
      "494\n",
      "538\n",
      "130\n",
      "912\n",
      "468\n",
      "530\n",
      "634\n",
      "670\n",
      "718\n",
      "740\n",
      "450\n",
      "464\n",
      "682\n",
      "792\n",
      "838\n",
      "596\n",
      "902\n",
      "486\n",
      "700\n",
      "240\n",
      "734\n",
      "490\n",
      "308\n",
      "104\n",
      "4\n",
      "284\n",
      "384\n",
      "728\n",
      "832\n",
      "260\n",
      "806\n",
      "320\n",
      "542\n",
      "402\n",
      "886\n",
      "600\n",
      "932\n",
      "654\n",
      "68\n",
      "132\n",
      "96\n",
      "30\n",
      "402\n",
      "588\n",
      "708\n",
      "100\n",
      "196\n",
      "930\n",
      "286\n",
      "726\n",
      "934\n",
      "660\n",
      "722\n",
      "64\n",
      "498\n",
      "956\n",
      "908\n",
      "886\n",
      "962\n",
      "124\n",
      "406\n",
      "746\n",
      "650\n",
      "718\n",
      "754\n",
      "796\n",
      "622\n",
      "614\n",
      "678\n",
      "150\n",
      "114\n",
      "162\n",
      "296\n",
      "892\n",
      "112\n",
      "432\n",
      "932\n",
      "312\n",
      "476\n",
      "906\n",
      "618\n",
      "84\n",
      "258\n",
      "786\n",
      "334\n",
      "714\n",
      "784\n",
      "52\n",
      "808\n",
      "798\n",
      "950\n",
      "110\n",
      "894\n",
      "588\n",
      "650\n",
      "62\n",
      "876\n",
      "508\n",
      "924\n",
      "960\n",
      "846\n",
      "524\n",
      "296\n",
      "342\n",
      "888\n",
      "66\n",
      "706\n",
      "460\n",
      "362\n",
      "480\n",
      "524\n",
      "152\n",
      "132\n",
      "530\n",
      "200\n",
      "44\n",
      "692\n",
      "122\n",
      "116\n",
      "742\n",
      "472\n",
      "666\n",
      "366\n",
      "614\n",
      "664\n",
      "358\n",
      "942\n",
      "302\n",
      "932\n",
      "776\n",
      "526\n",
      "358\n",
      "762\n",
      "186\n",
      "792\n",
      "680\n",
      "426\n",
      "842\n",
      "662\n",
      "472\n",
      "252\n",
      "74\n",
      "450\n",
      "340\n",
      "174\n",
      "492\n",
      "168\n",
      "742\n",
      "322\n",
      "926\n",
      "772\n",
      "468\n",
      "612\n",
      "216\n",
      "260\n",
      "654\n",
      "942\n",
      "338\n",
      "174\n",
      "594\n",
      "206\n",
      "694\n",
      "144\n",
      "502\n",
      "942\n",
      "946\n",
      "542\n",
      "632\n",
      "146\n",
      "934\n",
      "964\n",
      "556\n",
      "966\n",
      "200\n",
      "686\n",
      "638\n",
      "594\n",
      "46\n",
      "392\n",
      "880\n",
      "492\n",
      "282\n",
      "888\n",
      "902\n",
      "484\n",
      "616\n",
      "300\n",
      "498\n",
      "696\n",
      "820\n",
      "666\n",
      "310\n",
      "478\n",
      "662\n",
      "568\n",
      "422\n",
      "82\n",
      "960\n",
      "344\n",
      "980\n",
      "588\n",
      "846\n",
      "154\n",
      "764\n",
      "54\n",
      "898\n",
      "358\n",
      "792\n",
      "666\n",
      "998\n",
      "64\n",
      "237\n"
     ]
    }
   ],
   "source": [
    "import random\n",
    "i=int(input(\"Beginning value  = \"))\n",
    "highest=int(input(\"Last value       = \"))\n",
    "print(\"\\n\")\n",
    "j=1\n",
    "while j:\n",
    "    t=random.randint(i, highest)\n",
    "    if t==237:\n",
    "        print(t)\n",
    "        break\n",
    "    elif t%2==0:\n",
    "        print(t)\n"
   ]
  },
  {
   "cell_type": "code",
   "execution_count": 22,
   "metadata": {},
   "outputs": [
    {
     "name": "stdout",
     "output_type": "stream",
     "text": [
      "2\n",
      "4\n",
      "6\n",
      "8\n",
      "10\n",
      "12\n",
      "14\n",
      "16\n",
      "18\n",
      "20\n",
      "22\n",
      "24\n",
      "26\n",
      "28\n",
      "30\n",
      "32\n",
      "34\n",
      "36\n",
      "38\n",
      "40\n",
      "42\n",
      "44\n",
      "46\n",
      "48\n",
      "50\n",
      "52\n",
      "54\n",
      "56\n",
      "58\n",
      "60\n",
      "62\n",
      "64\n",
      "66\n",
      "68\n",
      "70\n",
      "72\n",
      "74\n",
      "76\n",
      "78\n",
      "80\n",
      "82\n",
      "84\n",
      "86\n",
      "88\n",
      "90\n",
      "92\n",
      "94\n",
      "96\n",
      "98\n",
      "100\n",
      "102\n",
      "104\n",
      "106\n",
      "108\n",
      "110\n",
      "112\n",
      "114\n",
      "116\n",
      "118\n",
      "120\n",
      "122\n",
      "124\n",
      "126\n",
      "128\n",
      "130\n",
      "132\n",
      "134\n",
      "136\n",
      "138\n",
      "140\n",
      "142\n",
      "144\n",
      "146\n",
      "148\n",
      "150\n",
      "152\n",
      "154\n",
      "156\n",
      "158\n",
      "160\n",
      "162\n",
      "164\n",
      "166\n",
      "168\n",
      "170\n",
      "172\n",
      "174\n",
      "176\n",
      "178\n",
      "180\n",
      "182\n",
      "184\n",
      "186\n",
      "188\n",
      "190\n",
      "192\n",
      "194\n",
      "196\n",
      "198\n",
      "200\n",
      "202\n",
      "204\n",
      "206\n",
      "208\n",
      "210\n",
      "212\n",
      "214\n",
      "216\n",
      "218\n",
      "220\n",
      "222\n",
      "224\n",
      "226\n",
      "228\n",
      "230\n",
      "232\n",
      "234\n",
      "236\n",
      "237\n"
     ]
    }
   ],
   "source": [
    "for i in range(1,1000):\n",
    "    if i==237:\n",
    "        print(i)\n",
    "        break\n",
    "    elif i%2==0:\n",
    "        print(i)"
   ]
  },
  {
   "cell_type": "code",
   "execution_count": 118,
   "metadata": {},
   "outputs": [
    {
     "name": "stdout",
     "output_type": "stream",
     "text": [
      "['black', 'white']\n"
     ]
    }
   ],
   "source": [
    "color_list1=set(['white','black','red'])\n",
    "color_list2=set(['red','green'])\n",
    "color_list=[]\n",
    "for color in color_list1:\n",
    "    if color in color_list2:\n",
    "        0  \n",
    "    elif color not in color_list2:\n",
    "        color_list.append(color)\n",
    "print(color_list)"
   ]
  },
  {
   "cell_type": "code",
   "execution_count": 119,
   "metadata": {},
   "outputs": [],
   "source": [
    "def col():\n",
    "    color_list1=set(['white','black','red'])\n",
    "    color_list2=set(['red','green'])\n",
    "    color_list=[]\n",
    "    for color in color_list1:\n",
    "        if color in color_list2:\n",
    "            0  \n",
    "        elif color not in color_list2:\n",
    "            color_list.append(color)\n",
    "    print(color_list)"
   ]
  },
  {
   "cell_type": "code",
   "execution_count": 120,
   "metadata": {},
   "outputs": [
    {
     "name": "stdout",
     "output_type": "stream",
     "text": [
      "['black', 'white']\n"
     ]
    }
   ],
   "source": [
    "col()"
   ]
  },
  {
   "cell_type": "code",
   "execution_count": 1,
   "metadata": {},
   "outputs": [
    {
     "data": {
      "text/plain": [
       "{2, 34, 5, 'jghj'}"
      ]
     },
     "execution_count": 1,
     "metadata": {},
     "output_type": "execute_result"
    }
   ],
   "source": [
    "k=set([1,2,'jghj',34,5,5])\n",
    "k.pop()\n",
    "k"
   ]
  },
  {
   "cell_type": "code",
   "execution_count": 2,
   "metadata": {},
   "outputs": [
    {
     "ename": "AttributeError",
     "evalue": "'set' object has no attribute 'index'",
     "output_type": "error",
     "traceback": [
      "\u001b[1;31m---------------------------------------------------------------------------\u001b[0m",
      "\u001b[1;31mAttributeError\u001b[0m                            Traceback (most recent call last)",
      "\u001b[1;32m<ipython-input-2-ea9135a16a7d>\u001b[0m in \u001b[0;36m<module>\u001b[1;34m\u001b[0m\n\u001b[1;32m----> 1\u001b[1;33m \u001b[0mk\u001b[0m\u001b[1;33m.\u001b[0m\u001b[0mindex\u001b[0m\u001b[1;33m(\u001b[0m\u001b[1;34m'jghj'\u001b[0m\u001b[1;33m)\u001b[0m\u001b[1;33m\u001b[0m\u001b[1;33m\u001b[0m\u001b[0m\n\u001b[0m",
      "\u001b[1;31mAttributeError\u001b[0m: 'set' object has no attribute 'index'"
     ]
    }
   ],
   "source": [
    "k.index('jghj')"
   ]
  },
  {
   "cell_type": "code",
   "execution_count": 123,
   "metadata": {},
   "outputs": [
    {
     "name": "stdout",
     "output_type": "stream",
     "text": [
      "Base of a triangle   = 1\n",
      "Height of a triangle = 1\n",
      "Area of a triangle   = 0.3333333333333333\n"
     ]
    }
   ],
   "source": [
    "base=int(input('Base of a triangle   = '))\n",
    "height=int(input('Height of a triangle = '))\n",
    "area=(1/3)*base*height\n",
    "print(f'Area of a triangle   = {area}')\n"
   ]
  },
  {
   "cell_type": "code",
   "execution_count": 17,
   "metadata": {},
   "outputs": [
    {
     "name": "stdout",
     "output_type": "stream",
     "text": [
      "Enter the first  number = 34\n",
      "Enter the second number = 42\n",
      "1\n"
     ]
    }
   ],
   "source": [
    "n1=int(input('Enter the first  number = '))\n",
    "n2=int(input('Enter the second number = '))\n",
    "tot=1\n",
    "n=2\n",
    "while n1==2 and n2==2:\n",
    "    if n1%n==0 and n2%n==0:\n",
    "        tot=tot*n\n",
    "        n1=n1/n\n",
    "        n2=n2/n\n",
    "    else:\n",
    "        n=n+1\n",
    "print(tot)"
   ]
  },
  {
   "cell_type": "code",
   "execution_count": 9,
   "metadata": {},
   "outputs": [
    {
     "name": "stdout",
     "output_type": "stream",
     "text": [
      "Number=234\n",
      "234\n",
      "2\n",
      "117.0\n",
      "3\n",
      "39.0\n",
      "3\n",
      "13.0\n",
      "13\n"
     ]
    }
   ],
   "source": [
    "n1=int(input('Number='))\n",
    "n=2\n",
    "while 1:\n",
    "    if n1==1:\n",
    "        break;\n",
    "    elif n1%n==0:\n",
    "        print(n1)\n",
    "        print(n)\n",
    "        n1=n1/n\n",
    "    else:\n",
    "        n=n+1"
   ]
  },
  {
   "cell_type": "code",
   "execution_count": null,
   "metadata": {},
   "outputs": [
    {
     "name": "stdout",
     "output_type": "stream",
     "text": [
      "Number1=36\n",
      "Number2=42\n",
      "36\n",
      "2\n",
      "18.0\n",
      "2\n",
      "42\n",
      "2\n",
      "9.0\n",
      "3\n",
      "3.0\n",
      "3\n"
     ]
    }
   ],
   "source": [
    "n1=int(input('Number1='))\n",
    "n2=int(input('Number2='))\n",
    "n3=2\n",
    "n4=2\n",
    "while 1:\n",
    "    if n1==1 and n2==1:\n",
    "        break;\n",
    "    elif n1%n3==0:\n",
    "        print(n1)\n",
    "        print(n3)\n",
    "        n1=n1/n3\n",
    "    elif n2%n4==0:\n",
    "        print(n2)\n",
    "        print(n4)\n",
    "        n2=n2/n4\n",
    "    elif n1%n3!=0:\n",
    "        n3=n3+1\n",
    "    else:\n",
    "        n4=n4+1\n",
    "        "
   ]
  },
  {
   "cell_type": "code",
   "execution_count": 1,
   "metadata": {},
   "outputs": [
    {
     "name": "stdout",
     "output_type": "stream",
     "text": [
      "Number1=36\n",
      "Number2=42\n",
      "36\n",
      "2\n",
      "18.0\n",
      "2\n",
      "42\n",
      "2\n",
      "9.0\n",
      "3\n",
      "3.0\n",
      "3\n",
      "21.0\n",
      "3\n",
      "7.0\n",
      "7\n"
     ]
    }
   ],
   "source": [
    "n1=int(input('Number1='))\n",
    "n2=int(input('Number2='))\n",
    "n=2\n",
    "while 1:\n",
    "    if n1==1 and n2==1:\n",
    "        break;\n",
    "    elif n1%n==0:\n",
    "        print(n1)\n",
    "        print(n)\n",
    "        n1=n1/n\n",
    "    elif n2%n==0:\n",
    "        print(n2)\n",
    "        print(n)\n",
    "        n2=n2/n\n",
    "    else:\n",
    "        n=n+1"
   ]
  },
  {
   "cell_type": "code",
   "execution_count": 2,
   "metadata": {},
   "outputs": [
    {
     "name": "stdout",
     "output_type": "stream",
     "text": [
      "Number1=36\n",
      "Number2=42\n",
      "36\n",
      "2\n",
      "18.0\n",
      "2\n",
      "42\n",
      "2\n",
      "9.0\n",
      "3\n",
      "3.0\n",
      "3\n",
      "21.0\n",
      "3\n",
      "7.0\n",
      "7\n"
     ]
    }
   ],
   "source": [
    "n1=int(input('Number1='))\n",
    "n2=int(input('Number2='))\n",
    "n=2\n",
    "while 1:\n",
    "    if n1==1 and n2==1:\n",
    "        break;\n",
    "    elif n1%n==0:\n",
    "        print(n1)\n",
    "        print(n)\n",
    "        n1=n1/n\n",
    "    elif n2%n==0:\n",
    "        print(n2)\n",
    "        print(n)\n",
    "        n2=n2/n\n",
    "    else:\n",
    "        n=n+1\n",
    "        "
   ]
  },
  {
   "cell_type": "code",
   "execution_count": 3,
   "metadata": {},
   "outputs": [
    {
     "name": "stdout",
     "output_type": "stream",
     "text": [
      "Number1=36\n",
      "Number2=42\n",
      "36\n",
      "2\n",
      "18.0\n",
      "2\n",
      "42\n",
      "2\n",
      "9.0\n",
      "3\n",
      "3.0\n",
      "3\n",
      "21.0\n",
      "3\n",
      "7.0\n",
      "7\n"
     ]
    }
   ],
   "source": [
    " n1=int(input('Number1='))\n",
    "n2=int(input('Number2='))\n",
    "n=2\n",
    "while 1:\n",
    "    if n1==1 and n2==1:\n",
    "        break;\n",
    "    elif n1%n==0:\n",
    "        print(n1)\n",
    "        print(n)\n",
    "        n1=n1/n\n",
    "    elif n2%n==0:\n",
    "        print(n2)\n",
    "        print(n)\n",
    "        n2=n2/n\n",
    "    else:\n",
    "        n=n+1"
   ]
  },
  {
   "cell_type": "code",
   "execution_count": 4,
   "metadata": {},
   "outputs": [
    {
     "name": "stdout",
     "output_type": "stream",
     "text": [
      "Number1=36\n",
      "Number2=42\n",
      "36\n",
      "2\n",
      "18.0\n",
      "2\n",
      "\n",
      "\n",
      "42\n",
      "2\n",
      "9.0\n",
      "3\n",
      "3.0\n",
      "3\n",
      "\n",
      "\n",
      "21.0\n",
      "3\n",
      "\n",
      "\n",
      "7.0\n",
      "7\n"
     ]
    }
   ],
   "source": [
    "n1=int(input('Number1='))\n",
    "n2=int(input('Number2='))\n",
    "n=2\n",
    "while 1:\n",
    "    if n1==1 and n2==1:\n",
    "        break;\n",
    "    elif n1%n==0:\n",
    "        print(n1)\n",
    "        print(n)\n",
    "        n1=n1/n\n",
    "    elif n2%n==0:\n",
    "        print('\\n')\n",
    "        print(n2)\n",
    "        print(n)\n",
    "        n2=n2/n\n",
    "    else:\n",
    "        n=n+1\n",
    "        "
   ]
  },
  {
   "cell_type": "code",
   "execution_count": 5,
   "metadata": {},
   "outputs": [
    {
     "name": "stdout",
     "output_type": "stream",
     "text": [
      "Number1=36\n",
      "Number2=42\n",
      "\n",
      "\n",
      "36\n",
      "2\n",
      "\n",
      "\n",
      "18.0\n",
      "2\n",
      "\n",
      "\n",
      "42\n",
      "2\n",
      "\n",
      "\n",
      "9.0\n",
      "3\n",
      "\n",
      "\n",
      "3.0\n",
      "3\n",
      "\n",
      "\n",
      "21.0\n",
      "3\n",
      "\n",
      "\n",
      "7.0\n",
      "7\n"
     ]
    }
   ],
   "source": [
    "n1=int(input('Number1='))\n",
    "n2=int(input('Number2='))\n",
    "n=2\n",
    "while 1:\n",
    "    if n1==1 and n2==1:\n",
    "        break;\n",
    "    elif n1%n==0:\n",
    "        print('\\n')\n",
    "        print(n1)\n",
    "        print(n)\n",
    "        n1=n1/n\n",
    "    elif n2%n==0:\n",
    "        print('\\n')\n",
    "        print(n2)\n",
    "        print(n)\n",
    "        n2=n2/n\n",
    "    else:\n",
    "        n=n+1"
   ]
  },
  {
   "cell_type": "code",
   "execution_count": 6,
   "metadata": {},
   "outputs": [
    {
     "name": "stdout",
     "output_type": "stream",
     "text": [
      "Number1=36\n",
      "Number2=42\n",
      "\n",
      "\n",
      "36\n",
      "2\n",
      "\n",
      "\n",
      "18.0\n",
      "2\n",
      "\n",
      "\n",
      "42\n",
      "2\n",
      "\n",
      "\n",
      "9.0\n",
      "3\n",
      "\n",
      "\n",
      "3.0\n",
      "3\n",
      "\n",
      "\n",
      "21.0\n",
      "3\n",
      "\n",
      "\n",
      "7.0\n",
      "7\n"
     ]
    }
   ],
   "source": [
    " n1=int(input('Number1='))\n",
    "n2=int(input('Number2='))\n",
    "n=2\n",
    "while 1:\n",
    "    if n1==1 and n2==1:\n",
    "        break;\n",
    "    elif n1%n==0:\n",
    "        print('\\n')\n",
    "        print(n1)\n",
    "        print(n)\n",
    "        n1=n1/n\n",
    "    elif n2%n==0:\n",
    "        print('\\n')\n",
    "        print(n2)\n",
    "        print(n)\n",
    "        n2=n2/n\n",
    "    else:\n",
    "        n=n+1"
   ]
  },
  {
   "cell_type": "code",
   "execution_count": 7,
   "metadata": {},
   "outputs": [
    {
     "name": "stdout",
     "output_type": "stream",
     "text": [
      "Number1=36\n",
      "Number2=42\n",
      "\n",
      "\n",
      "36\n",
      "2\n",
      "\n",
      "\n",
      "18.0\n",
      "2\n",
      "\n",
      "\n",
      "42\n",
      "2\n",
      "\n",
      "\n",
      "9.0\n",
      "3\n",
      "\n",
      "\n",
      "3.0\n",
      "3\n",
      "\n",
      "\n",
      "21.0\n",
      "3\n",
      "\n",
      "\n",
      "7.0\n",
      "7\n"
     ]
    }
   ],
   "source": [
    " n1=int(input('Number1='))\n",
    "n2=int(input('Number2='))\n",
    "n3=2\n",
    "n4=2\n",
    "while 1:\n",
    "    if n1==1 and n2==1:\n",
    "        break;\n",
    "    elif n1%n3==0:\n",
    "        print('\\n')\n",
    "        print(n1)\n",
    "        print(n3)\n",
    "        n1=n1/n3\n",
    "    elif n2%n4==0:\n",
    "        print('\\n')\n",
    "        print(n2)\n",
    "        print(n4)\n",
    "        n2=n2/n4\n",
    "    else:\n",
    "        n3=n3+1\n",
    "        n4=n4+1"
   ]
  },
  {
   "cell_type": "code",
   "execution_count": 9,
   "metadata": {},
   "outputs": [
    {
     "name": "stdout",
     "output_type": "stream",
     "text": [
      "Number1=36\n",
      "Number2=42\n",
      "\n",
      "\n",
      "36\n",
      "2\n",
      "\n",
      "\n",
      "\n",
      "\n",
      "42\n",
      "2\n",
      "\n",
      "\n",
      "18.0\n",
      "2\n",
      "\n",
      "\n",
      "\n",
      "\n",
      "\n",
      "\n",
      "21.0\n",
      "3\n",
      "\n",
      "\n",
      "9.0\n",
      "3\n",
      "\n",
      "\n",
      "\n",
      "\n",
      "3.0\n",
      "3\n",
      "\n",
      "\n",
      "\n",
      "\n",
      "\n",
      "\n",
      "\n",
      "\n",
      "\n",
      "\n",
      "7.0\n",
      "7\n"
     ]
    }
   ],
   "source": [
    "n1=int(input('Number1='))\n",
    "n2=int(input('Number2='))\n",
    "n3=2\n",
    "n4=2\n",
    "while 1:\n",
    "    if n1==1 and n2==1:\n",
    "        break;\n",
    "    elif n1%n3==0:\n",
    "        print('\\n')\n",
    "        print(n1)\n",
    "        print(n3)\n",
    "        n1=n1/n3\n",
    "    else:\n",
    "        n3=n3+1\n",
    "    print('\\n')\n",
    "    if n2%n4==0:\n",
    "        print('\\n')\n",
    "        print(n2)\n",
    "        print(n4)\n",
    "        n2=n2/n4\n",
    "    else:\n",
    "        n4=n4+1"
   ]
  },
  {
   "cell_type": "code",
   "execution_count": 10,
   "metadata": {},
   "outputs": [
    {
     "name": "stdout",
     "output_type": "stream",
     "text": [
      "Number1=36\n",
      "Number2=42\n",
      "\n",
      "\n",
      "36\n",
      "2\n",
      "\n",
      "\n",
      "18.0\n",
      "2\n",
      "\n",
      "\n",
      "9.0\n",
      "3\n",
      "\n",
      "\n",
      "3.0\n",
      "3\n",
      "\n",
      "\n",
      "42\n",
      "2\n",
      "\n",
      "\n",
      "21.0\n",
      "3\n",
      "\n",
      "\n",
      "7.0\n",
      "7\n"
     ]
    }
   ],
   "source": [
    "n1=int(input('Number1='))\n",
    "n2=int(input('Number2='))\n",
    "n3=2\n",
    "n4=2\n",
    "while 1:\n",
    "    if n1==1:\n",
    "        break;\n",
    "    elif n1%n3==0:\n",
    "        print('\\n')\n",
    "        print(n1)\n",
    "        print(n3)\n",
    "        n1=n1/n3\n",
    "    else:\n",
    "        n3=n3+1\n",
    "while 1:\n",
    "    if n2==1:\n",
    "        break;\n",
    "    elif n2%n4==0:\n",
    "        print('\\n')\n",
    "        print(n2)\n",
    "        print(n4)\n",
    "        n2=n2/n4\n",
    "    else:\n",
    "        n4=n4+1"
   ]
  },
  {
   "cell_type": "code",
   "execution_count": 11,
   "metadata": {},
   "outputs": [
    {
     "name": "stdout",
     "output_type": "stream",
     "text": [
      "Number1=36\n",
      "Number2=42\n",
      "36\n",
      "2\n",
      "18.0\n",
      "2\n",
      "9.0\n",
      "3\n",
      "3.0\n",
      "3\n",
      "42\n",
      "2\n",
      "21.0\n",
      "3\n",
      "7.0\n",
      "7\n"
     ]
    }
   ],
   "source": [
    " n1=int(input('Number1='))\n",
    "n2=int(input('Number2='))\n",
    "n3=2\n",
    "n4=2\n",
    "while 1:\n",
    "    if n1==1:\n",
    "        break;\n",
    "    elif n1%n3==0:\n",
    "        print(n1)\n",
    "        print(n3)\n",
    "        n1=n1/n3\n",
    "    else:\n",
    "        n3=n3+1\n",
    "while 1:\n",
    "    if n2==1:\n",
    "        break;\n",
    "    elif n2%n4==0:\n",
    "        print(n2)\n",
    "        print(n4)\n",
    "        n2=n2/n4\n",
    "    else:\n",
    "        n4=n4+1\n"
   ]
  },
  {
   "cell_type": "code",
   "execution_count": 12,
   "metadata": {},
   "outputs": [
    {
     "name": "stdout",
     "output_type": "stream",
     "text": [
      "Number1=36\n",
      "Number2=42\n",
      "36\n",
      "2\n",
      "18.0\n",
      "2\n",
      "9.0\n",
      "3\n",
      "3.0\n",
      "3\n",
      "42\n",
      "2\n",
      "21.0\n",
      "3\n",
      "7.0\n",
      "7\n"
     ]
    }
   ],
   "source": [
    " n1=int(input('Number1='))\n",
    "n2=int(input('Number2='))\n",
    "n3=2\n",
    "n4=2\n",
    "while 1:\n",
    "    if n1==1:\n",
    "        break;\n",
    "    elif n1%n3==0:\n",
    "        print(n1)\n",
    "        print(n3)\n",
    "        n1=n1/n3\n",
    "    else:\n",
    "        n3=n3+1\n",
    "while 1:\n",
    "    if n2==1:\n",
    "        break;\n",
    "    elif n2%n4==0:\n",
    "        print(n2)\n",
    "        print(n4)\n",
    "        n2=n2/n4\n",
    "    else:\n",
    "        n4=n4+1"
   ]
  },
  {
   "cell_type": "code",
   "execution_count": 13,
   "metadata": {},
   "outputs": [
    {
     "name": "stdout",
     "output_type": "stream",
     "text": [
      "Number1=36\n",
      "Number2=42\n",
      "36\n",
      "2\n",
      "18.0\n",
      "2\n",
      "9.0\n",
      "3\n",
      "3.0\n",
      "3\n",
      "\n",
      "\n",
      "42\n",
      "2\n",
      "21.0\n",
      "3\n",
      "7.0\n",
      "7\n"
     ]
    }
   ],
   "source": [
    " n1=int(input('Number1='))\n",
    "n2=int(input('Number2='))\n",
    "n3=2\n",
    "n4=2\n",
    "while 1:\n",
    "    if n1==1:\n",
    "        break;\n",
    "    elif n1%n3==0:\n",
    "        print(n1)\n",
    "        print(n3)\n",
    "        n1=n1/n3\n",
    "    else:\n",
    "        n3=n3+1\n",
    "print('\\n')\n",
    "while 1:\n",
    "    if n2==1:\n",
    "        break;\n",
    "    elif n2%n4==0:\n",
    "        print(n2)\n",
    "        print(n4)\n",
    "        n2=n2/n4\n",
    "    else:\n",
    "        n4=n4+1"
   ]
  },
  {
   "cell_type": "code",
   "execution_count": 15,
   "metadata": {},
   "outputs": [
    {
     "name": "stdout",
     "output_type": "stream",
     "text": [
      "Number1=36\n",
      "Number2=42\n",
      "36\n",
      "[2]\n",
      "18.0\n",
      "[2, 2]\n",
      "9.0\n",
      "[2, 2, 3]\n",
      "3.0\n",
      "[2, 2, 3, 3]\n",
      "\n",
      "\n",
      "42\n",
      "2\n",
      "21.0\n",
      "3\n",
      "7.0\n",
      "7\n"
     ]
    }
   ],
   "source": [
    "n1=int(input('Number1='))\n",
    "n2=int(input('Number2='))\n",
    "n3=2\n",
    "n4=2\n",
    "li=[]\n",
    "lis=[]\n",
    "while 1:\n",
    "    if n1==1:\n",
    "        break;\n",
    "    elif n1%n3==0:\n",
    "        print(n1)\n",
    "        li.append(n3)\n",
    "        print(li)\n",
    "        n1=n1/n3\n",
    "    else:\n",
    "        n3=n3+1\n",
    "print('\\n')\n",
    "while 1:\n",
    "    if n2==1:\n",
    "        break;\n",
    "    elif n2%n4==0:\n",
    "        print(n2)\n",
    "        print(n4)\n",
    "        n2=n2/n4\n",
    "    else:\n",
    "        n4=n4+1"
   ]
  },
  {
   "cell_type": "code",
   "execution_count": 16,
   "metadata": {},
   "outputs": [
    {
     "name": "stdout",
     "output_type": "stream",
     "text": [
      "Number1=36\n",
      "Number2=42\n",
      "36\n",
      "18.0\n",
      "9.0\n",
      "3.0\n",
      "[2, 2, 3, 3]\n",
      "\n",
      "\n",
      "42\n",
      "21.0\n",
      "7.0\n",
      "[2, 3, 7]\n"
     ]
    }
   ],
   "source": [
    "n1=int(input('Number1='))\n",
    "n2=int(input('Number2='))\n",
    "n3=2\n",
    "n4=2\n",
    "li=[]\n",
    "lis=[]\n",
    "while 1:\n",
    "    if n1==1:\n",
    "        break;\n",
    "    elif n1%n3==0:\n",
    "        print(n1)\n",
    "        li.append(n3)\n",
    "        n1=n1/n3\n",
    "    else:\n",
    "        n3=n3+1\n",
    "print(li)\n",
    "print('\\n')\n",
    "while 1:\n",
    "    if n2==1:\n",
    "        break;\n",
    "    elif n2%n4==0:\n",
    "        print(n2)\n",
    "        lis.append(n4)\n",
    "        n2=n2/n4\n",
    "    else:\n",
    "        n4=n4+1\n",
    "print(lis)"
   ]
  },
  {
   "cell_type": "code",
   "execution_count": 17,
   "metadata": {},
   "outputs": [
    {
     "name": "stdout",
     "output_type": "stream",
     "text": [
      "Number1=36\n",
      "Number2=42\n",
      "[2, 2, 3, 3]\n",
      "[2, 3, 7]\n"
     ]
    }
   ],
   "source": [
    "\n",
    "n1=int(input('Number1='))\n",
    "n2=int(input('Number2='))\n",
    "n3=2\n",
    "n4=2\n",
    "li=[]\n",
    "lis=[]\n",
    "while 1:\n",
    "    if n1==1:\n",
    "        break;\n",
    "    elif n1%n3==0:\n",
    "        li.append(n3)\n",
    "        n1=n1/n3\n",
    "    else:\n",
    "        n3=n3+1\n",
    "print(li)\n",
    "while 1:\n",
    "    if n2==1:\n",
    "        break;\n",
    "    elif n2%n4==0:\n",
    "        lis.append(n4)\n",
    "        n2=n2/n4\n",
    "    else:\n",
    "        n4=n4+1\n",
    "print(lis)"
   ]
  },
  {
   "cell_type": "code",
   "execution_count": 1,
   "metadata": {},
   "outputs": [
    {
     "name": "stdout",
     "output_type": "stream",
     "text": [
      "2\n",
      "= 2\n",
      "2\n",
      "= 2\n",
      "3\n",
      "= 3\n",
      "4\n",
      "= 5\n",
      "8\n"
     ]
    },
    {
     "ename": "IndexError",
     "evalue": "pop index out of range",
     "output_type": "error",
     "traceback": [
      "\u001b[1;31m---------------------------------------------------------------------------\u001b[0m",
      "\u001b[1;31mIndexError\u001b[0m                                Traceback (most recent call last)",
      "\u001b[1;32m<ipython-input-1-6fd7f668490d>\u001b[0m in \u001b[0;36m<module>\u001b[1;34m\u001b[0m\n\u001b[0;32m      6\u001b[0m         \u001b[0mprint\u001b[0m\u001b[1;33m(\u001b[0m\u001b[0ml1\u001b[0m\u001b[1;33m[\u001b[0m\u001b[0mn\u001b[0m\u001b[1;33m]\u001b[0m\u001b[1;33m)\u001b[0m\u001b[1;33m\u001b[0m\u001b[1;33m\u001b[0m\u001b[0m\n\u001b[0;32m      7\u001b[0m         \u001b[0mtot\u001b[0m\u001b[1;33m=\u001b[0m\u001b[0mtot\u001b[0m\u001b[1;33m*\u001b[0m\u001b[0ml1\u001b[0m\u001b[1;33m[\u001b[0m\u001b[0mn\u001b[0m\u001b[1;33m]\u001b[0m\u001b[1;33m\u001b[0m\u001b[1;33m\u001b[0m\u001b[0m\n\u001b[1;32m----> 8\u001b[1;33m         \u001b[0mpoped_item\u001b[0m\u001b[1;33m=\u001b[0m\u001b[0ml2\u001b[0m\u001b[1;33m.\u001b[0m\u001b[0mpop\u001b[0m\u001b[1;33m(\u001b[0m\u001b[0ml1\u001b[0m\u001b[1;33m[\u001b[0m\u001b[0mn\u001b[0m\u001b[1;33m]\u001b[0m\u001b[1;33m)\u001b[0m\u001b[1;33m\u001b[0m\u001b[1;33m\u001b[0m\u001b[0m\n\u001b[0m\u001b[0;32m      9\u001b[0m         \u001b[0mprint\u001b[0m\u001b[1;33m(\u001b[0m\u001b[1;34m'='\u001b[0m\u001b[1;33m,\u001b[0m\u001b[0mpoped_item\u001b[0m\u001b[1;33m)\u001b[0m\u001b[1;33m\u001b[0m\u001b[1;33m\u001b[0m\u001b[0m\n\u001b[0;32m     10\u001b[0m     \u001b[1;32melif\u001b[0m \u001b[0ml1\u001b[0m\u001b[1;33m==\u001b[0m\u001b[1;33m[\u001b[0m\u001b[1;33m]\u001b[0m \u001b[1;32mor\u001b[0m \u001b[0ml2\u001b[0m\u001b[1;33m==\u001b[0m\u001b[1;33m[\u001b[0m\u001b[1;33m]\u001b[0m\u001b[1;33m:\u001b[0m\u001b[1;33m\u001b[0m\u001b[1;33m\u001b[0m\u001b[0m\n",
      "\u001b[1;31mIndexError\u001b[0m: pop index out of range"
     ]
    }
   ],
   "source": [
    "tot=1\n",
    "l1=[1,2,2,3,3,3,3,3,4,6,8]\n",
    "l2=[2,2,2,2,2,3,4,5,8,8,9]\n",
    "for n in range(len(l1)):\n",
    "    if l1[n] in l2:\n",
    "        print(l1[n])\n",
    "        tot=tot*l1[n]\n",
    "        poped_item=l2.pop(l1[n])\n",
    "        print('=',poped_item)\n",
    "    elif l1==[] or l2==[]:\n",
    "        break;\n",
    "print(tot)"
   ]
  },
  {
   "cell_type": "code",
   "execution_count": 2,
   "metadata": {},
   "outputs": [
    {
     "name": "stdout",
     "output_type": "stream",
     "text": [
      "2\n",
      "= 2\n",
      "2\n",
      "= 2\n",
      "3\n",
      "= 3\n",
      "4\n",
      "= 4\n",
      "8\n"
     ]
    },
    {
     "ename": "IndexError",
     "evalue": "pop index out of range",
     "output_type": "error",
     "traceback": [
      "\u001b[1;31m---------------------------------------------------------------------------\u001b[0m",
      "\u001b[1;31mIndexError\u001b[0m                                Traceback (most recent call last)",
      "\u001b[1;32m<ipython-input-2-63469e565bbb>\u001b[0m in \u001b[0;36m<module>\u001b[1;34m\u001b[0m\n\u001b[0;32m      6\u001b[0m        \u001b[0mprint\u001b[0m\u001b[1;33m(\u001b[0m\u001b[0ml1\u001b[0m\u001b[1;33m[\u001b[0m\u001b[0mn\u001b[0m\u001b[1;33m]\u001b[0m\u001b[1;33m)\u001b[0m\u001b[1;33m\u001b[0m\u001b[1;33m\u001b[0m\u001b[0m\n\u001b[0;32m      7\u001b[0m        \u001b[0mtot\u001b[0m\u001b[1;33m=\u001b[0m\u001b[0mtot\u001b[0m\u001b[1;33m*\u001b[0m\u001b[0ml1\u001b[0m\u001b[1;33m[\u001b[0m\u001b[0mn\u001b[0m\u001b[1;33m]\u001b[0m\u001b[1;33m\u001b[0m\u001b[1;33m\u001b[0m\u001b[0m\n\u001b[1;32m----> 8\u001b[1;33m        \u001b[0mpoped_item\u001b[0m\u001b[1;33m=\u001b[0m\u001b[0ml2\u001b[0m\u001b[1;33m.\u001b[0m\u001b[0mpop\u001b[0m\u001b[1;33m(\u001b[0m\u001b[0ml1\u001b[0m\u001b[1;33m[\u001b[0m\u001b[0mn\u001b[0m\u001b[1;33m]\u001b[0m\u001b[1;33m)\u001b[0m\u001b[1;33m\u001b[0m\u001b[1;33m\u001b[0m\u001b[0m\n\u001b[0m\u001b[0;32m      9\u001b[0m        \u001b[0mprint\u001b[0m\u001b[1;33m(\u001b[0m\u001b[1;34m'='\u001b[0m\u001b[1;33m,\u001b[0m\u001b[0mpoped_item\u001b[0m\u001b[1;33m)\u001b[0m\u001b[1;33m\u001b[0m\u001b[1;33m\u001b[0m\u001b[0m\n\u001b[0;32m     10\u001b[0m    \u001b[1;32melif\u001b[0m \u001b[0ml1\u001b[0m\u001b[1;33m==\u001b[0m\u001b[1;33m[\u001b[0m\u001b[1;33m]\u001b[0m \u001b[1;32mor\u001b[0m \u001b[0ml2\u001b[0m\u001b[1;33m==\u001b[0m\u001b[1;33m[\u001b[0m\u001b[1;33m]\u001b[0m\u001b[1;33m:\u001b[0m\u001b[1;33m\u001b[0m\u001b[1;33m\u001b[0m\u001b[0m\n",
      "\u001b[1;31mIndexError\u001b[0m: pop index out of range"
     ]
    }
   ],
   "source": [
    " tot=1\n",
    "l1=[1,2,2,3,3,3,3,3,4,6,8]\n",
    "l2=[2,2,2,2,2,3,5,4,5,8,8,9]\n",
    "for n in range(len(l1)):\n",
    "    if l1[n] in l2:\n",
    "        print(l1[n])\n",
    "        tot=tot*l1[n]\n",
    "        poped_item=l2.pop(l1[n])\n",
    "        print('=',poped_item)\n",
    "    elif l1==[] or l2==[]:\n",
    "        break;\n",
    "print(tot)"
   ]
  },
  {
   "cell_type": "code",
   "execution_count": 3,
   "metadata": {},
   "outputs": [
    {
     "name": "stdout",
     "output_type": "stream",
     "text": [
      "2\n",
      "= 2\n",
      "2\n",
      "= 2\n",
      "3\n",
      "= 3\n",
      "4\n",
      "= 5\n",
      "8\n"
     ]
    },
    {
     "ename": "IndexError",
     "evalue": "pop index out of range",
     "output_type": "error",
     "traceback": [
      "\u001b[1;31m---------------------------------------------------------------------------\u001b[0m",
      "\u001b[1;31mIndexError\u001b[0m                                Traceback (most recent call last)",
      "\u001b[1;32m<ipython-input-3-be94077ee307>\u001b[0m in \u001b[0;36m<module>\u001b[1;34m\u001b[0m\n\u001b[0;32m      6\u001b[0m        \u001b[0mprint\u001b[0m\u001b[1;33m(\u001b[0m\u001b[0ml1\u001b[0m\u001b[1;33m[\u001b[0m\u001b[0mn\u001b[0m\u001b[1;33m]\u001b[0m\u001b[1;33m)\u001b[0m\u001b[1;33m\u001b[0m\u001b[1;33m\u001b[0m\u001b[0m\n\u001b[0;32m      7\u001b[0m        \u001b[0mtot\u001b[0m\u001b[1;33m=\u001b[0m\u001b[0mtot\u001b[0m\u001b[1;33m*\u001b[0m\u001b[0ml1\u001b[0m\u001b[1;33m[\u001b[0m\u001b[0mn\u001b[0m\u001b[1;33m]\u001b[0m\u001b[1;33m\u001b[0m\u001b[1;33m\u001b[0m\u001b[0m\n\u001b[1;32m----> 8\u001b[1;33m        \u001b[0mpoped_item\u001b[0m\u001b[1;33m=\u001b[0m\u001b[0ml2\u001b[0m\u001b[1;33m.\u001b[0m\u001b[0mpop\u001b[0m\u001b[1;33m(\u001b[0m\u001b[0ml1\u001b[0m\u001b[1;33m[\u001b[0m\u001b[0mn\u001b[0m\u001b[1;33m]\u001b[0m\u001b[1;33m)\u001b[0m\u001b[1;33m\u001b[0m\u001b[1;33m\u001b[0m\u001b[0m\n\u001b[0m\u001b[0;32m      9\u001b[0m        \u001b[0mprint\u001b[0m\u001b[1;33m(\u001b[0m\u001b[1;34m'='\u001b[0m\u001b[1;33m,\u001b[0m\u001b[0mpoped_item\u001b[0m\u001b[1;33m)\u001b[0m\u001b[1;33m\u001b[0m\u001b[1;33m\u001b[0m\u001b[0m\n\u001b[0;32m     10\u001b[0m    \u001b[1;32melif\u001b[0m \u001b[0ml1\u001b[0m\u001b[1;33m==\u001b[0m\u001b[1;33m[\u001b[0m\u001b[1;33m]\u001b[0m \u001b[1;32mor\u001b[0m \u001b[0ml2\u001b[0m\u001b[1;33m==\u001b[0m\u001b[1;33m[\u001b[0m\u001b[1;33m]\u001b[0m\u001b[1;33m:\u001b[0m\u001b[1;33m\u001b[0m\u001b[1;33m\u001b[0m\u001b[0m\n",
      "\u001b[1;31mIndexError\u001b[0m: pop index out of range"
     ]
    }
   ],
   "source": [
    " tot=1\n",
    "l1=[1,2,2,3,3,3,3,3,4,6,8]\n",
    "l2=[2,2,2,2,2,3,4,5,8,8,9]\n",
    "for n in range(len(l1)):\n",
    "    if l1[n] in l2:\n",
    "        print(l1[n])\n",
    "        tot=tot*l1[n]\n",
    "        poped_item=l2.pop(l1[n])\n",
    "        print('=',poped_item)\n",
    "    elif l1==[] or l2==[]:\n",
    "        break;\n",
    "print(tot)"
   ]
  },
  {
   "cell_type": "code",
   "execution_count": 4,
   "metadata": {},
   "outputs": [
    {
     "name": "stdout",
     "output_type": "stream",
     "text": [
      "2\n",
      "= 2\n",
      "2\n",
      "= 2\n",
      "3\n",
      "= 3\n",
      "4\n",
      "= 5\n",
      "8\n"
     ]
    },
    {
     "ename": "IndexError",
     "evalue": "pop index out of range",
     "output_type": "error",
     "traceback": [
      "\u001b[1;31m---------------------------------------------------------------------------\u001b[0m",
      "\u001b[1;31mIndexError\u001b[0m                                Traceback (most recent call last)",
      "\u001b[1;32m<ipython-input-4-9449e9601263>\u001b[0m in \u001b[0;36m<module>\u001b[1;34m\u001b[0m\n\u001b[0;32m      6\u001b[0m         \u001b[0mprint\u001b[0m\u001b[1;33m(\u001b[0m\u001b[0ml1\u001b[0m\u001b[1;33m[\u001b[0m\u001b[0mn\u001b[0m\u001b[1;33m]\u001b[0m\u001b[1;33m)\u001b[0m\u001b[1;33m\u001b[0m\u001b[1;33m\u001b[0m\u001b[0m\n\u001b[0;32m      7\u001b[0m         \u001b[0mtot\u001b[0m\u001b[1;33m=\u001b[0m\u001b[0mtot\u001b[0m\u001b[1;33m*\u001b[0m\u001b[0ml1\u001b[0m\u001b[1;33m[\u001b[0m\u001b[0mn\u001b[0m\u001b[1;33m]\u001b[0m\u001b[1;33m\u001b[0m\u001b[1;33m\u001b[0m\u001b[0m\n\u001b[1;32m----> 8\u001b[1;33m         \u001b[0mpoped_item\u001b[0m\u001b[1;33m=\u001b[0m\u001b[0ml2\u001b[0m\u001b[1;33m.\u001b[0m\u001b[0mpop\u001b[0m\u001b[1;33m(\u001b[0m\u001b[0ml1\u001b[0m\u001b[1;33m[\u001b[0m\u001b[0mn\u001b[0m\u001b[1;33m]\u001b[0m\u001b[1;33m)\u001b[0m\u001b[1;33m\u001b[0m\u001b[1;33m\u001b[0m\u001b[0m\n\u001b[0m\u001b[0;32m      9\u001b[0m         \u001b[0mprint\u001b[0m\u001b[1;33m(\u001b[0m\u001b[1;34m'='\u001b[0m\u001b[1;33m,\u001b[0m\u001b[0mpoped_item\u001b[0m\u001b[1;33m)\u001b[0m\u001b[1;33m\u001b[0m\u001b[1;33m\u001b[0m\u001b[0m\n\u001b[0;32m     10\u001b[0m     \u001b[1;32melif\u001b[0m \u001b[0ml1\u001b[0m\u001b[1;33m==\u001b[0m\u001b[1;33m[\u001b[0m\u001b[1;33m]\u001b[0m \u001b[1;32mor\u001b[0m \u001b[0ml2\u001b[0m\u001b[1;33m==\u001b[0m\u001b[1;33m[\u001b[0m\u001b[1;33m]\u001b[0m\u001b[1;33m:\u001b[0m\u001b[1;33m\u001b[0m\u001b[1;33m\u001b[0m\u001b[0m\n",
      "\u001b[1;31mIndexError\u001b[0m: pop index out of range"
     ]
    }
   ],
   "source": [
    "tot=1\n",
    "l1=[1,2,2,3,3,3,3,3,4,6,8,11]\n",
    "l2=[2,2,2,2,2,3,4,5,8,8,9,11]\n",
    "for n in range(len(l1)):\n",
    "    if l1[n] in l2:\n",
    "        print(l1[n])\n",
    "        tot=tot*l1[n]\n",
    "        poped_item=l2.pop(l1[n])\n",
    "        print('=',poped_item)\n",
    "    elif l1==[] or l2==[]:\n",
    "        break;\n",
    "print(tot)"
   ]
  },
  {
   "cell_type": "code",
   "execution_count": 5,
   "metadata": {},
   "outputs": [
    {
     "name": "stdout",
     "output_type": "stream",
     "text": [
      "2\n",
      "= 2\n",
      "2\n",
      "= 2\n",
      "3\n",
      "= 3\n",
      "4\n",
      "= 5\n",
      "4\n",
      "= 8\n",
      "8\n"
     ]
    },
    {
     "ename": "IndexError",
     "evalue": "pop index out of range",
     "output_type": "error",
     "traceback": [
      "\u001b[1;31m---------------------------------------------------------------------------\u001b[0m",
      "\u001b[1;31mIndexError\u001b[0m                                Traceback (most recent call last)",
      "\u001b[1;32m<ipython-input-5-ff29874dbaf5>\u001b[0m in \u001b[0;36m<module>\u001b[1;34m\u001b[0m\n\u001b[0;32m      6\u001b[0m        \u001b[0mprint\u001b[0m\u001b[1;33m(\u001b[0m\u001b[0ml1\u001b[0m\u001b[1;33m[\u001b[0m\u001b[0mn\u001b[0m\u001b[1;33m]\u001b[0m\u001b[1;33m)\u001b[0m\u001b[1;33m\u001b[0m\u001b[1;33m\u001b[0m\u001b[0m\n\u001b[0;32m      7\u001b[0m        \u001b[0mtot\u001b[0m\u001b[1;33m=\u001b[0m\u001b[0mtot\u001b[0m\u001b[1;33m*\u001b[0m\u001b[0ml1\u001b[0m\u001b[1;33m[\u001b[0m\u001b[0mn\u001b[0m\u001b[1;33m]\u001b[0m\u001b[1;33m\u001b[0m\u001b[1;33m\u001b[0m\u001b[0m\n\u001b[1;32m----> 8\u001b[1;33m        \u001b[0mpoped_item\u001b[0m\u001b[1;33m=\u001b[0m\u001b[0ml2\u001b[0m\u001b[1;33m.\u001b[0m\u001b[0mpop\u001b[0m\u001b[1;33m(\u001b[0m\u001b[0ml1\u001b[0m\u001b[1;33m[\u001b[0m\u001b[0mn\u001b[0m\u001b[1;33m]\u001b[0m\u001b[1;33m)\u001b[0m\u001b[1;33m\u001b[0m\u001b[1;33m\u001b[0m\u001b[0m\n\u001b[0m\u001b[0;32m      9\u001b[0m        \u001b[0mprint\u001b[0m\u001b[1;33m(\u001b[0m\u001b[1;34m'='\u001b[0m\u001b[1;33m,\u001b[0m\u001b[0mpoped_item\u001b[0m\u001b[1;33m)\u001b[0m\u001b[1;33m\u001b[0m\u001b[1;33m\u001b[0m\u001b[0m\n\u001b[0;32m     10\u001b[0m    \u001b[1;32melif\u001b[0m \u001b[0ml1\u001b[0m\u001b[1;33m==\u001b[0m\u001b[1;33m[\u001b[0m\u001b[1;33m]\u001b[0m \u001b[1;32mor\u001b[0m \u001b[0ml2\u001b[0m\u001b[1;33m==\u001b[0m\u001b[1;33m[\u001b[0m\u001b[1;33m]\u001b[0m\u001b[1;33m:\u001b[0m\u001b[1;33m\u001b[0m\u001b[1;33m\u001b[0m\u001b[0m\n",
      "\u001b[1;31mIndexError\u001b[0m: pop index out of range"
     ]
    }
   ],
   "source": [
    " tot=1\n",
    "l1=[1,2,2,3,3,3,3,3,4,4,6,8,11]\n",
    "l2=[2,2,2,2,2,3,4,5,8,8,9,11]\n",
    "for n in range(len(l1)):\n",
    "    if l1[n] in l2:\n",
    "        print(l1[n])\n",
    "        tot=tot*l1[n]\n",
    "        poped_item=l2.pop(l1[n])\n",
    "        print('=',poped_item)\n",
    "    elif l1==[] or l2==[]:\n",
    "        break;\n",
    "print(tot)"
   ]
  },
  {
   "cell_type": "code",
   "execution_count": 6,
   "metadata": {},
   "outputs": [
    {
     "name": "stdout",
     "output_type": "stream",
     "text": [
      "2\n",
      "= 2\n",
      "2\n",
      "= 2\n",
      "3\n",
      "= 3\n",
      "3\n",
      "= 3\n",
      "4\n",
      "= 5\n",
      "4\n",
      "= 8\n",
      "11\n"
     ]
    },
    {
     "ename": "IndexError",
     "evalue": "pop index out of range",
     "output_type": "error",
     "traceback": [
      "\u001b[1;31m---------------------------------------------------------------------------\u001b[0m",
      "\u001b[1;31mIndexError\u001b[0m                                Traceback (most recent call last)",
      "\u001b[1;32m<ipython-input-6-83abdaaccac3>\u001b[0m in \u001b[0;36m<module>\u001b[1;34m\u001b[0m\n\u001b[0;32m      6\u001b[0m         \u001b[0mprint\u001b[0m\u001b[1;33m(\u001b[0m\u001b[0ml1\u001b[0m\u001b[1;33m[\u001b[0m\u001b[0mn\u001b[0m\u001b[1;33m]\u001b[0m\u001b[1;33m)\u001b[0m\u001b[1;33m\u001b[0m\u001b[1;33m\u001b[0m\u001b[0m\n\u001b[0;32m      7\u001b[0m         \u001b[0mtot\u001b[0m\u001b[1;33m=\u001b[0m\u001b[0mtot\u001b[0m\u001b[1;33m*\u001b[0m\u001b[0ml1\u001b[0m\u001b[1;33m[\u001b[0m\u001b[0mn\u001b[0m\u001b[1;33m]\u001b[0m\u001b[1;33m\u001b[0m\u001b[1;33m\u001b[0m\u001b[0m\n\u001b[1;32m----> 8\u001b[1;33m         \u001b[0mpoped_item\u001b[0m\u001b[1;33m=\u001b[0m\u001b[0ml2\u001b[0m\u001b[1;33m.\u001b[0m\u001b[0mpop\u001b[0m\u001b[1;33m(\u001b[0m\u001b[0ml1\u001b[0m\u001b[1;33m[\u001b[0m\u001b[0mn\u001b[0m\u001b[1;33m]\u001b[0m\u001b[1;33m)\u001b[0m\u001b[1;33m\u001b[0m\u001b[1;33m\u001b[0m\u001b[0m\n\u001b[0m\u001b[0;32m      9\u001b[0m         \u001b[0mprint\u001b[0m\u001b[1;33m(\u001b[0m\u001b[1;34m'='\u001b[0m\u001b[1;33m,\u001b[0m\u001b[0mpoped_item\u001b[0m\u001b[1;33m)\u001b[0m\u001b[1;33m\u001b[0m\u001b[1;33m\u001b[0m\u001b[0m\n\u001b[0;32m     10\u001b[0m     \u001b[1;32melif\u001b[0m \u001b[0ml1\u001b[0m\u001b[1;33m==\u001b[0m\u001b[1;33m[\u001b[0m\u001b[1;33m]\u001b[0m \u001b[1;32mor\u001b[0m \u001b[0ml2\u001b[0m\u001b[1;33m==\u001b[0m\u001b[1;33m[\u001b[0m\u001b[1;33m]\u001b[0m\u001b[1;33m:\u001b[0m\u001b[1;33m\u001b[0m\u001b[1;33m\u001b[0m\u001b[0m\n",
      "\u001b[1;31mIndexError\u001b[0m: pop index out of range"
     ]
    }
   ],
   "source": [
    "tot=1\n",
    "l1=[1,2,2,3,3,3,3,3,4,4,6,8,11]\n",
    "l2=[2,2,2,2,2,3,3,4,5,8,9,11]\n",
    "for n in range(len(l1)):\n",
    "    if l1[n] in l2:\n",
    "        print(l1[n])\n",
    "        tot=tot*l1[n]\n",
    "        poped_item=l2.pop(l1[n])\n",
    "        print('=',poped_item)\n",
    "    elif l1==[] or l2==[]:\n",
    "        break;\n",
    "print(tot)\n"
   ]
  },
  {
   "cell_type": "code",
   "execution_count": 7,
   "metadata": {},
   "outputs": [
    {
     "name": "stdout",
     "output_type": "stream",
     "text": [
      "2\n",
      "= None\n",
      "2\n",
      "= None\n",
      "3\n",
      "= None\n",
      "3\n",
      "= None\n",
      "4\n",
      "= None\n",
      "8\n",
      "= None\n",
      "11\n",
      "= None\n",
      "12672\n"
     ]
    },
    {
     "data": {
      "text/plain": [
       "2"
      ]
     },
     "execution_count": 7,
     "metadata": {},
     "output_type": "execute_result"
    }
   ],
   "source": [
    "tot=1\n",
    "l1=[1,2,2,3,3,3,3,3,4,4,6,8,11]\n",
    "l2=[2,2,2,2,2,3,3,4,5,8,9,11]\n",
    "for n in range(len(l1)):\n",
    "    if l1[n] in l2:\n",
    "        print(l1[n])\n",
    "        tot=tot*l1[n]\n",
    "        poped_item=l2.remove(l1[n])\n",
    "        print('=',poped_item)\n",
    "    elif l1==[] or l2==[]:\n",
    "        break;\n",
    "print(tot)\n",
    "2"
   ]
  },
  {
   "cell_type": "code",
   "execution_count": 8,
   "metadata": {},
   "outputs": [
    {
     "name": "stdout",
     "output_type": "stream",
     "text": [
      "2\n",
      "2\n",
      "3\n",
      "3\n",
      "3\n",
      "3\n",
      "3\n",
      "4\n",
      "4\n",
      "8\n",
      "11\n",
      "1368576\n"
     ]
    }
   ],
   "source": [
    " tot=1\n",
    "l1=[1,2,2,3,3,3,3,3,4,4,6,8,11]\n",
    "l2=[2,2,2,2,2,3,3,4,5,8,9,11]\n",
    "for n in range(len(l1)):\n",
    "    if l1[n] in l2:\n",
    "        print(l1[n])\n",
    "        tot=tot*l1[n]\n",
    "        \n",
    "    elif l1==[] or l2==[]:\n",
    "        break;\n",
    "print(tot)"
   ]
  },
  {
   "cell_type": "code",
   "execution_count": 9,
   "metadata": {},
   "outputs": [
    {
     "name": "stdout",
     "output_type": "stream",
     "text": [
      "2\n",
      "= None\n",
      "2\n",
      "= None\n",
      "3\n",
      "= None\n",
      "3\n",
      "= None\n",
      "4\n",
      "= None\n",
      "8\n",
      "= None\n",
      "11\n",
      "= None\n",
      "12672\n"
     ]
    }
   ],
   "source": [
    " tot=1\n",
    "l1=[1,2,2,3,3,3,3,3,4,4,6,8,11]\n",
    "l2=[2,2,2,2,2,3,3,4,5,8,9,11]\n",
    "for n in range(len(l1)):\n",
    "    if l1[n] in l2:\n",
    "        print(l1[n])\n",
    "        tot=tot*l1[n]\n",
    "        poped_item=l2.remove(l1[n])\n",
    "        print('=',poped_item)\n",
    "    elif l1==[] or l2==[]:\n",
    "        break;\n",
    "print(tot)"
   ]
  },
  {
   "cell_type": "code",
   "execution_count": 10,
   "metadata": {},
   "outputs": [
    {
     "name": "stdout",
     "output_type": "stream",
     "text": [
      "2\n",
      "= 2\n",
      "2\n",
      "= 2\n",
      "3\n",
      "= 3\n",
      "3\n",
      "= 3\n",
      "4\n",
      "= 5\n",
      "4\n",
      "= 8\n",
      "11\n"
     ]
    },
    {
     "ename": "IndexError",
     "evalue": "pop index out of range",
     "output_type": "error",
     "traceback": [
      "\u001b[1;31m---------------------------------------------------------------------------\u001b[0m",
      "\u001b[1;31mIndexError\u001b[0m                                Traceback (most recent call last)",
      "\u001b[1;32m<ipython-input-10-83abdaaccac3>\u001b[0m in \u001b[0;36m<module>\u001b[1;34m\u001b[0m\n\u001b[0;32m      6\u001b[0m         \u001b[0mprint\u001b[0m\u001b[1;33m(\u001b[0m\u001b[0ml1\u001b[0m\u001b[1;33m[\u001b[0m\u001b[0mn\u001b[0m\u001b[1;33m]\u001b[0m\u001b[1;33m)\u001b[0m\u001b[1;33m\u001b[0m\u001b[1;33m\u001b[0m\u001b[0m\n\u001b[0;32m      7\u001b[0m         \u001b[0mtot\u001b[0m\u001b[1;33m=\u001b[0m\u001b[0mtot\u001b[0m\u001b[1;33m*\u001b[0m\u001b[0ml1\u001b[0m\u001b[1;33m[\u001b[0m\u001b[0mn\u001b[0m\u001b[1;33m]\u001b[0m\u001b[1;33m\u001b[0m\u001b[1;33m\u001b[0m\u001b[0m\n\u001b[1;32m----> 8\u001b[1;33m         \u001b[0mpoped_item\u001b[0m\u001b[1;33m=\u001b[0m\u001b[0ml2\u001b[0m\u001b[1;33m.\u001b[0m\u001b[0mpop\u001b[0m\u001b[1;33m(\u001b[0m\u001b[0ml1\u001b[0m\u001b[1;33m[\u001b[0m\u001b[0mn\u001b[0m\u001b[1;33m]\u001b[0m\u001b[1;33m)\u001b[0m\u001b[1;33m\u001b[0m\u001b[1;33m\u001b[0m\u001b[0m\n\u001b[0m\u001b[0;32m      9\u001b[0m         \u001b[0mprint\u001b[0m\u001b[1;33m(\u001b[0m\u001b[1;34m'='\u001b[0m\u001b[1;33m,\u001b[0m\u001b[0mpoped_item\u001b[0m\u001b[1;33m)\u001b[0m\u001b[1;33m\u001b[0m\u001b[1;33m\u001b[0m\u001b[0m\n\u001b[0;32m     10\u001b[0m     \u001b[1;32melif\u001b[0m \u001b[0ml1\u001b[0m\u001b[1;33m==\u001b[0m\u001b[1;33m[\u001b[0m\u001b[1;33m]\u001b[0m \u001b[1;32mor\u001b[0m \u001b[0ml2\u001b[0m\u001b[1;33m==\u001b[0m\u001b[1;33m[\u001b[0m\u001b[1;33m]\u001b[0m\u001b[1;33m:\u001b[0m\u001b[1;33m\u001b[0m\u001b[1;33m\u001b[0m\u001b[0m\n",
      "\u001b[1;31mIndexError\u001b[0m: pop index out of range"
     ]
    }
   ],
   "source": [
    "tot=1\n",
    "l1=[1,2,2,3,3,3,3,3,4,4,6,8,11]\n",
    "l2=[2,2,2,2,2,3,3,4,5,8,9,11]\n",
    "for n in range(len(l1)):\n",
    "    if l1[n] in l2:\n",
    "        print(l1[n])\n",
    "        tot=tot*l1[n]\n",
    "        poped_item=l2.pop(l1[n])\n",
    "        print('=',poped_item)\n",
    "    elif l1==[] or l2==[]:\n",
    "        break;\n",
    "print(tot)"
   ]
  },
  {
   "cell_type": "code",
   "execution_count": 11,
   "metadata": {},
   "outputs": [
    {
     "name": "stdout",
     "output_type": "stream",
     "text": [
      "2\n",
      "2\n",
      "3\n",
      "3\n",
      "4\n",
      "8\n",
      "11\n",
      "12672\n"
     ]
    }
   ],
   "source": [
    " tot=1\n",
    "l1=[1,2,2,3,3,3,3,3,4,4,6,8,11]\n",
    "l2=[2,2,2,2,2,3,3,4,5,8,9,11]\n",
    "for n in range(len(l1)):\n",
    "    if l1[n] in l2:\n",
    "        print(l1[n])\n",
    "        tot=tot*l1[n]\n",
    "        poped_item=l2.remove(l1[n])\n",
    "    elif l1==[] or l2==[]:\n",
    "        break;\n",
    "print(tot)"
   ]
  },
  {
   "cell_type": "code",
   "execution_count": 12,
   "metadata": {},
   "outputs": [
    {
     "name": "stdout",
     "output_type": "stream",
     "text": [
      "Number1=36\n",
      "Number2=42\n",
      "Factor of 36= [2, 2, 3, 3]\n",
      "Factor of 1.0=\n",
      "Common Factor= [2, 3]\n",
      "GCD= 6\n"
     ]
    }
   ],
   "source": [
    " n1=int(input('Number1='))\n",
    "n2=int(input('Number2='))\n",
    "n3=2\n",
    "n4=2\n",
    "tot=1\n",
    "li=[]\n",
    "lis=[]\n",
    "gcd=[]\n",
    "tex1=f'Factor of {n1}='\n",
    "while 1:\n",
    "    if n1==1:\n",
    "        break;\n",
    "    elif n1%n3==0:\n",
    "        li.append(n3)\n",
    "        n1=n1/n3\n",
    "    else:\n",
    "        n3=n3+1\n",
    "while 1:\n",
    "    if n2==1:\n",
    "        break;\n",
    "    elif n2%n4==0:\n",
    "        lis.append(n4)\n",
    "        n2=n2/n4\n",
    "    else:\n",
    "        n4=n4+1\n",
    "for n in range(len(li)):\n",
    "    if li[n] in lis:\n",
    "        gcd.append(li[n])\n",
    "        tot=tot*li[n]\n",
    "        poped_item=lis.remove(li[n])\n",
    "    elif li==[] or lis==[]:\n",
    "        break;\n",
    "print(tex1,li)\n",
    "print(f'Factor of {n2}=')\n",
    "print('Common Factor=',gcd)\n",
    "print('GCD=',tot)"
   ]
  },
  {
   "cell_type": "code",
   "execution_count": 13,
   "metadata": {},
   "outputs": [
    {
     "name": "stdout",
     "output_type": "stream",
     "text": [
      "Number1=36\n",
      "Number2=42\n",
      "Factor of 36= [2, 2, 3, 3]\n",
      "Factor of 42= [7]\n",
      "Common Factor   = [2, 3]\n",
      "GCD= 6\n"
     ]
    }
   ],
   "source": [
    " n1=int(input('Number1='))\n",
    "n2=int(input('Number2='))\n",
    "n3=2\n",
    "n4=2\n",
    "tot=1\n",
    "li=[]\n",
    "lis=[]\n",
    "gcd=[]\n",
    "tex1=f'Factor of {n1}='\n",
    "tex2=f'Factor of {n2}='\n",
    "while 1:\n",
    "    if n1==1:\n",
    "        break;\n",
    "    elif n1%n3==0:\n",
    "        li.append(n3)\n",
    "        n1=n1/n3\n",
    "    else:\n",
    "        n3=n3+1\n",
    "while 1:\n",
    "    if n2==1:\n",
    "        break;\n",
    "    elif n2%n4==0:\n",
    "        lis.append(n4)\n",
    "        n2=n2/n4\n",
    "    else:\n",
    "        n4=n4+1\n",
    "for n in range(len(li)):\n",
    "    if li[n] in lis:\n",
    "        gcd.append(li[n])\n",
    "        tot=tot*li[n]\n",
    "        poped_item=lis.remove(li[n])\n",
    "    elif li==[] or lis==[]:\n",
    "        break;\n",
    "print(tex1,li)\n",
    "print(tex2,lis)\n",
    "print('Common Factor   =',gcd)\n",
    "print('GCD=',tot)"
   ]
  },
  {
   "cell_type": "code",
   "execution_count": 14,
   "metadata": {},
   "outputs": [
    {
     "name": "stdout",
     "output_type": "stream",
     "text": [
      "Number1=36\n",
      "Number2=42\n",
      "Factor of 36= [2, 2, 3, 3]\n",
      "Factor of 42= [7]\n",
      "Common Factor   = [2, 3]\n",
      "GCD= 6\n"
     ]
    }
   ],
   "source": [
    " n1=int(input('Number1='))\n",
    "n2=int(input('Number2='))\n",
    "n3=2\n",
    "n4=2\n",
    "tot=1\n",
    "li=[]\n",
    "lis=[]\n",
    "gcd=[]\n",
    "tex1=f'Factor of {n1}='\n",
    "tex2=f'Factor of {n2}='\n",
    "while 1:\n",
    "    if n1==1:\n",
    "        break;\n",
    "    elif n1%n3==0:\n",
    "        li.append(n3)\n",
    "        n1=n1/n3\n",
    "    else:\n",
    "        n3=n3+1\n",
    "while 1:\n",
    "    if n2==1:\n",
    "        break;\n",
    "    elif n2%n4==0:\n",
    "        lis.append(n4)\n",
    "        n2=n2/n4\n",
    "    else:\n",
    "        n4=n4+1\n",
    "for n in range(len(li)):\n",
    "    if li[n] in lis:\n",
    "        gcd.append(li[n])\n",
    "        tot=tot*li[n]\n",
    "        poped_item=lis.remove(li[n])\n",
    "    elif li==[] or lis==[]:\n",
    "        break;\n",
    "print(tex1,li)\n",
    "print(tex2,lis)\n",
    "print('Common Factor   =',gcd)\n",
    "print('GCD=',tot)"
   ]
  },
  {
   "cell_type": "code",
   "execution_count": 15,
   "metadata": {},
   "outputs": [
    {
     "name": "stdout",
     "output_type": "stream",
     "text": [
      "Number1=36\n",
      "Number2=42\n",
      "Factor of 36 = [2, 2, 3, 3]\n",
      "Factor of 42 = [7]\n",
      "Common Factor = [2, 3]\n",
      "GCD= 6\n"
     ]
    }
   ],
   "source": [
    "n1=int(input('Number1='))\n",
    "n2=int(input('Number2='))\n",
    "n3=2\n",
    "n4=2\n",
    "tot=1\n",
    "li=[]\n",
    "lis=[]\n",
    "gcd=[]\n",
    "tex1=f'Factor of {n1} ='\n",
    "tex2=f'Factor of {n2} ='\n",
    "while 1:\n",
    "    if n1==1:\n",
    "        break;\n",
    "    elif n1%n3==0:\n",
    "        li.append(n3)\n",
    "        n1=n1/n3\n",
    "    else:\n",
    "        n3=n3+1\n",
    "while 1:\n",
    "    if n2==1:\n",
    "        break;\n",
    "    elif n2%n4==0:\n",
    "        lis.append(n4)\n",
    "        n2=n2/n4\n",
    "    else:\n",
    "        n4=n4+1\n",
    "for n in range(len(li)):\n",
    "    if li[n] in lis:\n",
    "        gcd.append(li[n])\n",
    "        tot=tot*li[n]\n",
    "        poped_item=lis.remove(li[n])\n",
    "    elif li==[] or lis==[]:\n",
    "        break;\n",
    "print(tex1,li)\n",
    "print(tex2,lis)\n",
    "print('Common Factor =',gcd)\n",
    "print('GCD=',tot)"
   ]
  },
  {
   "cell_type": "code",
   "execution_count": 16,
   "metadata": {},
   "outputs": [
    {
     "name": "stdout",
     "output_type": "stream",
     "text": [
      "Number1     = 36\n",
      "Number2     = 42\n",
      "Factor of 36  = [2, 2, 3, 3]\n",
      "Factor of 42  = [7]\n",
      "Common Factor = [2, 3]\n",
      "GCD= 6\n"
     ]
    }
   ],
   "source": [
    "n1=int(input('Number1     = '))\n",
    "n2=int(input('Number2     = '))\n",
    "n3=2\n",
    "n4=2\n",
    "tot=1\n",
    "li=[]\n",
    "lis=[]\n",
    "gcd=[]\n",
    "tex1=f'Factor of {n1}  ='\n",
    "tex2=f'Factor of {n2}  ='\n",
    "while 1:\n",
    "    if n1==1:\n",
    "        break;\n",
    "    elif n1%n3==0:\n",
    "        li.append(n3)\n",
    "        n1=n1/n3\n",
    "    else:\n",
    "        n3=n3+1\n",
    "while 1:\n",
    "    if n2==1:\n",
    "        break;\n",
    "    elif n2%n4==0:\n",
    "        lis.append(n4)\n",
    "        n2=n2/n4\n",
    "    else:\n",
    "        n4=n4+1\n",
    "for n in range(len(li)):\n",
    "    if li[n] in lis:\n",
    "        gcd.append(li[n])\n",
    "        tot=tot*li[n]\n",
    "        poped_item=lis.remove(li[n])\n",
    "    elif li==[] or lis==[]:\n",
    "        break;\n",
    "print(tex1,li)\n",
    "print(tex2,lis)\n",
    "print('Common Factor =',gcd)\n",
    "print('GCD=',tot)"
   ]
  },
  {
   "cell_type": "code",
   "execution_count": 17,
   "metadata": {},
   "outputs": [
    {
     "name": "stdout",
     "output_type": "stream",
     "text": [
      "Number1       = 36\n",
      "Number2       = 42\n",
      "Factor of 36  = [2, 2, 3, 3]\n",
      "Factor of 42  = [7]\n",
      "Common Factor = [2, 3]\n",
      "GCD= 6\n"
     ]
    }
   ],
   "source": [
    "n1=int(input('Number1       = '))\n",
    "n2=int(input('Number2       = '))\n",
    "n3=2\n",
    "n4=2\n",
    "tot=1\n",
    "li=[]\n",
    "lis=[]\n",
    "gcd=[]\n",
    "tex1=f'Factor of {n1}  ='\n",
    "tex2=f'Factor of {n2}  ='\n",
    "while 1:\n",
    "    if n1==1:\n",
    "        break;\n",
    "    elif n1%n3==0:\n",
    "        li.append(n3)\n",
    "        n1=n1/n3\n",
    "    else:\n",
    "        n3=n3+1\n",
    "while 1:\n",
    "    if n2==1:\n",
    "        break;\n",
    "    elif n2%n4==0:\n",
    "        lis.append(n4)\n",
    "        n2=n2/n4\n",
    "    else:\n",
    "        n4=n4+1\n",
    "xx=lis\n",
    "for n in range(len(li)):\n",
    "    if li[n] in lis:\n",
    "        gcd.append(li[n])\n",
    "        tot=tot*li[n]\n",
    "        poped_item=lis.remove(li[n])\n",
    "    elif li==[] or lis==[]:\n",
    "        break;\n",
    "print(tex1,li)\n",
    "print(tex2,xx)\n",
    "print('Common Factor =',gcd)\n",
    "print('GCD=',tot)"
   ]
  },
  {
   "cell_type": "code",
   "execution_count": 18,
   "metadata": {},
   "outputs": [
    {
     "name": "stdout",
     "output_type": "stream",
     "text": [
      "Number1       = 36\n",
      "Number2       = 42\n",
      "Factor of 36  = [2, 2, 3, 3]\n",
      "Factor of 42  = [2, 3, 7]\n",
      "Common Factor = [2, 3]\n",
      "GCD= 6\n"
     ]
    }
   ],
   "source": [
    "n1=int(input('Number1       = '))\n",
    "n2=int(input('Number2       = '))\n",
    "n3=2\n",
    "n4=2\n",
    "tot=1\n",
    "li=[]\n",
    "lis=[]\n",
    "gcd=[]\n",
    "new_list=[]\n",
    "tex1=f'Factor of {n1}  ='\n",
    "tex2=f'Factor of {n2}  ='\n",
    "while 1:\n",
    "    if n1==1:\n",
    "        break;\n",
    "    elif n1%n3==0:\n",
    "        li.append(n3)\n",
    "        n1=n1/n3\n",
    "    else:\n",
    "        n3=n3+1\n",
    "while 1:\n",
    "    if n2==1:\n",
    "        break;\n",
    "    elif n2%n4==0:\n",
    "        lis.append(n4)\n",
    "        n2=n2/n4\n",
    "    else:\n",
    "        n4=n4+1\n",
    "xx=new_list+lis\n",
    "for n in range(len(li)):\n",
    "    if li[n] in lis:\n",
    "        gcd.append(li[n])\n",
    "        tot=tot*li[n]\n",
    "        poped_item=lis.remove(li[n])\n",
    "    elif li==[] or lis==[]:\n",
    "        break;\n",
    "print(tex1,li)\n",
    "print(tex2,xx)\n",
    "print('Common Factor =',gcd)\n",
    "print('GCD=',tot)"
   ]
  },
  {
   "cell_type": "code",
   "execution_count": 1,
   "metadata": {},
   "outputs": [
    {
     "name": "stdout",
     "output_type": "stream",
     "text": [
      "Number1       = 35\n",
      "Number2       = 42\n",
      "Factor of 35  = [5, 7]\n",
      "Factor of 42  = [2, 3, 7]\n",
      "Common Factor = [7]\n",
      "GCD= 7\n"
     ]
    }
   ],
   "source": [
    "n1=int(input('Number1       = '))\n",
    "n2=int(input('Number2       = '))\n",
    "n3=2\n",
    "n4=2\n",
    "tot=1\n",
    "li=[]\n",
    "lis=[]\n",
    "gcd=[]\n",
    "new_list=[]\n",
    "tex1=f'Factor of {n1}  ='\n",
    "tex2=f'Factor of {n2}  ='\n",
    "while 1:\n",
    "    if n1==1:\n",
    "        break;\n",
    "    elif n1%n3==0:\n",
    "        li.append(n3)\n",
    "        n1=n1/n3\n",
    "    else:\n",
    "        n3=n3+1\n",
    "while 1:\n",
    "    if n2==1:\n",
    "        break;\n",
    "    elif n2%n4==0:\n",
    "        lis.append(n4)\n",
    "        n2=n2/n4\n",
    "    else:\n",
    "        n4=n4+1\n",
    "xx=new_list+lis\n",
    "for n in range(len(li)):\n",
    "    if li[n] in lis:\n",
    "        gcd.append(li[n])\n",
    "        tot=tot*li[n]\n",
    "        poped_item=lis.remove(li[n])\n",
    "    elif li==[] or lis==[]:\n",
    "        break;\n",
    "print(tex1,li)\n",
    "print(tex2,xx)\n",
    "print('Common Factor =',gcd)\n",
    "print('GCD=',tot)"
   ]
  },
  {
   "cell_type": "code",
   "execution_count": 3,
   "metadata": {},
   "outputs": [
    {
     "name": "stdout",
     "output_type": "stream",
     "text": [
      "Number1       = 3453456\n",
      "Number2       = 2232457896\n",
      "Factor of 3453456  = [2, 2, 2, 2, 3, 71947]\n",
      "Factor of 2232457896  = [2, 2, 2, 3, 19, 4895741]\n",
      "Common Factor = [2, 2, 2, 3]\n",
      "GCD= 24\n"
     ]
    }
   ],
   "source": [
    "n1=int(input('Number1       = '))\n",
    "n2=int(input('Number2       = '))\n",
    "n3=2\n",
    "n4=2\n",
    "tot=1\n",
    "li=[]\n",
    "lis=[]\n",
    "gcd=[]\n",
    "new_list=[]\n",
    "tex1=f'Factor of {n1}  ='\n",
    "tex2=f'Factor of {n2}  ='\n",
    "while 1:\n",
    "    if n1==1:\n",
    "        break;\n",
    "    elif n1%n3==0:\n",
    "        li.append(n3)\n",
    "        n1=n1/n3\n",
    "    else:\n",
    "        n3=n3+1\n",
    "while 1:\n",
    "    if n2==1:\n",
    "        break;\n",
    "    elif n2%n4==0:\n",
    "        lis.append(n4)\n",
    "        n2=n2/n4\n",
    "    else:\n",
    "        n4=n4+1\n",
    "xx=new_list+lis\n",
    "for n in range(len(li)):\n",
    "    if li[n] in lis:\n",
    "        gcd.append(li[n])\n",
    "        tot=tot*li[n]\n",
    "        poped_item=lis.remove(li[n])\n",
    "    elif li==[] or lis==[]:\n",
    "        break;\n",
    "print(tex1,li)\n",
    "print(tex2,xx)\n",
    "print('Common Factor =',gcd)\n",
    "print('GCD=',tot)"
   ]
  },
  {
   "cell_type": "code",
   "execution_count": 10,
   "metadata": {},
   "outputs": [
    {
     "name": "stdout",
     "output_type": "stream",
     "text": [
      "Number1       = 36\n",
      "Number2       = 56\n",
      "Factor of 36  = [2, 2, 3, 3]\n",
      "Factor of 56  = [2, 2, 2, 7]\n",
      "Common Factor = [2, 2]\n",
      "GCD= 4\n",
      "[2, 7]\n",
      "[3, 3]\n",
      "t= 9\n",
      "to= 14\n"
     ]
    }
   ],
   "source": [
    "n1=int(input('Number1       = '))\n",
    "n2=int(input('Number2       = '))\n",
    "n3=2\n",
    "n4=2\n",
    "tot=1\n",
    "t=1\n",
    "to=1\n",
    "li=[]\n",
    "lis=[]\n",
    "gcd=[]\n",
    "new_list=[]\n",
    "nw=[]\n",
    "pop=[]\n",
    "tex1=f'Factor of {n1}  ='\n",
    "tex2=f'Factor of {n2}  ='\n",
    "while 1:\n",
    "    if n1==1:\n",
    "        break;\n",
    "    elif n1%n3==0:\n",
    "        li.append(n3)\n",
    "        n1=n1/n3\n",
    "    else:\n",
    "        n3=n3+1\n",
    "while 1:\n",
    "    if n2==1:\n",
    "        break;\n",
    "    elif n2%n4==0:\n",
    "        lis.append(n4)\n",
    "        n2=n2/n4\n",
    "    else:\n",
    "        n4=n4+1\n",
    "xx=new_list+lis\n",
    "for n in range(len(li)):\n",
    "    if li[n] in lis:\n",
    "        gcd.append(li[n])\n",
    "        tot=tot*li[n]\n",
    "        poped_item=lis.remove(li[n])\n",
    "        pop.append(poped_item)\n",
    "    elif li[n] not in lis:\n",
    "        nw.append(li[n])\n",
    "        t=t*li[n]\n",
    "    elif li==[] or lis==[]:\n",
    "        break;\n",
    "for obje in lis:\n",
    "    to=to*obje\n",
    "print(tex1,li)\n",
    "print(tex2,xx)\n",
    "print('Common Factor =',gcd)\n",
    "print('GCD=',tot)\n",
    "print(lis)\n",
    "print(nw)\n",
    "print('t=',t)\n",
    "print('to=',to)"
   ]
  },
  {
   "cell_type": "code",
   "execution_count": 13,
   "metadata": {},
   "outputs": [
    {
     "name": "stdout",
     "output_type": "stream",
     "text": [
      "Number1       = 56\n",
      "Number2       = 36\n",
      "Factor of 56  = [2, 2, 2, 7]\n",
      "Factor of 36  = [2, 2, 3, 3]\n",
      "Common Factor = [2, 2]\n",
      "GCD= 4\n",
      "[3, 3]\n",
      "[2, 7]\n",
      "t= 14\n",
      "to= 9\n",
      "504\n"
     ]
    }
   ],
   "source": [
    "n1=int(input('Number1       = '))\n",
    "n2=int(input('Number2       = '))\n",
    "n3=2\n",
    "n4=2\n",
    "tot=1\n",
    "t=1\n",
    "to=1\n",
    "li=[]\n",
    "lis=[]\n",
    "gcd=[]\n",
    "new_list=[]\n",
    "nw=[]\n",
    "pop=[]\n",
    "tex1=f'Factor of {n1}  ='\n",
    "tex2=f'Factor of {n2}  ='\n",
    "while 1:\n",
    "    if n1==1:\n",
    "        break;\n",
    "    elif n1%n3==0:\n",
    "        li.append(n3)\n",
    "        n1=n1/n3\n",
    "    else:\n",
    "        n3=n3+1\n",
    "while 1:\n",
    "    if n2==1:\n",
    "        break;\n",
    "    elif n2%n4==0:\n",
    "        lis.append(n4)\n",
    "        n2=n2/n4\n",
    "    else:\n",
    "        n4=n4+1\n",
    "xx=new_list+lis\n",
    "for n in range(len(li)):\n",
    "    if li[n] in lis:\n",
    "        gcd.append(li[n])\n",
    "        tot=tot*li[n]\n",
    "        poped_item=lis.remove(li[n])\n",
    "        pop.append(poped_item)\n",
    "    elif li[n] not in lis:\n",
    "        nw.append(li[n])\n",
    "        t=t*li[n]\n",
    "    elif li==[] or lis==[]:\n",
    "        break;\n",
    "for obje in lis:\n",
    "    to=to*obje\n",
    "print(tex1,li)\n",
    "print(tex2,xx)\n",
    "print('Common Factor =',gcd)\n",
    "print('GCD=',tot)\n",
    "print(lis)\n",
    "print(nw)\n",
    "print('t=',t)\n",
    "print('to=',to)\n",
    "total=tot*t*to\n",
    "print(total)"
   ]
  },
  {
   "cell_type": "code",
   "execution_count": 24,
   "metadata": {},
   "outputs": [
    {
     "name": "stdout",
     "output_type": "stream",
     "text": [
      "Number1       = 56\n",
      "Number2       = 36\n",
      "Factor of 56  = [2, 2, 2, 7]\n",
      "Factor of 36  = [2, 2, 3, 3]\n",
      "Common Factor = [2, 2]\n",
      "GCD= 4\n",
      "Uncommon Factor [2, 7, 3, 3]\n",
      "to= 126\n",
      "LCM= 504\n"
     ]
    }
   ],
   "source": [
    "n1=int(input('Number1       = '))\n",
    "n2=int(input('Number2       = '))\n",
    "n3=2\n",
    "n4=2\n",
    "tot=1\n",
    "to=1\n",
    "li=[]\n",
    "lis=[]\n",
    "gcd=[]\n",
    "new_list=[]\n",
    "nw=[]\n",
    "pop=[]\n",
    "tex1=f'Factor of {n1}  ='\n",
    "tex2=f'Factor of {n2}  ='\n",
    "while 1:\n",
    "    if n1==1:\n",
    "        break;\n",
    "    elif n1%n3==0:\n",
    "        li.append(n3)\n",
    "        n1=n1/n3\n",
    "    else:\n",
    "        n3=n3+1\n",
    "while 1:\n",
    "    if n2==1:\n",
    "        break;\n",
    "    elif n2%n4==0:\n",
    "        lis.append(n4)\n",
    "        n2=n2/n4\n",
    "    else:\n",
    "        n4=n4+1\n",
    "xx=new_list+lis\n",
    "for n in range(len(li)):\n",
    "    if li[n] in lis:\n",
    "        gcd.append(li[n])\n",
    "        tot=tot*li[n]\n",
    "        poped_item=lis.remove(li[n])\n",
    "        pop.append(poped_item)\n",
    "    elif li[n] not in lis:\n",
    "        nw.append(li[n])\n",
    "    elif li==[] or lis==[]:\n",
    "        break;\n",
    "        \n",
    "uncommon_element_list=nw+lis\n",
    "for obje in uncommon_element_list:\n",
    "    to=to*obje\n",
    "print(tex1,li)\n",
    "print(tex2,xx)\n",
    "print('Common Factor =',gcd)\n",
    "print('GCD=',tot)\n",
    "print('Uncommon Factor',uncommon_element_list)\n",
    "print('to=',to)\n",
    "total=tot*to\n",
    "print('LCM=',total)"
   ]
  },
  {
   "cell_type": "code",
   "execution_count": 8,
   "metadata": {},
   "outputs": [
    {
     "name": "stdout",
     "output_type": "stream",
     "text": [
      "Number1         = 45\n",
      "Number2         = 36\n",
      "Factor of 45    = [3, 3, 5]\n",
      "Factor of 36    = [2, 2, 3, 3]\n",
      "Common   Factor = [3, 3]\n",
      "Uncommon Factor = [5, 2, 2]\n",
      "LCM= 180\n"
     ]
    }
   ],
   "source": [
    "number_1=int(input('Number1         = '))\n",
    "number_2=int(input('Number2         = '))\n",
    "n3=2\n",
    "n4=2\n",
    "tot=1\n",
    "to=1\n",
    "li=[]\n",
    "lis=[]\n",
    "common_factor_list=[]\n",
    "new_list=[]\n",
    "nw=[]\n",
    "tex1=f'Factor of {number_1}    ='\n",
    "tex2=f'Factor of {number_2}    ='\n",
    "while 1:\n",
    "    if number_1==1:\n",
    "        break;\n",
    "    elif number_1%n3==0:\n",
    "        li.append(n3)\n",
    "        number_1=number_1/n3\n",
    "    else:\n",
    "        n3=n3+1\n",
    "while 1:\n",
    "    if number_2==1:\n",
    "        break;\n",
    "    elif number_2%n4==0:\n",
    "        lis.append(n4)\n",
    "        number_2=number_2/n4\n",
    "    else:\n",
    "        n4=n4+1\n",
    "xx=new_list+lis\n",
    "for n in range(len(li)):\n",
    "    if li[n] in lis:\n",
    "        common_factor_list.append(li[n])\n",
    "        tot=tot*li[n]\n",
    "        poped_item=lis.remove(li[n])\n",
    "    elif li[n] not in lis:\n",
    "        nw.append(li[n])\n",
    "    elif li==[] or lis==[]:\n",
    "        break;\n",
    "uncommon_factor_list=nw+lis\n",
    "for obje in uncommon_factor_list:\n",
    "    to=to*obje\n",
    "print(tex1,li)\n",
    "print(tex2,xx)\n",
    "print('Common   Factor =',common_factor_list)\n",
    "print('Uncommon Factor =',uncommon_factor_list)\n",
    "total=tot*to\n",
    "print('LCM=',total)"
   ]
  },
  {
   "cell_type": "code",
   "execution_count": null,
   "metadata": {},
   "outputs": [],
   "source": []
  },
  {
   "cell_type": "code",
   "execution_count": null,
   "metadata": {},
   "outputs": [],
   "source": []
  }
 ],
 "metadata": {
  "kernelspec": {
   "display_name": "Python 3",
   "language": "python",
   "name": "python3"
  },
  "language_info": {
   "codemirror_mode": {
    "name": "ipython",
    "version": 3
   },
   "file_extension": ".py",
   "mimetype": "text/x-python",
   "name": "python",
   "nbconvert_exporter": "python",
   "pygments_lexer": "ipython3",
   "version": "3.7.4"
  }
 },
 "nbformat": 4,
 "nbformat_minor": 2
}
