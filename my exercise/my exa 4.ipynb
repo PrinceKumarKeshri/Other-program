{
 "cells": [
  {
   "cell_type": "code",
   "execution_count": 11,
   "metadata": {},
   "outputs": [
    {
     "name": "stdout",
     "output_type": "stream",
     "text": [
      "First  Number = 2\n",
      "Second Number = 3\n",
      "Third  Number = 1\n",
      "Sum =  6\n"
     ]
    }
   ],
   "source": [
    "num1=int(input('First  Number = '))\n",
    "num2=int(input('Second Number = '))\n",
    "num3=int(input('Third  Number = '))\n",
    "total=num1+num2+num3\n",
    "if num1!=num2!=num3:\n",
    "    print('Sum = ',total)\n",
    "elif num1==num2 or num2==num3 or num1==num3:\n",
    "    print('Sum = 0')"
   ]
  },
  {
   "cell_type": "code",
   "execution_count": 16,
   "metadata": {},
   "outputs": [
    {
     "name": "stdout",
     "output_type": "stream",
     "text": [
      "First  Number = 8\n",
      "Second Number = 8\n",
      "Sum = 20\n"
     ]
    }
   ],
   "source": [
    "num1=int(input('First  Number = '))\n",
    "num2=int(input('Second Number = '))\n",
    "total=num1+num2\n",
    "if 15<total<20:\n",
    "    print('Sum = 20')\n",
    "else:\n",
    "    print('Sum = ',total)"
   ]
  },
  {
   "cell_type": "code",
   "execution_count": 22,
   "metadata": {},
   "outputs": [
    {
     "name": "stdout",
     "output_type": "stream",
     "text": [
      "First  Number = 7\n",
      "Second Number = 2\n",
      "True\n"
     ]
    }
   ],
   "source": [
    "num1=int(input('First  Number = '))\n",
    "num2=int(input('Second Number = '))\n",
    "sum=num1+num2\n",
    "diff=num1-num2\n",
    "if num1==num2 or sum==5 or diff==5:\n",
    "    print('True')\n",
    "else:\n",
    "    print('False')"
   ]
  },
  {
   "cell_type": "code",
   "execution_count": 28,
   "metadata": {},
   "outputs": [
    {
     "name": "stdout",
     "output_type": "stream",
     "text": [
      "First object = 3\n",
      "Second object = 4\n",
      "34\n"
     ]
    }
   ],
   "source": [
    "a=input(\"First object = \")\n",
    "b=input(\"Second object = \")\n",
    "s=a+b\n",
    "print(s)\n",
    "if type(a)==int:\n",
    "    s=a+b\n",
    "    print(s)\n",
    "    print(f'Sum of objects = {s}')"
   ]
  },
  {
   "cell_type": "code",
   "execution_count": 29,
   "metadata": {},
   "outputs": [
    {
     "name": "stdout",
     "output_type": "stream",
     "text": [
      "First object = f\n",
      "Second object = 4\n",
      "f4\n"
     ]
    }
   ],
   "source": [
    "a=input(\"First object = \")\n",
    "b=input(\"Second object = \")\n",
    "s=a+b\n",
    "print(s)\n",
    "if type(a)==int:\n",
    "    s=a+b\n",
    "    print(s)\n",
    "    print(f'Sum of objects = {s}')"
   ]
  },
  {
   "cell_type": "code",
   "execution_count": 31,
   "metadata": {},
   "outputs": [
    {
     "name": "stdout",
     "output_type": "stream",
     "text": [
      "First object = 4\n",
      "Second object = 2\n",
      "a and b is not integer\n"
     ]
    }
   ],
   "source": [
    "a=input(\"First object = \")\n",
    "b=input(\"Second object = \")\n",
    "if type(a)==int:\n",
    "    s=a+b\n",
    "    print(f'Sum of objects = {s}')\n",
    "else:\n",
    "    print('a and b is not integer')"
   ]
  },
  {
   "cell_type": "code",
   "execution_count": 36,
   "metadata": {},
   "outputs": [
    {
     "name": "stdout",
     "output_type": "stream",
     "text": [
      "First object = 3\n",
      "Second object = 4\n",
      "<class 'str'>\n",
      "<class 'str'>\n"
     ]
    }
   ],
   "source": [
    "a=input(\"First object = \")\n",
    "b=input(\"Second object = \")\n",
    "print(type(a))\n",
    "print(type(b))\n",
    "if type(a)==int:\n",
    "    s=a+b\n",
    "    print(s)\n",
    "    print(f'Sum of objects = {s}')"
   ]
  },
  {
   "cell_type": "code",
   "execution_count": 39,
   "metadata": {},
   "outputs": [
    {
     "name": "stdout",
     "output_type": "stream",
     "text": [
      "4\n",
      "3\n"
     ]
    }
   ],
   "source": [
    "a=input(\"First object = \")\n",
    "b=input(\"Second object = \")\n",
    "if type(a)==int:\n",
    "    s=a+b\n",
    "    print(s)\n",
    "    print(f'Sum of objects = {s}')"
   ]
  },
  {
   "cell_type": "code",
   "execution_count": 21,
   "metadata": {},
   "outputs": [
    {
     "name": "stdout",
     "output_type": "stream",
     "text": [
      "5.4\n"
     ]
    }
   ],
   "source": [
    "a=5.4\n",
    "if type(a)==float:\n",
    "    print(a)"
   ]
  },
  {
   "cell_type": "code",
   "execution_count": 42,
   "metadata": {},
   "outputs": [
    {
     "name": "stdout",
     "output_type": "stream",
     "text": [
      "34,5,2222,4,esasgf,353\n"
     ]
    }
   ],
   "source": [
    "x=input()\n",
    "l=list(x.split(\",\"))\n",
    "t=tuple(l)"
   ]
  },
  {
   "cell_type": "code",
   "execution_count": 43,
   "metadata": {},
   "outputs": [
    {
     "data": {
      "text/plain": [
       "['34', '5', '2222', '4', 'esasgf', '353']"
      ]
     },
     "execution_count": 43,
     "metadata": {},
     "output_type": "execute_result"
    }
   ],
   "source": [
    "l"
   ]
  },
  {
   "cell_type": "code",
   "execution_count": 44,
   "metadata": {},
   "outputs": [
    {
     "data": {
      "text/plain": [
       "list"
      ]
     },
     "execution_count": 44,
     "metadata": {},
     "output_type": "execute_result"
    }
   ],
   "source": [
    "type(l)"
   ]
  },
  {
   "cell_type": "code",
   "execution_count": 45,
   "metadata": {},
   "outputs": [
    {
     "data": {
      "text/plain": [
       "('34', '5', '2222', '4', 'esasgf', '353')"
      ]
     },
     "execution_count": 45,
     "metadata": {},
     "output_type": "execute_result"
    }
   ],
   "source": [
    "t"
   ]
  },
  {
   "cell_type": "code",
   "execution_count": 46,
   "metadata": {},
   "outputs": [
    {
     "data": {
      "text/plain": [
       "tuple"
      ]
     },
     "execution_count": 46,
     "metadata": {},
     "output_type": "execute_result"
    }
   ],
   "source": [
    "type(t)"
   ]
  },
  {
   "cell_type": "code",
   "execution_count": 47,
   "metadata": {},
   "outputs": [
    {
     "name": "stdout",
     "output_type": "stream",
     "text": [
      "35.23432,dfg,sfdgh\n"
     ]
    }
   ],
   "source": [
    "x=input()\n",
    "l=x.split(\",\")\n",
    "t=tuple(l)"
   ]
  },
  {
   "cell_type": "code",
   "execution_count": 48,
   "metadata": {},
   "outputs": [
    {
     "data": {
      "text/plain": [
       "['35.23432', 'dfg', 'sfdgh']"
      ]
     },
     "execution_count": 48,
     "metadata": {},
     "output_type": "execute_result"
    }
   ],
   "source": [
    "l"
   ]
  },
  {
   "cell_type": "code",
   "execution_count": 52,
   "metadata": {},
   "outputs": [
    {
     "data": {
      "text/plain": [
       "list"
      ]
     },
     "execution_count": 52,
     "metadata": {},
     "output_type": "execute_result"
    }
   ],
   "source": [
    "type(l)"
   ]
  },
  {
   "cell_type": "code",
   "execution_count": 56,
   "metadata": {},
   "outputs": [
    {
     "name": "stdout",
     "output_type": "stream",
     "text": [
      "Enter two objects = 343,34\n",
      "34\n"
     ]
    }
   ],
   "source": [
    "a=input(\"Enter two objects = \")\n",
    "l=a.split(',')\n",
    "print(l[1])\n",
    "if type(l[0])==int and type(l[1]):\n",
    "    s=a+b\n",
    "    print(s)\n",
    "    print(f'Sum of objects = {s}')"
   ]
  },
  {
   "cell_type": "code",
   "execution_count": 57,
   "metadata": {},
   "outputs": [
    {
     "data": {
      "text/plain": [
       "4.0"
      ]
     },
     "execution_count": 57,
     "metadata": {},
     "output_type": "execute_result"
    }
   ],
   "source": [
    "4/1"
   ]
  },
  {
   "cell_type": "code",
   "execution_count": 64,
   "metadata": {},
   "outputs": [
    {
     "data": {
      "text/plain": [
       "0"
      ]
     },
     "execution_count": 64,
     "metadata": {},
     "output_type": "execute_result"
    }
   ],
   "source": [
    "4%1"
   ]
  },
  {
   "cell_type": "code",
   "execution_count": 65,
   "metadata": {},
   "outputs": [
    {
     "data": {
      "text/plain": [
       "4.3"
      ]
     },
     "execution_count": 65,
     "metadata": {},
     "output_type": "execute_result"
    }
   ],
   "source": [
    "4.3/1"
   ]
  },
  {
   "cell_type": "code",
   "execution_count": 60,
   "metadata": {},
   "outputs": [
    {
     "data": {
      "text/plain": [
       "0.2999999999999998"
      ]
     },
     "execution_count": 60,
     "metadata": {},
     "output_type": "execute_result"
    }
   ],
   "source": [
    "4.3%1"
   ]
  },
  {
   "cell_type": "code",
   "execution_count": 63,
   "metadata": {},
   "outputs": [
    {
     "name": "stdout",
     "output_type": "stream",
     "text": [
      "2.1\n"
     ]
    },
    {
     "data": {
      "text/plain": [
       "0.20000000000000018"
      ]
     },
     "execution_count": 63,
     "metadata": {},
     "output_type": "execute_result"
    }
   ],
   "source": [
    "print(4.2/2)\n",
    "4.2%2"
   ]
  },
  {
   "cell_type": "code",
   "execution_count": 66,
   "metadata": {},
   "outputs": [
    {
     "name": "stdout",
     "output_type": "stream",
     "text": [
      "234,34,2333,43\n"
     ]
    }
   ],
   "source": [
    "x=input()\n",
    "l=x.split(\",\")\n",
    "t=tuple(l)"
   ]
  },
  {
   "cell_type": "code",
   "execution_count": 67,
   "metadata": {},
   "outputs": [
    {
     "data": {
      "text/plain": [
       "['234', '34', '2333', '43']"
      ]
     },
     "execution_count": 67,
     "metadata": {},
     "output_type": "execute_result"
    }
   ],
   "source": [
    "l"
   ]
  },
  {
   "cell_type": "code",
   "execution_count": 69,
   "metadata": {},
   "outputs": [
    {
     "name": "stdout",
     "output_type": "stream",
     "text": [
      "3,5432,234\n"
     ]
    },
    {
     "ename": "TypeError",
     "evalue": "not all arguments converted during string formatting",
     "output_type": "error",
     "traceback": [
      "\u001b[1;31m---------------------------------------------------------------------------\u001b[0m",
      "\u001b[1;31mTypeError\u001b[0m                                 Traceback (most recent call last)",
      "\u001b[1;32m<ipython-input-69-bd63d7ac9306>\u001b[0m in \u001b[0;36m<module>\u001b[1;34m\u001b[0m\n\u001b[0;32m      1\u001b[0m \u001b[0mx\u001b[0m\u001b[1;33m=\u001b[0m\u001b[0minput\u001b[0m\u001b[1;33m(\u001b[0m\u001b[1;33m)\u001b[0m\u001b[1;33m\u001b[0m\u001b[1;33m\u001b[0m\u001b[0m\n\u001b[0;32m      2\u001b[0m \u001b[0ml\u001b[0m\u001b[1;33m=\u001b[0m\u001b[0mx\u001b[0m\u001b[1;33m.\u001b[0m\u001b[0msplit\u001b[0m\u001b[1;33m(\u001b[0m\u001b[1;34m\",\"\u001b[0m\u001b[1;33m)\u001b[0m\u001b[1;33m\u001b[0m\u001b[1;33m\u001b[0m\u001b[0m\n\u001b[1;32m----> 3\u001b[1;33m \u001b[0mlist\u001b[0m\u001b[1;33m(\u001b[0m\u001b[0mi\u001b[0m \u001b[1;32mfor\u001b[0m \u001b[0mi\u001b[0m \u001b[1;32min\u001b[0m \u001b[0ml\u001b[0m \u001b[1;32mif\u001b[0m \u001b[0mi\u001b[0m\u001b[1;33m%\u001b[0m\u001b[1;36m1\u001b[0m\u001b[1;33m==\u001b[0m\u001b[1;36m0\u001b[0m\u001b[1;33m)\u001b[0m\u001b[1;33m\u001b[0m\u001b[1;33m\u001b[0m\u001b[0m\n\u001b[0m\u001b[0;32m      4\u001b[0m \u001b[0mt\u001b[0m\u001b[1;33m=\u001b[0m\u001b[0mtuple\u001b[0m\u001b[1;33m(\u001b[0m\u001b[0ml\u001b[0m\u001b[1;33m)\u001b[0m\u001b[1;33m\u001b[0m\u001b[1;33m\u001b[0m\u001b[0m\n",
      "\u001b[1;32m<ipython-input-69-bd63d7ac9306>\u001b[0m in \u001b[0;36m<genexpr>\u001b[1;34m(.0)\u001b[0m\n\u001b[0;32m      1\u001b[0m \u001b[0mx\u001b[0m\u001b[1;33m=\u001b[0m\u001b[0minput\u001b[0m\u001b[1;33m(\u001b[0m\u001b[1;33m)\u001b[0m\u001b[1;33m\u001b[0m\u001b[1;33m\u001b[0m\u001b[0m\n\u001b[0;32m      2\u001b[0m \u001b[0ml\u001b[0m\u001b[1;33m=\u001b[0m\u001b[0mx\u001b[0m\u001b[1;33m.\u001b[0m\u001b[0msplit\u001b[0m\u001b[1;33m(\u001b[0m\u001b[1;34m\",\"\u001b[0m\u001b[1;33m)\u001b[0m\u001b[1;33m\u001b[0m\u001b[1;33m\u001b[0m\u001b[0m\n\u001b[1;32m----> 3\u001b[1;33m \u001b[0mlist\u001b[0m\u001b[1;33m(\u001b[0m\u001b[0mi\u001b[0m \u001b[1;32mfor\u001b[0m \u001b[0mi\u001b[0m \u001b[1;32min\u001b[0m \u001b[0ml\u001b[0m \u001b[1;32mif\u001b[0m \u001b[0mi\u001b[0m\u001b[1;33m%\u001b[0m\u001b[1;36m1\u001b[0m\u001b[1;33m==\u001b[0m\u001b[1;36m0\u001b[0m\u001b[1;33m)\u001b[0m\u001b[1;33m\u001b[0m\u001b[1;33m\u001b[0m\u001b[0m\n\u001b[0m\u001b[0;32m      4\u001b[0m \u001b[0mt\u001b[0m\u001b[1;33m=\u001b[0m\u001b[0mtuple\u001b[0m\u001b[1;33m(\u001b[0m\u001b[0ml\u001b[0m\u001b[1;33m)\u001b[0m\u001b[1;33m\u001b[0m\u001b[1;33m\u001b[0m\u001b[0m\n",
      "\u001b[1;31mTypeError\u001b[0m: not all arguments converted during string formatting"
     ]
    }
   ],
   "source": [
    "x=input()\n",
    "l=x.split(\",\")\n",
    "list(i for i in l if i%1==0)\n",
    "t=tuple(l)"
   ]
  },
  {
   "cell_type": "code",
   "execution_count": 72,
   "metadata": {},
   "outputs": [
    {
     "ename": "TypeError",
     "evalue": "not all arguments converted during string formatting",
     "output_type": "error",
     "traceback": [
      "\u001b[1;31m---------------------------------------------------------------------------\u001b[0m",
      "\u001b[1;31mTypeError\u001b[0m                                 Traceback (most recent call last)",
      "\u001b[1;32m<ipython-input-72-d577564a58c1>\u001b[0m in \u001b[0;36m<module>\u001b[1;34m\u001b[0m\n\u001b[0;32m      1\u001b[0m \u001b[0ml\u001b[0m\u001b[1;33m=\u001b[0m\u001b[1;33m[\u001b[0m\u001b[1;34m'234'\u001b[0m\u001b[1;33m,\u001b[0m\u001b[1;36m434\u001b[0m\u001b[1;33m]\u001b[0m\u001b[1;33m\u001b[0m\u001b[1;33m\u001b[0m\u001b[0m\n\u001b[1;32m----> 2\u001b[1;33m \u001b[0ml\u001b[0m\u001b[1;33m[\u001b[0m\u001b[1;36m0\u001b[0m\u001b[1;33m]\u001b[0m\u001b[1;33m[\u001b[0m\u001b[1;36m0\u001b[0m\u001b[1;33m]\u001b[0m\u001b[1;33m%\u001b[0m\u001b[1;36m1\u001b[0m\u001b[1;33m==\u001b[0m\u001b[1;36m0\u001b[0m\u001b[1;33m\u001b[0m\u001b[1;33m\u001b[0m\u001b[0m\n\u001b[0m",
      "\u001b[1;31mTypeError\u001b[0m: not all arguments converted during string formatting"
     ]
    }
   ],
   "source": [
    "l=['234',434]\n",
    "l[0][0]%1==0"
   ]
  },
  {
   "cell_type": "code",
   "execution_count": 89,
   "metadata": {},
   "outputs": [
    {
     "name": "stdout",
     "output_type": "stream",
     "text": [
      "3\n",
      "<class 'str'>\n"
     ]
    },
    {
     "ename": "TypeError",
     "evalue": "not all arguments converted during string formatting",
     "output_type": "error",
     "traceback": [
      "\u001b[1;31m---------------------------------------------------------------------------\u001b[0m",
      "\u001b[1;31mTypeError\u001b[0m                                 Traceback (most recent call last)",
      "\u001b[1;32m<ipython-input-89-1d4101339d1c>\u001b[0m in \u001b[0;36m<module>\u001b[1;34m\u001b[0m\n\u001b[0;32m      3\u001b[0m \u001b[0mprint\u001b[0m\u001b[1;33m(\u001b[0m\u001b[0mtype\u001b[0m\u001b[1;33m(\u001b[0m\u001b[0ml\u001b[0m\u001b[1;33m[\u001b[0m\u001b[1;36m0\u001b[0m\u001b[1;33m]\u001b[0m\u001b[1;33m)\u001b[0m\u001b[1;33m)\u001b[0m\u001b[1;33m\u001b[0m\u001b[1;33m\u001b[0m\u001b[0m\n\u001b[0;32m      4\u001b[0m \u001b[1;32mfor\u001b[0m \u001b[0mi\u001b[0m \u001b[1;32min\u001b[0m \u001b[0mrange\u001b[0m\u001b[1;33m(\u001b[0m\u001b[0mlen\u001b[0m\u001b[1;33m(\u001b[0m\u001b[0ml\u001b[0m\u001b[1;33m)\u001b[0m\u001b[1;33m+\u001b[0m\u001b[1;36m1\u001b[0m\u001b[1;33m)\u001b[0m\u001b[1;33m:\u001b[0m\u001b[1;33m\u001b[0m\u001b[1;33m\u001b[0m\u001b[0m\n\u001b[1;32m----> 5\u001b[1;33m     \u001b[0ml\u001b[0m\u001b[1;33m[\u001b[0m\u001b[1;36m0\u001b[0m\u001b[1;33m]\u001b[0m\u001b[1;33m[\u001b[0m\u001b[0mi\u001b[0m\u001b[1;33m]\u001b[0m\u001b[1;33m%\u001b[0m\u001b[1;36m1\u001b[0m\u001b[1;33m==\u001b[0m\u001b[1;36m0\u001b[0m\u001b[1;33m\u001b[0m\u001b[1;33m\u001b[0m\u001b[0m\n\u001b[0m\u001b[0;32m      6\u001b[0m \u001b[1;33m\u001b[0m\u001b[0m\n",
      "\u001b[1;31mTypeError\u001b[0m: not all arguments converted during string formatting"
     ]
    }
   ],
   "source": [
    "l=['234',434]\n",
    "print(len(l[0]))\n",
    "print(type(l[0]))\n",
    "for i in range(len(l)+1):\n",
    "    l[0][i]%1==0\n",
    "    "
   ]
  },
  {
   "cell_type": "code",
   "execution_count": 105,
   "metadata": {},
   "outputs": [
    {
     "name": "stdout",
     "output_type": "stream",
     "text": [
      "<class 'int'>\n",
      "334\n"
     ]
    }
   ],
   "source": [
    "a='334'\n",
    "b=int(a)\n",
    "print(type(b))\n",
    "print(b)"
   ]
  },
  {
   "cell_type": "code",
   "execution_count": 108,
   "metadata": {},
   "outputs": [
    {
     "name": "stdout",
     "output_type": "stream",
     "text": [
      "Enter object = 345\n",
      "conversion of object to int = 345\n"
     ]
    }
   ],
   "source": [
    "a=input('Enter object = ')\n",
    "b=int(a)\n",
    "if type(b)==int:\n",
    "    print(f'conversion of object to int = {b}')\n",
    "else:\n",
    "    print('object is not integer')"
   ]
  },
  {
   "cell_type": "code",
   "execution_count": 109,
   "metadata": {},
   "outputs": [
    {
     "name": "stdout",
     "output_type": "stream",
     "text": [
      "Enter object = sfsd\n"
     ]
    },
    {
     "ename": "ValueError",
     "evalue": "invalid literal for int() with base 10: 'sfsd'",
     "output_type": "error",
     "traceback": [
      "\u001b[1;31m---------------------------------------------------------------------------\u001b[0m",
      "\u001b[1;31mValueError\u001b[0m                                Traceback (most recent call last)",
      "\u001b[1;32m<ipython-input-109-63884f41ba70>\u001b[0m in \u001b[0;36m<module>\u001b[1;34m\u001b[0m\n\u001b[0;32m      1\u001b[0m \u001b[0ma\u001b[0m\u001b[1;33m=\u001b[0m\u001b[0minput\u001b[0m\u001b[1;33m(\u001b[0m\u001b[1;34m'Enter object = '\u001b[0m\u001b[1;33m)\u001b[0m\u001b[1;33m\u001b[0m\u001b[1;33m\u001b[0m\u001b[0m\n\u001b[1;32m----> 2\u001b[1;33m \u001b[0mb\u001b[0m\u001b[1;33m=\u001b[0m\u001b[0mint\u001b[0m\u001b[1;33m(\u001b[0m\u001b[0ma\u001b[0m\u001b[1;33m)\u001b[0m\u001b[1;33m\u001b[0m\u001b[1;33m\u001b[0m\u001b[0m\n\u001b[0m\u001b[0;32m      3\u001b[0m \u001b[1;32mif\u001b[0m \u001b[0mtype\u001b[0m\u001b[1;33m(\u001b[0m\u001b[0mb\u001b[0m\u001b[1;33m)\u001b[0m\u001b[1;33m==\u001b[0m\u001b[0mint\u001b[0m\u001b[1;33m:\u001b[0m\u001b[1;33m\u001b[0m\u001b[1;33m\u001b[0m\u001b[0m\n\u001b[0;32m      4\u001b[0m     \u001b[0mprint\u001b[0m\u001b[1;33m(\u001b[0m\u001b[1;34mf'conversion of object to int = {b}'\u001b[0m\u001b[1;33m)\u001b[0m\u001b[1;33m\u001b[0m\u001b[1;33m\u001b[0m\u001b[0m\n\u001b[0;32m      5\u001b[0m \u001b[1;32melse\u001b[0m\u001b[1;33m:\u001b[0m\u001b[1;33m\u001b[0m\u001b[1;33m\u001b[0m\u001b[0m\n",
      "\u001b[1;31mValueError\u001b[0m: invalid literal for int() with base 10: 'sfsd'"
     ]
    }
   ],
   "source": [
    "a=input('Enter object = ')\n",
    "b=int(a)\n",
    "if type(b)==int:\n",
    "    print(f'conversion of object to int = {b}')\n",
    "else:\n",
    "    print('object is not integer')"
   ]
  },
  {
   "cell_type": "code",
   "execution_count": 117,
   "metadata": {},
   "outputs": [
    {
     "name": "stdout",
     "output_type": "stream",
     "text": [
      "Enter object = 34.34\n"
     ]
    },
    {
     "ename": "ValueError",
     "evalue": "invalid literal for int() with base 10: '34.34'",
     "output_type": "error",
     "traceback": [
      "\u001b[1;31m---------------------------------------------------------------------------\u001b[0m",
      "\u001b[1;31mValueError\u001b[0m                                Traceback (most recent call last)",
      "\u001b[1;32m<ipython-input-117-a7eef6d38e95>\u001b[0m in \u001b[0;36m<module>\u001b[1;34m\u001b[0m\n\u001b[0;32m      1\u001b[0m \u001b[0ma\u001b[0m\u001b[1;33m=\u001b[0m\u001b[0minput\u001b[0m\u001b[1;33m(\u001b[0m\u001b[1;34m'Enter object = '\u001b[0m\u001b[1;33m)\u001b[0m\u001b[1;33m\u001b[0m\u001b[1;33m\u001b[0m\u001b[0m\n\u001b[1;32m----> 2\u001b[1;33m \u001b[1;32mif\u001b[0m \u001b[0mtype\u001b[0m\u001b[1;33m(\u001b[0m\u001b[0mint\u001b[0m\u001b[1;33m(\u001b[0m\u001b[0ma\u001b[0m\u001b[1;33m)\u001b[0m\u001b[1;33m)\u001b[0m\u001b[1;33m==\u001b[0m\u001b[0mint\u001b[0m\u001b[1;33m:\u001b[0m\u001b[1;33m\u001b[0m\u001b[1;33m\u001b[0m\u001b[0m\n\u001b[0m\u001b[0;32m      3\u001b[0m     \u001b[0mprint\u001b[0m\u001b[1;33m(\u001b[0m\u001b[1;34mf'conversion of object to int = {a}'\u001b[0m\u001b[1;33m)\u001b[0m\u001b[1;33m\u001b[0m\u001b[1;33m\u001b[0m\u001b[0m\n\u001b[0;32m      4\u001b[0m \u001b[1;32melse\u001b[0m\u001b[1;33m:\u001b[0m\u001b[1;33m\u001b[0m\u001b[1;33m\u001b[0m\u001b[0m\n\u001b[0;32m      5\u001b[0m     \u001b[0mprint\u001b[0m\u001b[1;33m(\u001b[0m\u001b[1;34m'object is not integer'\u001b[0m\u001b[1;33m)\u001b[0m\u001b[1;33m\u001b[0m\u001b[1;33m\u001b[0m\u001b[0m\n",
      "\u001b[1;31mValueError\u001b[0m: invalid literal for int() with base 10: '34.34'"
     ]
    }
   ],
   "source": [
    "a=input('Enter object = ')\n",
    "if type(int(a))==int:\n",
    "    print(f'conversion of object to int = {a}')\n",
    "else:\n",
    "    print('object is not integer')"
   ]
  },
  {
   "cell_type": "code",
   "execution_count": 118,
   "metadata": {},
   "outputs": [
    {
     "ename": "SyntaxError",
     "evalue": "invalid syntax (<ipython-input-118-e05cb7b49ee8>, line 2)",
     "output_type": "error",
     "traceback": [
      "\u001b[1;36m  File \u001b[1;32m\"<ipython-input-118-e05cb7b49ee8>\"\u001b[1;36m, line \u001b[1;32m2\u001b[0m\n\u001b[1;33m    if a is base 10:\u001b[0m\n\u001b[1;37m                  ^\u001b[0m\n\u001b[1;31mSyntaxError\u001b[0m\u001b[1;31m:\u001b[0m invalid syntax\n"
     ]
    }
   ],
   "source": [
    "a=input('Enter object = ')\n",
    "if a is base 10:\n",
    "    b=int(a)\n",
    "    print(f'conversion of object to int = {b}')\n",
    "else:\n",
    "    print('object is not integer')"
   ]
  },
  {
   "cell_type": "code",
   "execution_count": null,
   "metadata": {},
   "outputs": [],
   "source": []
  },
  {
   "cell_type": "markdown",
   "metadata": {},
   "source": [
    "# Success 1"
   ]
  },
  {
   "cell_type": "markdown",
   "metadata": {},
   "source": [
    "## conversion of user input object to int and float"
   ]
  },
  {
   "cell_type": "code",
   "execution_count": 35,
   "metadata": {},
   "outputs": [
    {
     "name": "stdout",
     "output_type": "stream",
     "text": [
      "Enter object = 234567543245\n",
      "before conversion <class 'str'>\n",
      "data type after conversion : <class 'int'>\n",
      "Conversion of string object to int = 234567543245\n"
     ]
    }
   ],
   "source": [
    "a=input('Enter object = ')\n",
    "print(f'before conversion {type(a)}')\n",
    "c=len(a)\n",
    "if a[0] in 'abcdefghijklmnopqurstuvwxyz':\n",
    "    z=a\n",
    "    print(f'data type after conversion : {type(z)}')\n",
    "    print('Object can not convert it contains character')\n",
    "elif '.' in a:\n",
    "    z=float(a)\n",
    "    print(f'data type after conversion : {type(z)}')\n",
    "    print(f'Conversion of string object to float = {z}')\n",
    "else:\n",
    "    if c<c+1:\n",
    "        i=0\n",
    "        while i<=c-1:\n",
    "            a[i] in '1234567890'\n",
    "            if(i==c-1):\n",
    "                z=int(a)\n",
    "                print(f'data type after conversion : {type(z)}')\n",
    "                print(f'Conversion of string object to int = {z}')\n",
    "            i=i+1"
   ]
  },
  {
   "cell_type": "code",
   "execution_count": 24,
   "metadata": {},
   "outputs": [
    {
     "name": "stdout",
     "output_type": "stream",
     "text": [
      "Ritika\n",
      "Ritika\n",
      "Ritika\n",
      "Ritika\n",
      "Ritika\n",
      "Ritika\n",
      "Ritika\n",
      "Ritika\n",
      "Ritika\n",
      "Ritika\n"
     ]
    }
   ],
   "source": [
    "i=1\n",
    "while i<=10:\n",
    "    print('Ritika')\n",
    "    i=i+1"
   ]
  },
  {
   "cell_type": "markdown",
   "metadata": {},
   "source": [
    "# success 2"
   ]
  },
  {
   "cell_type": "code",
   "execution_count": 39,
   "metadata": {},
   "outputs": [
    {
     "name": "stdout",
     "output_type": "stream",
     "text": [
      "Enter object = 4334,1243,fsdfg,rtret,3434.34534,33,wefr,243.44\n",
      "before conversion <class 'str'>\n",
      "before conversion <class 'list'>\n",
      "['4334', '1243', 'fsdfg', 'rtret', '3434.34534', '33', 'wefr', '243.44']\n",
      "<class 'int'>\n",
      "Conversion of string object to int = 4334\n",
      "<class 'int'>\n",
      "Conversion of string object to int = 1243\n",
      "<class 'str'>\n",
      "Object can not convert it contains character\n",
      "<class 'str'>\n",
      "Object can not convert it contains character\n",
      "<class 'float'>\n",
      "Conversion of string object to float = 3434.34534\n",
      "<class 'int'>\n",
      "Conversion of string object to int = 33\n",
      "<class 'str'>\n",
      "Object can not convert it contains character\n",
      "<class 'float'>\n",
      "Conversion of string object to float = 243.44\n"
     ]
    }
   ],
   "source": [
    "x=input('Enter object = ')\n",
    "print(f'before conversion {type(x)}')\n",
    "l=x.split(\",\")\n",
    "print(f'before conversion {type(l)}')\n",
    "print(l)\n",
    "mylist=[]\n",
    "for a in l:\n",
    "    c=len(a)\n",
    "    if a[0] in 'abcdefghijklmnopqurstuvwxyz':\n",
    "        z=a\n",
    "        print(type(z))\n",
    "        print('Object can not convert it contains character')\n",
    "    elif '.' in a:\n",
    "        z=float(a)\n",
    "        print(type(z))\n",
    "        print(f'Conversion of string object to float = {z}')\n",
    "    else:\n",
    "        if c<c+1:\n",
    "            i=0\n",
    "            while i<=c-1:\n",
    "                a[i] in '1234567890'\n",
    "                if(i==c-1):\n",
    "                    z=int(a)\n",
    "                    print(type(z))\n",
    "                    print(f'Conversion of string object to int = {z}')\n",
    "                i=i+1"
   ]
  },
  {
   "cell_type": "markdown",
   "metadata": {},
   "source": [
    "## modification"
   ]
  },
  {
   "cell_type": "code",
   "execution_count": 40,
   "metadata": {},
   "outputs": [
    {
     "name": "stdout",
     "output_type": "stream",
     "text": [
      "Enter object = 34,3264,ret,435.453\n",
      "before conversion <class 'str'>\n",
      "before conversion <class 'list'>\n",
      "['34', '3264', 'ret', '435.453']\n",
      "<class 'int'>\n",
      "Conversion of string object to int = 34\n",
      "[34]\n",
      "<class 'int'>\n",
      "Conversion of string object to int = 3264\n",
      "[34, 3264]\n",
      "<class 'str'>\n",
      "Object can not convert it contains character\n",
      "[34, 3264, 'ret']\n",
      "<class 'float'>\n",
      "Conversion of string object to float = 435.453\n",
      "[34, 3264, 'ret', 435.453]\n"
     ]
    }
   ],
   "source": [
    "x=input('Enter object = ')\n",
    "print(f'before conversion {type(x)}')\n",
    "l=x.split(\",\")\n",
    "print(f'before conversion {type(l)}')\n",
    "print(l)\n",
    "mylist=[]\n",
    "for a in l:\n",
    "    c=len(a)\n",
    "    if a[0] in 'abcdefghijklmnopqurstuvwxyz':\n",
    "        z=a\n",
    "        print(type(z))\n",
    "        print('Object can not convert it contains character')\n",
    "        mylist.append(z)\n",
    "        print(mylist)\n",
    "    elif '.' in a:\n",
    "        z=float(a)\n",
    "        print(type(z))\n",
    "        print(f'Conversion of string object to float = {z}')\n",
    "        mylist.append(z)\n",
    "        print(mylist)\n",
    "    else:\n",
    "        if c<c+1:\n",
    "            i=0\n",
    "            while i<=c-1:\n",
    "                a[i] in '1234567890'\n",
    "                if(i==c-1):\n",
    "                    z=int(a)\n",
    "                    print(type(z))\n",
    "                    print(f'Conversion of string object to int = {z}')\n",
    "                    mylist.append(z)\n",
    "                    print(mylist)\n",
    "                i=i+1"
   ]
  },
  {
   "cell_type": "markdown",
   "metadata": {},
   "source": [
    "## modification "
   ]
  },
  {
   "cell_type": "code",
   "execution_count": 41,
   "metadata": {},
   "outputs": [
    {
     "name": "stdout",
     "output_type": "stream",
     "text": [
      "Enter object = 34,43.234,wert,434,eer,234.435,4\n",
      "['34', '43.234', 'wert', '434', 'eer', '234.435', '4']\n",
      "[34]\n",
      "[34, 43.234]\n",
      "[34, 43.234, 'wert']\n",
      "[34, 43.234, 'wert', 434]\n",
      "[34, 43.234, 'wert', 434, 'eer']\n",
      "[34, 43.234, 'wert', 434, 'eer', 234.435]\n",
      "[34, 43.234, 'wert', 434, 'eer', 234.435, 4]\n"
     ]
    }
   ],
   "source": [
    "x=input('Enter object = ')\n",
    "l=x.split(\",\")\n",
    "print(l)\n",
    "mylist=[]\n",
    "for a in l:\n",
    "    c=len(a)\n",
    "    if a[0] in 'abcdefghijklmnopqurstuvwxyz':\n",
    "        z=a\n",
    "        mylist.append(z)\n",
    "        print(mylist)\n",
    "    elif '.' in a:\n",
    "        z=float(a)\n",
    "        mylist.append(z)\n",
    "        print(mylist)\n",
    "    else:\n",
    "        if c<c+1:\n",
    "            i=0\n",
    "            while i<=c-1:\n",
    "                a[i] in '1234567890'\n",
    "                if(i==c-1):\n",
    "                    z=int(a)\n",
    "                    mylist.append(z)\n",
    "                    print(mylist)\n",
    "                i=i+1"
   ]
  },
  {
   "cell_type": "markdown",
   "metadata": {},
   "source": [
    "## modification"
   ]
  },
  {
   "cell_type": "code",
   "execution_count": 48,
   "metadata": {},
   "outputs": [
    {
     "name": "stdout",
     "output_type": "stream",
     "text": [
      "Enter object = 34,43.234,wert,434,eer,234.435,4\n",
      "\n",
      "Making a list of containting string data type object after spliting the object from , :\n",
      "\n",
      "['34', '43.234', 'wert', '434', 'eer', '234.435', '4']\n",
      "\n",
      "My new list = [34, 43.234, 'wert', 434, 'eer', 234.435, 4]\n"
     ]
    }
   ],
   "source": [
    "x=input('Enter object = ')\n",
    "print()\n",
    "l=x.split(\",\")\n",
    "print(f'Making a list of containting string data type object after spliting the object from , :\\n\\n{l}\\n')\n",
    "mylist=[]\n",
    "for a in l:\n",
    "    c=len(a)\n",
    "    if a[0] in 'abcdefghijklmnopqurstuvwxyz':\n",
    "        z=a\n",
    "        mylist.append(z)\n",
    "    elif '.' in a:\n",
    "        z=float(a)\n",
    "        mylist.append(z)\n",
    "    else:\n",
    "        if c<c+1:\n",
    "            i=0\n",
    "            while i<=c-1:\n",
    "                a[i] in '1234567890'\n",
    "                if(i==c-1):\n",
    "                    z=int(a)\n",
    "                    mylist.append(z)\n",
    "                i=i+1\n",
    "print(f'My new list = {mylist}')"
   ]
  },
  {
   "cell_type": "markdown",
   "metadata": {},
   "source": [
    "# question 36 solution method 1"
   ]
  },
  {
   "cell_type": "code",
   "execution_count": 17,
   "metadata": {},
   "outputs": [
    {
     "name": "stdout",
     "output_type": "stream",
     "text": [
      "Enter two object = 3344,22223\n",
      "\n",
      "Making a list of containting string data type object after spliting the object from , :\n",
      "\n",
      "['3344', '22223']\n",
      "\n",
      "My new list = [3344, 22223]\n",
      "sum of two object is =25567\n"
     ]
    }
   ],
   "source": [
    "x=input('Enter two object = ')\n",
    "print()\n",
    "l=x.split(\",\")\n",
    "print(f'Making a list of containting string data type object after spliting the object from , :\\n\\n{l}\\n')\n",
    "mylist=[]\n",
    "for a in l:\n",
    "    c=len(a)\n",
    "    if a[0] in 'abcdefghijklmnopqurstuvwxyz':\n",
    "        z=a\n",
    "        mylist.append(z)\n",
    "    elif '.' in a:\n",
    "        z=float(a)\n",
    "        mylist.append(z)\n",
    "    else:\n",
    "        if c<c+1:\n",
    "            i=0\n",
    "            while i<=c-1:\n",
    "                a[i] in '1234567890'\n",
    "                if(i==c-1):\n",
    "                    z=int(a)\n",
    "                    mylist.append(z)\n",
    "                i=i+1\n",
    "print(f'My new list = {mylist}')\n",
    "if type(mylist[0])==int and type(mylist[1])==int:\n",
    "    sum=mylist[0]+mylist[1]\n",
    "    print(f'sum of two object is ={sum}')\n",
    "else:\n",
    "    print('Both of the object is not integer')"
   ]
  },
  {
   "cell_type": "code",
   "execution_count": 18,
   "metadata": {},
   "outputs": [
    {
     "name": "stdout",
     "output_type": "stream",
     "text": [
      "Enter two object = 34,233.23\n",
      "\n",
      "Making a list of containting string data type object after spliting the object from , :\n",
      "\n",
      "['34', '233.23']\n",
      "\n",
      "My new list = [34, 233.23]\n",
      "Both of the object is not integer\n"
     ]
    }
   ],
   "source": [
    "x=input('Enter two object = ')\n",
    "print()\n",
    "l=x.split(\",\")\n",
    "print(f'Making a list of containting string data type object after spliting the object from , :\\n\\n{l}\\n')\n",
    "mylist=[]\n",
    "for a in l:\n",
    "    c=len(a)\n",
    "    if a[0] in 'abcdefghijklmnopqurstuvwxyz':\n",
    "        z=a\n",
    "        mylist.append(z)\n",
    "    elif '.' in a:\n",
    "        z=float(a)\n",
    "        mylist.append(z)\n",
    "    else:\n",
    "        if c<c+1:\n",
    "            i=0\n",
    "            while i<=c-1:\n",
    "                a[i] in '1234567890'\n",
    "                if(i==c-1):\n",
    "                    z=int(a)\n",
    "                    mylist.append(z)\n",
    "                i=i+1\n",
    "print(f'My new list = {mylist}')\n",
    "if type(mylist[0])==int and type(mylist[1])==int:\n",
    "    sum=mylist[0]+mylist[1]\n",
    "    print(f'sum of two object is ={sum}')\n",
    "else:\n",
    "    print('Both of the object is not integer')"
   ]
  },
  {
   "cell_type": "code",
   "execution_count": 19,
   "metadata": {},
   "outputs": [
    {
     "name": "stdout",
     "output_type": "stream",
     "text": [
      "Enter two object = 34,dfss\n",
      "\n",
      "Making a list of containting string data type object after spliting the object from , :\n",
      "\n",
      "['34', 'dfss']\n",
      "\n",
      "My new list = [34, 'dfss']\n",
      "Both of the object is not integer\n"
     ]
    }
   ],
   "source": [
    "x=input('Enter two object = ')\n",
    "print()\n",
    "l=x.split(\",\")\n",
    "print(f'Making a list of containting string data type object after spliting the object from , :\\n\\n{l}\\n')\n",
    "mylist=[]\n",
    "for a in l:\n",
    "    c=len(a)\n",
    "    if a[0] in 'abcdefghijklmnopqurstuvwxyz':\n",
    "        z=a\n",
    "        mylist.append(z)\n",
    "    elif '.' in a:\n",
    "        z=float(a)\n",
    "        mylist.append(z)\n",
    "    else:\n",
    "        if c<c+1:\n",
    "            i=0\n",
    "            while i<=c-1:\n",
    "                a[i] in '1234567890'\n",
    "                if(i==c-1):\n",
    "                    z=int(a)\n",
    "                    mylist.append(z)\n",
    "                i=i+1\n",
    "print(f'My new list = {mylist}')\n",
    "if type(mylist[0])==int and type(mylist[1])==int:\n",
    "    sum=mylist[0]+mylist[1]\n",
    "    print(f'sum of two object is ={sum}')\n",
    "else:\n",
    "    print('Both of the object is not integer')"
   ]
  },
  {
   "cell_type": "markdown",
   "metadata": {},
   "source": [
    "# question 36 solution method 1 modification"
   ]
  },
  {
   "cell_type": "code",
   "execution_count": 20,
   "metadata": {},
   "outputs": [
    {
     "name": "stdout",
     "output_type": "stream",
     "text": [
      "Enter two object = 34,er\n",
      "\n",
      "Both of the object is not integer\n"
     ]
    }
   ],
   "source": [
    "x=input('Enter two object = ')\n",
    "print()\n",
    "l=x.split(\",\")\n",
    "mylist=[]\n",
    "for a in l:\n",
    "    c=len(a)\n",
    "    if a[0] in 'abcdefghijklmnopqurstuvwxyz':\n",
    "        z=a\n",
    "        mylist.append(z)\n",
    "    elif '.' in a:\n",
    "        z=float(a)\n",
    "        mylist.append(z)\n",
    "    else:\n",
    "        if c<c+1:\n",
    "            i=0\n",
    "            while i<=c-1:\n",
    "                a[i] in '1234567890'\n",
    "                if(i==c-1):\n",
    "                    z=int(a)\n",
    "                    mylist.append(z)\n",
    "                i=i+1\n",
    "if type(mylist[0])==int and type(mylist[1])==int:\n",
    "    sum=mylist[0]+mylist[1]\n",
    "    print(f'sum of two object is ={sum}')\n",
    "else:\n",
    "    print('Both of the object is not integer')"
   ]
  },
  {
   "cell_type": "code",
   "execution_count": 21,
   "metadata": {},
   "outputs": [
    {
     "name": "stdout",
     "output_type": "stream",
     "text": [
      "Enter two object = 34,30\n",
      "\n",
      "sum of two object is =64\n"
     ]
    }
   ],
   "source": [
    "x=input('Enter two object = ')\n",
    "print()\n",
    "l=x.split(\",\")\n",
    "mylist=[]\n",
    "for a in l:\n",
    "    c=len(a)\n",
    "    if a[0] in 'abcdefghijklmnopqurstuvwxyz':\n",
    "        z=a\n",
    "        mylist.append(z)\n",
    "    elif '.' in a:\n",
    "        z=float(a)\n",
    "        mylist.append(z)\n",
    "    else:\n",
    "        if c<c+1:\n",
    "            i=0\n",
    "            while i<=c-1:\n",
    "                a[i] in '1234567890'\n",
    "                if(i==c-1):\n",
    "                    z=int(a)\n",
    "                    mylist.append(z)\n",
    "                i=i+1\n",
    "if type(mylist[0])==int and type(mylist[1])==int:\n",
    "    sum=mylist[0]+mylist[1]\n",
    "    print(f'sum of two object is ={sum}')\n",
    "else:\n",
    "    print('Both of the object is not integer')"
   ]
  },
  {
   "cell_type": "markdown",
   "metadata": {},
   "source": [
    "# using map fuction:"
   ]
  },
  {
   "cell_type": "code",
   "execution_count": 24,
   "metadata": {},
   "outputs": [
    {
     "name": "stdout",
     "output_type": "stream",
     "text": [
      "Enter object = 34,43.234,wert,434,eer,234.435,4\n",
      "\n",
      "Making a list of containting string data type object after spliting the object from , :\n",
      "\n",
      "['34', '43.234', 'wert', '434', 'eer', '234.435', '4']\n",
      "\n"
     ]
    },
    {
     "ename": "TypeError",
     "evalue": "'function' object is not iterable",
     "output_type": "error",
     "traceback": [
      "\u001b[1;31m---------------------------------------------------------------------------\u001b[0m",
      "\u001b[1;31mTypeError\u001b[0m                                 Traceback (most recent call last)",
      "\u001b[1;32m<ipython-input-24-795defbccd08>\u001b[0m in \u001b[0;36m<module>\u001b[1;34m\u001b[0m\n\u001b[0;32m     20\u001b[0m                     \u001b[0mmylist\u001b[0m\u001b[1;33m.\u001b[0m\u001b[0mappend\u001b[0m\u001b[1;33m(\u001b[0m\u001b[0mz\u001b[0m\u001b[1;33m)\u001b[0m\u001b[1;33m\u001b[0m\u001b[1;33m\u001b[0m\u001b[0m\n\u001b[0;32m     21\u001b[0m                 \u001b[0mi\u001b[0m\u001b[1;33m=\u001b[0m\u001b[0mi\u001b[0m\u001b[1;33m+\u001b[0m\u001b[1;36m1\u001b[0m\u001b[1;33m\u001b[0m\u001b[1;33m\u001b[0m\u001b[0m\n\u001b[1;32m---> 22\u001b[1;33m \u001b[0mlist\u001b[0m\u001b[1;33m(\u001b[0m\u001b[0mmap\u001b[0m\u001b[1;33m(\u001b[0m\u001b[0mm\u001b[0m\u001b[1;33m,\u001b[0m\u001b[0mcnvr\u001b[0m\u001b[1;33m)\u001b[0m\u001b[1;33m)\u001b[0m\u001b[1;33m\u001b[0m\u001b[1;33m\u001b[0m\u001b[0m\n\u001b[0m",
      "\u001b[1;31mTypeError\u001b[0m: 'function' object is not iterable"
     ]
    }
   ],
   "source": [
    "x=input('Enter object = ')\n",
    "print()\n",
    "m=x.split(\",\")\n",
    "print(f'Making a list of containting string data type object after spliting the object from , :\\n\\n{m}\\n')\n",
    "def cnvr():\n",
    "    c=len(a)\n",
    "    if a[0] in 'abcdefghijklmnopqurstuvwxyz':\n",
    "        z=a\n",
    "        mylist.append(z)\n",
    "    elif '.' in a:\n",
    "        z=float(a)\n",
    "        mylist.append(z)\n",
    "    else:\n",
    "        if c<c+1:\n",
    "            i=0\n",
    "            while i<=c-1:\n",
    "                a[i] in '1234567890'\n",
    "                if(i==c-1):\n",
    "                    z=int(a)\n",
    "                    mylist.append(z)\n",
    "                i=i+1\n",
    "list(map(m,cnvr))"
   ]
  },
  {
   "cell_type": "code",
   "execution_count": 16,
   "metadata": {},
   "outputs": [
    {
     "name": "stdout",
     "output_type": "stream",
     "text": [
      "Enter object = 34,43.234,wert,434,eer,234.435,657\n",
      "\n",
      "Making a list of containting string data type object after spliting the object from , :\n",
      "\n",
      "['34', '43.234', 'wert', '434', 'eer', '234.435', '657']\n",
      "\n"
     ]
    },
    {
     "ename": "TypeError",
     "evalue": "'function' object is not iterable",
     "output_type": "error",
     "traceback": [
      "\u001b[1;31m---------------------------------------------------------------------------\u001b[0m",
      "\u001b[1;31mTypeError\u001b[0m                                 Traceback (most recent call last)",
      "\u001b[1;32m<ipython-input-16-26dbfa85e99b>\u001b[0m in \u001b[0;36m<module>\u001b[1;34m\u001b[0m\n\u001b[0;32m     20\u001b[0m                     \u001b[0mmylist\u001b[0m\u001b[1;33m.\u001b[0m\u001b[0mappend\u001b[0m\u001b[1;33m(\u001b[0m\u001b[0mz\u001b[0m\u001b[1;33m)\u001b[0m\u001b[1;33m\u001b[0m\u001b[1;33m\u001b[0m\u001b[0m\n\u001b[0;32m     21\u001b[0m                 \u001b[0mi\u001b[0m\u001b[1;33m=\u001b[0m\u001b[0mi\u001b[0m\u001b[1;33m+\u001b[0m\u001b[1;36m1\u001b[0m\u001b[1;33m\u001b[0m\u001b[1;33m\u001b[0m\u001b[0m\n\u001b[1;32m---> 22\u001b[1;33m \u001b[0mlist\u001b[0m\u001b[1;33m(\u001b[0m\u001b[0mmap\u001b[0m\u001b[1;33m(\u001b[0m\u001b[0mm\u001b[0m\u001b[1;33m,\u001b[0m\u001b[0mcnvr\u001b[0m\u001b[1;33m)\u001b[0m\u001b[1;33m)\u001b[0m\u001b[1;33m\u001b[0m\u001b[1;33m\u001b[0m\u001b[0m\n\u001b[0m",
      "\u001b[1;31mTypeError\u001b[0m: 'function' object is not iterable"
     ]
    }
   ],
   "source": [
    "x=input('Enter object = ')\n",
    "print()\n",
    "m=x.split(\",\")\n",
    "print(f'Making a list of containting string data type object after spliting the object from , :\\n\\n{m}\\n')\n",
    "def cnvr(a):\n",
    "    c=len(a)\n",
    "    if a[0] in 'abcdefghijklmnopqurstuvwxyz':\n",
    "        z=a\n",
    "        mylist.append(z)\n",
    "    elif '.' in a:\n",
    "        z=float(a)\n",
    "        mylist.append(z)\n",
    "    else:\n",
    "        if c<c+1:\n",
    "            i=0\n",
    "            while i<=c-1:\n",
    "                a[i] in '1234567890'\n",
    "                if(i==c-1):\n",
    "                    z=int(a)\n",
    "                    mylist.append(z)\n",
    "                i=i+1\n",
    "list(map(m,cnvr))"
   ]
  },
  {
   "cell_type": "code",
   "execution_count": 25,
   "metadata": {
    "scrolled": true
   },
   "outputs": [
    {
     "name": "stdout",
     "output_type": "stream",
     "text": [
      "Enter object = 34,43.234,wert,434,eer,234.435,657\n",
      "\n",
      "Making a list of containting string data type object after spliting the object from , :\n",
      "\n",
      "['34', '43.234', 'wert', '434', 'eer', '234.435', '657']\n",
      "\n"
     ]
    }
   ],
   "source": [
    "x=input('Enter object = ')\n",
    "print()\n",
    "m=x.split(\",\")\n",
    "print(f'Making a list of containting string data type object after spliting the object from , :\\n\\n{m}\\n')"
   ]
  },
  {
   "cell_type": "code",
   "execution_count": 27,
   "metadata": {},
   "outputs": [
    {
     "data": {
      "text/plain": [
       "['34', '43.234', 'wert', '434', 'eer', '234.435', '657']"
      ]
     },
     "execution_count": 27,
     "metadata": {},
     "output_type": "execute_result"
    }
   ],
   "source": [
    "m"
   ]
  },
  {
   "cell_type": "code",
   "execution_count": 28,
   "metadata": {},
   "outputs": [],
   "source": [
    "def cnvr(a):\n",
    "    c=len(a)\n",
    "    if a[0] in 'abcdefghijklmnopqurstuvwxyz':\n",
    "        z=a\n",
    "        mylist.append(z)\n",
    "    elif '.' in a:\n",
    "        z=float(a)\n",
    "        mylist.append(z)\n",
    "    else:\n",
    "        if c<c+1:\n",
    "            i=0\n",
    "            while i<=c-1:\n",
    "                a[i] in '1234567890'\n",
    "                if(i==c-1):\n",
    "                    z=int(a)\n",
    "                    mylist.append(z)\n",
    "                i=i+1"
   ]
  },
  {
   "cell_type": "code",
   "execution_count": 29,
   "metadata": {},
   "outputs": [
    {
     "ename": "NameError",
     "evalue": "name 'mylist' is not defined",
     "output_type": "error",
     "traceback": [
      "\u001b[1;31m---------------------------------------------------------------------------\u001b[0m",
      "\u001b[1;31mNameError\u001b[0m                                 Traceback (most recent call last)",
      "\u001b[1;32m<ipython-input-29-bdbf8ff7d9b5>\u001b[0m in \u001b[0;36m<module>\u001b[1;34m\u001b[0m\n\u001b[1;32m----> 1\u001b[1;33m \u001b[0mlist\u001b[0m\u001b[1;33m(\u001b[0m\u001b[0mmap\u001b[0m\u001b[1;33m(\u001b[0m\u001b[0mcnvr\u001b[0m\u001b[1;33m,\u001b[0m\u001b[0mm\u001b[0m\u001b[1;33m)\u001b[0m\u001b[1;33m)\u001b[0m\u001b[1;33m\u001b[0m\u001b[1;33m\u001b[0m\u001b[0m\n\u001b[0m",
      "\u001b[1;32m<ipython-input-28-208f49bb108a>\u001b[0m in \u001b[0;36mcnvr\u001b[1;34m(a)\u001b[0m\n\u001b[0;32m     14\u001b[0m                 \u001b[1;32mif\u001b[0m\u001b[1;33m(\u001b[0m\u001b[0mi\u001b[0m\u001b[1;33m==\u001b[0m\u001b[0mc\u001b[0m\u001b[1;33m-\u001b[0m\u001b[1;36m1\u001b[0m\u001b[1;33m)\u001b[0m\u001b[1;33m:\u001b[0m\u001b[1;33m\u001b[0m\u001b[1;33m\u001b[0m\u001b[0m\n\u001b[0;32m     15\u001b[0m                     \u001b[0mz\u001b[0m\u001b[1;33m=\u001b[0m\u001b[0mint\u001b[0m\u001b[1;33m(\u001b[0m\u001b[0ma\u001b[0m\u001b[1;33m)\u001b[0m\u001b[1;33m\u001b[0m\u001b[1;33m\u001b[0m\u001b[0m\n\u001b[1;32m---> 16\u001b[1;33m                     \u001b[0mmylist\u001b[0m\u001b[1;33m.\u001b[0m\u001b[0mappend\u001b[0m\u001b[1;33m(\u001b[0m\u001b[0mz\u001b[0m\u001b[1;33m)\u001b[0m\u001b[1;33m\u001b[0m\u001b[1;33m\u001b[0m\u001b[0m\n\u001b[0m\u001b[0;32m     17\u001b[0m                 \u001b[0mi\u001b[0m\u001b[1;33m=\u001b[0m\u001b[0mi\u001b[0m\u001b[1;33m+\u001b[0m\u001b[1;36m1\u001b[0m\u001b[1;33m\u001b[0m\u001b[1;33m\u001b[0m\u001b[0m\n",
      "\u001b[1;31mNameError\u001b[0m: name 'mylist' is not defined"
     ]
    }
   ],
   "source": [
    "list(map(cnvr,m))"
   ]
  },
  {
   "cell_type": "code",
   "execution_count": 30,
   "metadata": {},
   "outputs": [],
   "source": [
    "def cnvr(a):\n",
    "    c=len(a)\n",
    "    if a[0] in 'abcdefghijklmnopqurstuvwxyz':\n",
    "        z=a\n",
    "    elif '.' in a:\n",
    "        z=float(a)\n",
    "    else:\n",
    "        if c<c+1:\n",
    "            i=0\n",
    "            while i<=c-1:\n",
    "                a[i] in '1234567890'\n",
    "                if(i==c-1):\n",
    "                    z=int(a)\n",
    "                i=i+1"
   ]
  },
  {
   "cell_type": "code",
   "execution_count": 32,
   "metadata": {},
   "outputs": [
    {
     "data": {
      "text/plain": [
       "[None, None, None, None, None, None, None]"
      ]
     },
     "execution_count": 32,
     "metadata": {},
     "output_type": "execute_result"
    }
   ],
   "source": [
    "list(map(cnvr,m))"
   ]
  },
  {
   "cell_type": "code",
   "execution_count": 33,
   "metadata": {},
   "outputs": [
    {
     "ename": "TypeError",
     "evalue": "'function' object is not iterable",
     "output_type": "error",
     "traceback": [
      "\u001b[1;31m---------------------------------------------------------------------------\u001b[0m",
      "\u001b[1;31mTypeError\u001b[0m                                 Traceback (most recent call last)",
      "\u001b[1;32m<ipython-input-33-069f3bc6bf7f>\u001b[0m in \u001b[0;36m<module>\u001b[1;34m\u001b[0m\n\u001b[1;32m----> 1\u001b[1;33m \u001b[0mlist\u001b[0m\u001b[1;33m(\u001b[0m\u001b[0mmap\u001b[0m\u001b[1;33m(\u001b[0m\u001b[0mm\u001b[0m\u001b[1;33m,\u001b[0m\u001b[0mcnvr\u001b[0m\u001b[1;33m)\u001b[0m\u001b[1;33m)\u001b[0m\u001b[1;33m\u001b[0m\u001b[1;33m\u001b[0m\u001b[0m\n\u001b[0m",
      "\u001b[1;31mTypeError\u001b[0m: 'function' object is not iterable"
     ]
    }
   ],
   "source": [
    "list(map(m,cnvr))"
   ]
  },
  {
   "cell_type": "code",
   "execution_count": 37,
   "metadata": {},
   "outputs": [],
   "source": [
    "def cnvr(a):\n",
    "    c=len(a)\n",
    "    if a[0] in 'abcdefghijklmnopqurstuvwxyz':\n",
    "        z=a\n",
    "        return z\n",
    "    elif '.' in a:\n",
    "        z=float(a)\n",
    "        return z\n",
    "    else:\n",
    "        if c<c+1:\n",
    "            i=0\n",
    "            while i<=c-1:\n",
    "                a[i] in '1234567890'\n",
    "                if(i==c-1):\n",
    "                    z=int(a)\n",
    "                i=i+1\n",
    "                return z"
   ]
  },
  {
   "cell_type": "code",
   "execution_count": 38,
   "metadata": {},
   "outputs": [
    {
     "ename": "TypeError",
     "evalue": "'function' object is not iterable",
     "output_type": "error",
     "traceback": [
      "\u001b[1;31m---------------------------------------------------------------------------\u001b[0m",
      "\u001b[1;31mTypeError\u001b[0m                                 Traceback (most recent call last)",
      "\u001b[1;32m<ipython-input-38-069f3bc6bf7f>\u001b[0m in \u001b[0;36m<module>\u001b[1;34m\u001b[0m\n\u001b[1;32m----> 1\u001b[1;33m \u001b[0mlist\u001b[0m\u001b[1;33m(\u001b[0m\u001b[0mmap\u001b[0m\u001b[1;33m(\u001b[0m\u001b[0mm\u001b[0m\u001b[1;33m,\u001b[0m\u001b[0mcnvr\u001b[0m\u001b[1;33m)\u001b[0m\u001b[1;33m)\u001b[0m\u001b[1;33m\u001b[0m\u001b[1;33m\u001b[0m\u001b[0m\n\u001b[0m",
      "\u001b[1;31mTypeError\u001b[0m: 'function' object is not iterable"
     ]
    }
   ],
   "source": [
    "list(map(m,cnvr))"
   ]
  },
  {
   "cell_type": "code",
   "execution_count": 39,
   "metadata": {},
   "outputs": [
    {
     "ename": "UnboundLocalError",
     "evalue": "local variable 'z' referenced before assignment",
     "output_type": "error",
     "traceback": [
      "\u001b[1;31m---------------------------------------------------------------------------\u001b[0m",
      "\u001b[1;31mUnboundLocalError\u001b[0m                         Traceback (most recent call last)",
      "\u001b[1;32m<ipython-input-39-bdbf8ff7d9b5>\u001b[0m in \u001b[0;36m<module>\u001b[1;34m\u001b[0m\n\u001b[1;32m----> 1\u001b[1;33m \u001b[0mlist\u001b[0m\u001b[1;33m(\u001b[0m\u001b[0mmap\u001b[0m\u001b[1;33m(\u001b[0m\u001b[0mcnvr\u001b[0m\u001b[1;33m,\u001b[0m\u001b[0mm\u001b[0m\u001b[1;33m)\u001b[0m\u001b[1;33m)\u001b[0m\u001b[1;33m\u001b[0m\u001b[1;33m\u001b[0m\u001b[0m\n\u001b[0m",
      "\u001b[1;32m<ipython-input-37-bdbf6ccec5a4>\u001b[0m in \u001b[0;36mcnvr\u001b[1;34m(a)\u001b[0m\n\u001b[0;32m     15\u001b[0m                     \u001b[0mz\u001b[0m\u001b[1;33m=\u001b[0m\u001b[0mint\u001b[0m\u001b[1;33m(\u001b[0m\u001b[0ma\u001b[0m\u001b[1;33m)\u001b[0m\u001b[1;33m\u001b[0m\u001b[1;33m\u001b[0m\u001b[0m\n\u001b[0;32m     16\u001b[0m                 \u001b[0mi\u001b[0m\u001b[1;33m=\u001b[0m\u001b[0mi\u001b[0m\u001b[1;33m+\u001b[0m\u001b[1;36m1\u001b[0m\u001b[1;33m\u001b[0m\u001b[1;33m\u001b[0m\u001b[0m\n\u001b[1;32m---> 17\u001b[1;33m                 \u001b[1;32mreturn\u001b[0m \u001b[0mz\u001b[0m\u001b[1;33m\u001b[0m\u001b[1;33m\u001b[0m\u001b[0m\n\u001b[0m",
      "\u001b[1;31mUnboundLocalError\u001b[0m: local variable 'z' referenced before assignment"
     ]
    }
   ],
   "source": [
    "list(map(cnvr,m))"
   ]
  },
  {
   "cell_type": "markdown",
   "metadata": {},
   "source": [
    "# success 3"
   ]
  },
  {
   "cell_type": "code",
   "execution_count": 57,
   "metadata": {},
   "outputs": [
    {
     "name": "stdout",
     "output_type": "stream",
     "text": [
      "Enter object = 34,43.234,wert,434,eer,234.435,657\n",
      "\n",
      "Making a list of containting string data type object after spliting the object from , :\n",
      "\n",
      "['34', '43.234', 'wert', '434', 'eer', '234.435', '657']\n",
      "\n"
     ]
    }
   ],
   "source": [
    "x=input('Enter object = ')\n",
    "print()\n",
    "m=x.split(\",\")\n",
    "print(f'Making a list of containting string data type object after spliting the object from , :\\n\\n{m}\\n')"
   ]
  },
  {
   "cell_type": "code",
   "execution_count": 61,
   "metadata": {},
   "outputs": [],
   "source": [
    "def cnvr(a):\n",
    "    c=len(a)\n",
    "    if a[0] in 'abcdefghijklmnopqurstuvwxyz':\n",
    "        z=a\n",
    "        return z\n",
    "    elif '.' in a:\n",
    "        z=float(a)\n",
    "        return z\n",
    "    else:\n",
    "        if c<c+1:\n",
    "            i=0\n",
    "            while i<=c-1:\n",
    "                a[i] in '1234567890'\n",
    "                if(i==c-1):\n",
    "                    z=int(a)\n",
    "                i=i+1\n",
    "            return z"
   ]
  },
  {
   "cell_type": "code",
   "execution_count": 62,
   "metadata": {},
   "outputs": [
    {
     "data": {
      "text/plain": [
       "['34', '43.234', 'wert', '434', 'eer', '234.435', '657']"
      ]
     },
     "execution_count": 62,
     "metadata": {},
     "output_type": "execute_result"
    }
   ],
   "source": [
    "m"
   ]
  },
  {
   "cell_type": "code",
   "execution_count": 63,
   "metadata": {},
   "outputs": [
    {
     "data": {
      "text/plain": [
       "[34, 43.234, 'wert', 434, 'eer', 234.435, 657]"
      ]
     },
     "execution_count": 63,
     "metadata": {},
     "output_type": "execute_result"
    }
   ],
   "source": [
    "list(map(cnvr,m))"
   ]
  },
  {
   "cell_type": "markdown",
   "metadata": {},
   "source": [
    "# question 36 solution method 2"
   ]
  },
  {
   "cell_type": "code",
   "execution_count": 33,
   "metadata": {},
   "outputs": [
    {
     "name": "stdout",
     "output_type": "stream",
     "text": [
      "Enter object = 30,50\n",
      "\n",
      "Making a list of containting string data type object after spliting the object from , :\n",
      "\n",
      "['30', '50']\n",
      "\n"
     ]
    }
   ],
   "source": [
    "ob=input('Enter object = ')\n",
    "print()\n",
    "ml=ob.split(\",\")\n",
    "print(f'Making a list of containting string data type object after spliting the object from , :\\n\\n{ml}\\n')\n",
    "def sum1():\n",
    "    if ml[0]==int and ml[1]==int:\n",
    "        sum=ml[0]+ml[1]\n",
    "        print(f'sum of objects = {sum}')\n",
    "    else:\n",
    "        print('both object is not integer')"
   ]
  },
  {
   "cell_type": "code",
   "execution_count": 34,
   "metadata": {},
   "outputs": [
    {
     "data": {
      "text/plain": [
       "[30, 50]"
      ]
     },
     "execution_count": 34,
     "metadata": {},
     "output_type": "execute_result"
    }
   ],
   "source": [
    "list(map(cnvr,ml))"
   ]
  },
  {
   "cell_type": "code",
   "execution_count": 35,
   "metadata": {},
   "outputs": [
    {
     "name": "stdout",
     "output_type": "stream",
     "text": [
      "both object is not integer\n"
     ]
    }
   ],
   "source": [
    "sum1()"
   ]
  },
  {
   "cell_type": "code",
   "execution_count": 43,
   "metadata": {},
   "outputs": [
    {
     "name": "stdout",
     "output_type": "stream",
     "text": [
      "Enter object = 30,54\n",
      "\n",
      "Making a list of containting string data type object after spliting the object from , :\n",
      "\n",
      "['30', '54']\n",
      "\n"
     ]
    }
   ],
   "source": [
    "ob1=input('Enter object = ')\n",
    "print()\n",
    "ml1=ob1.split(\",\")\n",
    "print(f'Making a list of containting string data type object after spliting the object from , :\\n\\n{ml1}\\n')\n",
    "def sum1():\n",
    "    print(ml1)\n",
    "    if type(ml1[0])==int and type(ml1[1])==int: #using type() is compulsory\n",
    "        sum=ml1[0]+ml1[1]\n",
    "        print(f'sum of objects = {sum}')\n",
    "    else:\n",
    "        print('both object is not integer')"
   ]
  },
  {
   "cell_type": "code",
   "execution_count": 44,
   "metadata": {},
   "outputs": [
    {
     "data": {
      "text/plain": [
       "[30, 54]"
      ]
     },
     "execution_count": 44,
     "metadata": {},
     "output_type": "execute_result"
    }
   ],
   "source": [
    "list(map(cnvr,ml1))"
   ]
  },
  {
   "cell_type": "markdown",
   "metadata": {},
   "source": [
    "it is not gives sum because it will fetch the previous ml1 value so we need to try something different"
   ]
  },
  {
   "cell_type": "code",
   "execution_count": 45,
   "metadata": {},
   "outputs": [
    {
     "name": "stdout",
     "output_type": "stream",
     "text": [
      "['30', '54']\n",
      "both object is not integer\n"
     ]
    }
   ],
   "source": [
    "sum1()"
   ]
  },
  {
   "cell_type": "code",
   "execution_count": 60,
   "metadata": {},
   "outputs": [
    {
     "name": "stdout",
     "output_type": "stream",
     "text": [
      "Enter object = 34,45\n",
      "\n",
      "Making a list of containting string data type object after spliting the object from , :\n",
      "\n",
      "['34', '45']\n",
      "\n"
     ]
    }
   ],
   "source": [
    "x=input('Enter object = ')\n",
    "print()\n",
    "m=x.split(\",\")\n",
    "print(f'Making a list of containting string data type object after spliting the object from , :\\n\\n{m}\\n')\n",
    "def cnvr(a):\n",
    "    c=len(a)\n",
    "    if a[0] in 'abcdefghijklmnopqurstuvwxyz':\n",
    "        z=a\n",
    "        return z\n",
    "    elif '.' in a:\n",
    "        z=float(a)\n",
    "        return z\n",
    "    else:\n",
    "        if c<c+1:\n",
    "            i=0\n",
    "            while i<=c-1:\n",
    "                a[i] in '1234567890'\n",
    "                if(i==c-1):\n",
    "                    z=int(a)\n",
    "                i=i+1\n",
    "            return z\n",
    "def sum2():\n",
    "    li=list(map(cnvr,m))\n",
    "    print(li)\n",
    "    if type(li[0])==int and type(li[1])==int:\n",
    "        sum=li[0]+li[1]\n",
    "        print(f'sum of objects = {sum}')\n",
    "    else:\n",
    "        print('both the objects is not integer')"
   ]
  },
  {
   "cell_type": "code",
   "execution_count": 61,
   "metadata": {},
   "outputs": [
    {
     "name": "stdout",
     "output_type": "stream",
     "text": [
      "[34, 45]\n",
      "sum of objects = 79\n"
     ]
    }
   ],
   "source": [
    "sum2()"
   ]
  },
  {
   "cell_type": "markdown",
   "metadata": {},
   "source": [
    "# question 36 solution method 3"
   ]
  },
  {
   "cell_type": "code",
   "execution_count": 62,
   "metadata": {},
   "outputs": [],
   "source": [
    "def cnvr(a):\n",
    "    c=len(a)\n",
    "    if a[0] in 'abcdefghijklmnopqurstuvwxyz':\n",
    "        z=a\n",
    "        return z\n",
    "    elif '.' in a:\n",
    "        z=float(a)\n",
    "        return z\n",
    "    else:\n",
    "        if c<c+1:\n",
    "            i=0\n",
    "            while i<=c-1:\n",
    "                a[i] in '1234567890'\n",
    "                if(i==c-1):\n",
    "                    z=int(a)\n",
    "                i=i+1\n",
    "            return z\n",
    "def sum2():\n",
    "    x=input('Enter object = ')\n",
    "    print()\n",
    "    m=x.split(\",\")\n",
    "    print(f'Making a list of containting string data type object after spliting the object from , :\\n\\n{m}\\n')\n",
    "    li=list(map(cnvr,m))\n",
    "    print(li)\n",
    "    if type(li[0])==int and type(li[1])==int:\n",
    "        sum=li[0]+li[1]\n",
    "        print(f'sum of objects = {sum}')\n",
    "    else:\n",
    "        print('both the objects is not integer')"
   ]
  },
  {
   "cell_type": "code",
   "execution_count": 63,
   "metadata": {},
   "outputs": [
    {
     "name": "stdout",
     "output_type": "stream",
     "text": [
      "Enter object = 34,54\n",
      "\n",
      "Making a list of containting string data type object after spliting the object from , :\n",
      "\n",
      "['34', '54']\n",
      "\n",
      "[34, 54]\n",
      "sum of objects = 88\n"
     ]
    }
   ],
   "source": [
    "sum2()"
   ]
  },
  {
   "cell_type": "markdown",
   "metadata": {},
   "source": [
    "# question 36 solution method 3 modification"
   ]
  },
  {
   "cell_type": "code",
   "execution_count": 67,
   "metadata": {},
   "outputs": [],
   "source": [
    "def cnvr(a):\n",
    "    c=len(a)\n",
    "    if a[0] in 'abcdefghijklmnopqurstuvwxyz':\n",
    "        z=a\n",
    "        return z\n",
    "    elif '.' in a:\n",
    "        z=float(a)\n",
    "        return z\n",
    "    else:\n",
    "        if c<c+1:\n",
    "            i=0\n",
    "            while i<=c-1:\n",
    "                a[i] in '1234567890'\n",
    "                if(i==c-1):\n",
    "                    z=int(a)\n",
    "                i=i+1\n",
    "            return z\n",
    "def sum2():\n",
    "    x=input('Enter object = ')\n",
    "    m=x.split(\",\")\n",
    "    li=list(map(cnvr,m))\n",
    "    if type(li[0])==int and type(li[1])==int:\n",
    "        sum=li[0]+li[1]\n",
    "        print(f'sum of objects = {sum}')\n",
    "    else:\n",
    "        print('both the objects is not integer')"
   ]
  },
  {
   "cell_type": "code",
   "execution_count": 69,
   "metadata": {},
   "outputs": [
    {
     "name": "stdout",
     "output_type": "stream",
     "text": [
      "Enter object = 43,32\n",
      "sum of objects = 75\n"
     ]
    }
   ],
   "source": [
    "sum2()"
   ]
  },
  {
   "cell_type": "markdown",
   "metadata": {},
   "source": [
    "# success 4\n",
    "1."
   ]
  },
  {
   "cell_type": "code",
   "execution_count": 40,
   "metadata": {},
   "outputs": [],
   "source": [
    "def cvr():\n",
    "    x=input('Enter object = ')\n",
    "    print()\n",
    "    l=x.split(\",\")\n",
    "    print(f'Making a list of containting string data type object after spliting the object from , :\\n\\n{l}\\n')\n",
    "    mylist=[]\n",
    "    for a in l:\n",
    "        c=len(a)\n",
    "        if a[0] in 'abcdefghijklmnopqurstuvwxyz':\n",
    "            z=a\n",
    "            mylist.append(z)\n",
    "        elif '.' in a:\n",
    "            z=float(a)\n",
    "            mylist.append(z)\n",
    "        else:\n",
    "            if c<c+1:\n",
    "                i=0\n",
    "                while i<=c-1:\n",
    "                    a[i] in '1234567890'\n",
    "                    if(i==c-1):\n",
    "                        z=int(a)\n",
    "                        mylist.append(z)\n",
    "                    i=i+1\n",
    "    print(f'My new list = {mylist}')"
   ]
  },
  {
   "cell_type": "code",
   "execution_count": 42,
   "metadata": {},
   "outputs": [
    {
     "name": "stdout",
     "output_type": "stream",
     "text": [
      "Enter object = 34,43.234,wert,434,eer,234.435,657\n",
      "\n",
      "Making a list of containting string data type object after spliting the object from , :\n",
      "\n",
      "['34', '43.234', 'wert', '434', 'eer', '234.435', '657']\n",
      "\n",
      "My new list = [34, 43.234, 'wert', 434, 'eer', 234.435, 657]\n"
     ]
    }
   ],
   "source": [
    "cvr()"
   ]
  },
  {
   "cell_type": "markdown",
   "metadata": {},
   "source": [
    "# question 36 solution method 4"
   ]
  },
  {
   "cell_type": "code",
   "execution_count": 73,
   "metadata": {},
   "outputs": [],
   "source": [
    "def cvr1():\n",
    "    x=input('Enter object = ')\n",
    "    print()\n",
    "    l=x.split(\",\")\n",
    "    print(f'Making a list of containting string data type object after spliting the object from , :\\n\\n{l}\\n')\n",
    "    mylist=[]\n",
    "    for a in l:\n",
    "        c=len(a)\n",
    "        if a[0] in 'abcdefghijklmnopqurstuvwxyz':\n",
    "            z=a\n",
    "            mylist.append(z)\n",
    "        elif '.' in a:\n",
    "            z=float(a)\n",
    "            mylist.append(z)\n",
    "        else:\n",
    "            if c<c+1:\n",
    "                i=0\n",
    "                while i<=c-1:\n",
    "                    a[i] in '1234567890'\n",
    "                    if(i==c-1):\n",
    "                        z=int(a)\n",
    "                        mylist.append(z)\n",
    "                    i=i+1\n",
    "    print(f'My new list = {mylist}')\n",
    "    if type(mylist[0])==int and type(mylist[1])==int:\n",
    "        sum=mylist[0]+mylist[1]\n",
    "        print(f'sum of objects = {sum}')\n",
    "    else:\n",
    "        print('both of the object is not integer')"
   ]
  },
  {
   "cell_type": "code",
   "execution_count": 74,
   "metadata": {},
   "outputs": [
    {
     "name": "stdout",
     "output_type": "stream",
     "text": [
      "Enter object = 34,56\n",
      "\n",
      "Making a list of containting string data type object after spliting the object from , :\n",
      "\n",
      "['34', '56']\n",
      "\n",
      "My new list = [34, 56]\n",
      "sum of objects = 90\n"
     ]
    }
   ],
   "source": [
    "cvr1()"
   ]
  },
  {
   "cell_type": "markdown",
   "metadata": {},
   "source": [
    "# question 36 solution method 4 modification"
   ]
  },
  {
   "cell_type": "code",
   "execution_count": 75,
   "metadata": {},
   "outputs": [],
   "source": [
    "def cvr2():\n",
    "    x=input('Enter object = ')\n",
    "    l=x.split(\",\")\n",
    "    mylist=[]\n",
    "    for a in l:\n",
    "        c=len(a)\n",
    "        if a[0] in 'abcdefghijklmnopqurstuvwxyz':\n",
    "            z=a\n",
    "            mylist.append(z)\n",
    "        elif '.' in a:\n",
    "            z=float(a)\n",
    "            mylist.append(z)\n",
    "        else:\n",
    "            if c<c+1:\n",
    "                i=0\n",
    "                while i<=c-1:\n",
    "                    a[i] in '1234567890'\n",
    "                    if(i==c-1):\n",
    "                        z=int(a)\n",
    "                        mylist.append(z)\n",
    "                    i=i+1\n",
    "    if type(mylist[0])==int and type(mylist[1])==int:\n",
    "        sum=mylist[0]+mylist[1]\n",
    "        print(f'sum of objects = {sum}')\n",
    "    else:\n",
    "        print('both of the object is not integer')"
   ]
  },
  {
   "cell_type": "code",
   "execution_count": 77,
   "metadata": {},
   "outputs": [
    {
     "name": "stdout",
     "output_type": "stream",
     "text": [
      "Enter object = 55,46\n",
      "sum of objects = 101\n"
     ]
    }
   ],
   "source": [
    "cvr2()"
   ]
  },
  {
   "cell_type": "markdown",
   "metadata": {},
   "source": [
    "# success 5\n",
    "2."
   ]
  },
  {
   "cell_type": "code",
   "execution_count": 47,
   "metadata": {},
   "outputs": [
    {
     "name": "stdout",
     "output_type": "stream",
     "text": [
      "Enter object = 34,43.234,wert,434,eer,234.435,657\n",
      "\n",
      "Making a list of containting string data type object after spliting the object from , :\n",
      "\n",
      "['34', '43.234', 'wert', '434', 'eer', '234.435', '657']\n",
      "\n"
     ]
    }
   ],
   "source": [
    "x=input('Enter object = ')\n",
    "print()\n",
    "l=x.split(\",\")\n",
    "print(f'Making a list of containting string data type object after spliting the object from , :\\n\\n{l}\\n')\n",
    "mylist=[]\n",
    "def cr():\n",
    "    for a in l:\n",
    "        c=len(a)\n",
    "        if a[0] in 'abcdefghijklmnopqurstuvwxyz':\n",
    "            z=a\n",
    "            mylist.append(z)\n",
    "        elif '.' in a:\n",
    "            z=float(a)\n",
    "            mylist.append(z)\n",
    "        else:\n",
    "            if c<c+1:\n",
    "                i=0\n",
    "                while i<=c-1:\n",
    "                    a[i] in '1234567890'\n",
    "                    if(i==c-1):\n",
    "                        z=int(a)\n",
    "                        mylist.append(z)\n",
    "                    i=i+1\n",
    "    print(f'My new list = {mylist}')"
   ]
  },
  {
   "cell_type": "code",
   "execution_count": 48,
   "metadata": {},
   "outputs": [
    {
     "name": "stdout",
     "output_type": "stream",
     "text": [
      "My new list = [34, 43.234, 'wert', 434, 'eer', 234.435, 657]\n"
     ]
    }
   ],
   "source": [
    "cr()"
   ]
  },
  {
   "cell_type": "markdown",
   "metadata": {},
   "source": [
    "# question 36 solution method 5"
   ]
  },
  {
   "cell_type": "code",
   "execution_count": 78,
   "metadata": {},
   "outputs": [
    {
     "name": "stdout",
     "output_type": "stream",
     "text": [
      "Enter object = 34,53\n",
      "\n",
      "Making a list of containting string data type object after spliting the object from , :\n",
      "\n",
      "['34', '53']\n",
      "\n"
     ]
    }
   ],
   "source": [
    "x=input('Enter object = ')\n",
    "print()\n",
    "l=x.split(\",\")\n",
    "print(f'Making a list of containting string data type object after spliting the object from , :\\n\\n{l}\\n')\n",
    "mylist=[]\n",
    "def cr1():\n",
    "    for a in l:\n",
    "        c=len(a)\n",
    "        if a[0] in 'abcdefghijklmnopqurstuvwxyz':\n",
    "            z=a\n",
    "            mylist.append(z)\n",
    "        elif '.' in a:\n",
    "            z=float(a)\n",
    "            mylist.append(z)\n",
    "        else:\n",
    "            if c<c+1:\n",
    "                i=0\n",
    "                while i<=c-1:\n",
    "                    a[i] in '1234567890'\n",
    "                    if(i==c-1):\n",
    "                        z=int(a)\n",
    "                        mylist.append(z)\n",
    "                    i=i+1\n",
    "    print(f'My new list = {mylist}')\n",
    "    if type(mylist[0])==int and type(mylist[1])==int:\n",
    "        sum=mylist[0]+mylist[1]\n",
    "        print(f'Sum of two object = {sum}')\n",
    "    else:\n",
    "        print('Both of the object is not integer')"
   ]
  },
  {
   "cell_type": "code",
   "execution_count": 79,
   "metadata": {},
   "outputs": [
    {
     "name": "stdout",
     "output_type": "stream",
     "text": [
      "My new list = [34, 53]\n",
      "Sum of two object = 87\n"
     ]
    }
   ],
   "source": [
    "cr1()"
   ]
  },
  {
   "cell_type": "markdown",
   "metadata": {},
   "source": [
    "# question 36 solution method 5 modification"
   ]
  },
  {
   "cell_type": "code",
   "execution_count": 85,
   "metadata": {},
   "outputs": [
    {
     "name": "stdout",
     "output_type": "stream",
     "text": [
      "Enter object = 34,33\n"
     ]
    }
   ],
   "source": [
    "x=input('Enter object = ')\n",
    "l=x.split(\",\")\n",
    "mylist=[]\n",
    "def cr2():\n",
    "    for a in l:\n",
    "        c=len(a)\n",
    "        if a[0] in 'abcdefghijklmnopqurstuvwxyz':\n",
    "            z=a\n",
    "            mylist.append(z)\n",
    "        elif '.' in a:\n",
    "            z=float(a)\n",
    "            mylist.append(z)\n",
    "        else:\n",
    "            if c<c+1:\n",
    "                i=0\n",
    "                while i<=c-1:\n",
    "                    a[i] in '1234567890'\n",
    "                    if(i==c-1):\n",
    "                        z=int(a)\n",
    "                        mylist.append(z)\n",
    "                    i=i+1\n",
    "    if type(mylist[0])==int and type(mylist[1])==int:\n",
    "        sum=mylist[0]+mylist[1]\n",
    "        print(f'Sum of two object = {sum}')\n",
    "    else:\n",
    "        print('Both of the object is not integer')"
   ]
  },
  {
   "cell_type": "code",
   "execution_count": 86,
   "metadata": {},
   "outputs": [
    {
     "name": "stdout",
     "output_type": "stream",
     "text": [
      "Sum of two object = 67\n"
     ]
    }
   ],
   "source": [
    "cr2()"
   ]
  },
  {
   "cell_type": "code",
   "execution_count": null,
   "metadata": {},
   "outputs": [],
   "source": []
  },
  {
   "cell_type": "markdown",
   "metadata": {},
   "source": [
    "# using lambda function:"
   ]
  },
  {
   "cell_type": "code",
   "execution_count": 65,
   "metadata": {},
   "outputs": [
    {
     "name": "stdout",
     "output_type": "stream",
     "text": [
      "Enter object = 4,4346.234,water,434,earth,234.435,657\n",
      "\n",
      "Making a list of containting string data type object after spliting the object from , :\n",
      "\n",
      "['4', '4346.234', 'water', '434', 'earth', '234.435', '657']\n",
      "\n"
     ]
    }
   ],
   "source": [
    "x=input('Enter object = ')\n",
    "print()\n",
    "m=x.split(\",\")\n",
    "print(f'Making a list of containting string data type object after spliting the object from , :\\n\\n{m}\\n')"
   ]
  },
  {
   "cell_type": "code",
   "execution_count": 66,
   "metadata": {},
   "outputs": [
    {
     "data": {
      "text/plain": [
       "['4', '4346.234', 'water', '434', 'earth', '234.435', '657']"
      ]
     },
     "execution_count": 66,
     "metadata": {},
     "output_type": "execute_result"
    }
   ],
   "source": [
    "m"
   ]
  },
  {
   "cell_type": "code",
   "execution_count": 1,
   "metadata": {},
   "outputs": [
    {
     "ename": "SyntaxError",
     "evalue": "invalid syntax (<ipython-input-1-691b984ea1d1>, line 1)",
     "output_type": "error",
     "traceback": [
      "\u001b[1;36m  File \u001b[1;32m\"<ipython-input-1-691b984ea1d1>\"\u001b[1;36m, line \u001b[1;32m1\u001b[0m\n\u001b[1;33m    convert = lambda a: c=len(a) z if a[0] in 'abcdefghijklmnopqurstuvwxyz' elif '.' in a (z=float(a)) else(if c<c+1 i=0\u001b[0m\n\u001b[1;37m                                 ^\u001b[0m\n\u001b[1;31mSyntaxError\u001b[0m\u001b[1;31m:\u001b[0m invalid syntax\n"
     ]
    }
   ],
   "source": [
    "convert = lambda a: c=len(a) z if a[0] in 'abcdefghijklmnopqurstuvwxyz' elif '.' in a (z=float(a)) else(if c<c+1 i=0\n",
    "            while i<=c-1:\n",
    "                a[i] in '1234567890'\n",
    "                if(i==c-1):\n",
    "                    z=int(a)\n",
    "                i=i+1\n",
    "            return z\n",
    "         z=float(a)\n",
    "        return z"
   ]
  },
  {
   "cell_type": "code",
   "execution_count": 2,
   "metadata": {},
   "outputs": [],
   "source": [
    "\n",
    "def cnvr(a):\n",
    "    c=len(a)\n",
    "    if a[0] in 'abcdefghijklmnopqurstuvwxyz':\n",
    "        z=a\n",
    "        return z\n",
    "    elif '.' in a:\n",
    "        z=float(a)\n",
    "        return z\n",
    "    else:\n",
    "        if c<c+1:\n",
    "            i=0\n",
    "            while i<=c-1:\n",
    "                a[i] in '1234567890'\n",
    "                if(i==c-1):\n",
    "                    z=int(a)\n",
    "                i=i+1\n",
    "            return z"
   ]
  },
  {
   "cell_type": "code",
   "execution_count": 3,
   "metadata": {},
   "outputs": [
    {
     "ename": "SyntaxError",
     "evalue": "invalid syntax (<ipython-input-3-2196e03bbc83>, line 1)",
     "output_type": "error",
     "traceback": [
      "\u001b[1;36m  File \u001b[1;32m\"<ipython-input-3-2196e03bbc83>\"\u001b[1;36m, line \u001b[1;32m1\u001b[0m\n\u001b[1;33m    convert = lambda a:c=len(a) (((z (i=i+1 (z=int(a) if i==c-1) a[i] in '1234567890') while i<=c-1) i=0) if c<c+1 (float(a)) elif '.' in a else(z if a[0] in 'abcdefghijklmnopqrstuvwxyz'))\u001b[0m\n\u001b[1;37m                                                               ^\u001b[0m\n\u001b[1;31mSyntaxError\u001b[0m\u001b[1;31m:\u001b[0m invalid syntax\n"
     ]
    }
   ],
   "source": [
    "convert = lambda a:c=len(a) (((z (i=i+1 (z=int(a) if i==c-1) a[i] in '1234567890') while i<=c-1) i=0) if c<c+1 (float(a)) elif '.' in a else(z if a[0] in 'abcdefghijklmnopqrstuvwxyz'))"
   ]
  },
  {
   "cell_type": "code",
   "execution_count": 5,
   "metadata": {},
   "outputs": [
    {
     "ename": "SyntaxError",
     "evalue": "invalid syntax (<ipython-input-5-cd818719acb3>, line 1)",
     "output_type": "error",
     "traceback": [
      "\u001b[1;36m  File \u001b[1;32m\"<ipython-input-5-cd818719acb3>\"\u001b[1;36m, line \u001b[1;32m1\u001b[0m\n\u001b[1;33m    convert = lambda a:c=len(a) z (i=i+1 (z=int(a) if i==c-1) a[i] in '1234567890') while i<=c-1 i=0 if c<c+1 ((float(a)) if '.' in a else(a if a[0] in 'abcdefghijklmnopqrstuvwxyz'))\u001b[0m\n\u001b[1;37m                                ^\u001b[0m\n\u001b[1;31mSyntaxError\u001b[0m\u001b[1;31m:\u001b[0m invalid syntax\n"
     ]
    }
   ],
   "source": [
    "    convert = lambda a:c=len(a) z (i=i+1 (z=int(a) if i==c-1) a[i] in '1234567890') while i<=c-1 i=0 if c<c+1 ((float(a)) if '.' in a else(a if a[0] in 'abcdefghijklmnopqrstuvwxyz'))"
   ]
  },
  {
   "cell_type": "code",
   "execution_count": 14,
   "metadata": {},
   "outputs": [
    {
     "ename": "SyntaxError",
     "evalue": "invalid syntax (<ipython-input-14-edd8e332cbb4>, line 11)",
     "output_type": "error",
     "traceback": [
      "\u001b[1;36m  File \u001b[1;32m\"<ipython-input-14-edd8e332cbb4>\"\u001b[1;36m, line \u001b[1;32m11\u001b[0m\n\u001b[1;33m    convert = lambda a:float(a) if ('.' in a) elif (a[0] in 'abcdefghijklmnopqurstuvwxyz') a else intg(a)\u001b[0m\n\u001b[1;37m                                                 ^\u001b[0m\n\u001b[1;31mSyntaxError\u001b[0m\u001b[1;31m:\u001b[0m invalid syntax\n"
     ]
    }
   ],
   "source": [
    "def intg(a):\n",
    "    c=len(a)\n",
    "    if c<c+1:\n",
    "            i=0\n",
    "            while i<=c-1:\n",
    "                a[i] in '1234567890'\n",
    "                if(i==c-1):\n",
    "                    z=int(a)\n",
    "                i=i+1\n",
    "            return z\n",
    "convert = lambda a:float(a) if ('.' in a) elif (a[0] in 'abcdefghijklmnopqurstuvwxyz') a else intg(a)"
   ]
  },
  {
   "cell_type": "markdown",
   "metadata": {},
   "source": [
    "# question 36 solution method 6"
   ]
  },
  {
   "cell_type": "code",
   "execution_count": 87,
   "metadata": {},
   "outputs": [],
   "source": [
    "def sum59(*obj):\n",
    "    lis=list(obj)\n",
    "    print(f'Enter two objects = {lis}')\n",
    "    if type(lis[0])==int and type(lis[1])==int:\n",
    "        sum=lis[0]+lis[1]\n",
    "        print(f'Sum of objects = {sum}')\n",
    "    else:\n",
    "        print('Both of the object is not integer')"
   ]
  },
  {
   "cell_type": "code",
   "execution_count": 93,
   "metadata": {},
   "outputs": [
    {
     "name": "stdout",
     "output_type": "stream",
     "text": [
      "Enter two objects = [34, 24234.2342]\n",
      "Both of the object is not integer\n"
     ]
    }
   ],
   "source": [
    "sum59(34,24234.2342)"
   ]
  },
  {
   "cell_type": "code",
   "execution_count": 95,
   "metadata": {},
   "outputs": [
    {
     "name": "stdout",
     "output_type": "stream",
     "text": [
      "Enter two objects = [34, 'sdf']\n",
      "Both of the object is not integer\n"
     ]
    }
   ],
   "source": [
    "sum59(34,'sdf')"
   ]
  },
  {
   "cell_type": "code",
   "execution_count": 96,
   "metadata": {},
   "outputs": [
    {
     "name": "stdout",
     "output_type": "stream",
     "text": [
      "Enter two objects = [36, 34]\n",
      "Sum of objects = 70\n"
     ]
    }
   ],
   "source": [
    "sum59(36,34)"
   ]
  },
  {
   "cell_type": "code",
   "execution_count": null,
   "metadata": {},
   "outputs": [],
   "source": []
  }
 ],
 "metadata": {
  "kernelspec": {
   "display_name": "Python 3",
   "language": "python",
   "name": "python3"
  },
  "language_info": {
   "codemirror_mode": {
    "name": "ipython",
    "version": 3
   },
   "file_extension": ".py",
   "mimetype": "text/x-python",
   "name": "python",
   "nbconvert_exporter": "python",
   "pygments_lexer": "ipython3",
   "version": "3.7.4"
  }
 },
 "nbformat": 4,
 "nbformat_minor": 2
}
