{
 "cells": [
  {
   "cell_type": "code",
   "execution_count": 1,
   "metadata": {},
   "outputs": [
    {
     "name": "stdout",
     "output_type": "stream",
     "text": [
      "Enter your name : Prince Kumar\n",
      "Enter your age : 20\n",
      "Enter your address : Madhubani, Purnea\n"
     ]
    }
   ],
   "source": [
    "name=input('Enter your name : ')\n",
    "age=int(input('Enter your age : '))\n",
    "address=input('Enter your address : ')"
   ]
  },
  {
   "cell_type": "code",
   "execution_count": 3,
   "metadata": {},
   "outputs": [
    {
     "data": {
      "text/plain": [
       "49"
      ]
     },
     "execution_count": 3,
     "metadata": {},
     "output_type": "execute_result"
    }
   ],
   "source": [
    "x=4\n",
    "y=3\n",
    "(x+y)*(x+y)"
   ]
  },
  {
   "cell_type": "code",
   "execution_count": 16,
   "metadata": {},
   "outputs": [
    {
     "name": "stdout",
     "output_type": "stream",
     "text": [
      "princple amount = 10000\n",
      "rate intrest = 3.5\n",
      "numbers of years = 7\n",
      "future value = 12722.792627665729\n",
      "round figure of future value = 12722.79\n"
     ]
    }
   ],
   "source": [
    "p=int(input('princple amount = '))\n",
    "r=float(input('rate intrest = '))\n",
    "t=float(input('numbers of years = '))\n",
    "amount=p*((1+(0.01*r))**t)\n",
    "print(f'future value = {amount}')\n",
    "print(f'round figure of future value = {round(amount,2)}')"
   ]
  },
  {
   "cell_type": "code",
   "execution_count": 19,
   "metadata": {},
   "outputs": [
    {
     "name": "stdout",
     "output_type": "stream",
     "text": [
      "enter y1 coordinates = 5\n",
      "enter x1 coordinates = 2\n",
      "enter y2 coordinates = 1\n",
      "enter x2 coordinates = 1\n",
      "distance between points 4.12\n"
     ]
    }
   ],
   "source": [
    "y1=float(input('enter y1 coordinates = '))\n",
    "x1=float(input('enter x1 coordinates = '))\n",
    "y2=float(input('enter y2 coordinates = '))\n",
    "x2=float(input('enter x2 coordinates = '))\n",
    "dis_btw_pnt=(((y2-y1)**2)+((x2-x1)**2))**0.5\n",
    "print(f'distance between points {round(dis_btw_pnt,2)}')"
   ]
  },
  {
   "cell_type": "code",
   "execution_count": 2,
   "metadata": {},
   "outputs": [
    {
     "data": {
      "text/plain": [
       "[1, 2, 25, 32, 34, 64, 75, 644]"
      ]
     },
     "execution_count": 2,
     "metadata": {},
     "output_type": "execute_result"
    }
   ],
   "source": [
    "t=[34,32,64,2,644,25,75,1]\n",
    "t.sort()\n",
    "t"
   ]
  },
  {
   "cell_type": "code",
   "execution_count": 15,
   "metadata": {},
   "outputs": [
    {
     "data": {
      "text/plain": [
       "[644, 75, 64, 34, 32, 25, 2, 1]"
      ]
     },
     "execution_count": 15,
     "metadata": {},
     "output_type": "execute_result"
    }
   ],
   "source": [
    "t.reverse()\n",
    "t"
   ]
  },
  {
   "cell_type": "code",
   "execution_count": 13,
   "metadata": {},
   "outputs": [
    {
     "data": {
      "text/plain": [
       "[1, 75, 25, 644, 2, 64, 32, 34]"
      ]
     },
     "execution_count": 13,
     "metadata": {},
     "output_type": "execute_result"
    }
   ],
   "source": [
    "tu=[34,32,64,2,644,25,75,1]\n",
    "tu.reverse()\n",
    "tu"
   ]
  },
  {
   "cell_type": "code",
   "execution_count": 16,
   "metadata": {},
   "outputs": [
    {
     "data": {
      "text/plain": [
       "[1, 2, 25, 32, 34, 64, 75, 644]"
      ]
     },
     "execution_count": 16,
     "metadata": {},
     "output_type": "execute_result"
    }
   ],
   "source": [
    "tu.sort()\n",
    "tu"
   ]
  },
  {
   "cell_type": "code",
   "execution_count": 17,
   "metadata": {},
   "outputs": [
    {
     "data": {
      "text/plain": [
       "[644, 75, 64, 34, 32, 25, 2, 1]"
      ]
     },
     "execution_count": 17,
     "metadata": {},
     "output_type": "execute_result"
    }
   ],
   "source": [
    "tu[::-1]"
   ]
  },
  {
   "cell_type": "code",
   "execution_count": null,
   "metadata": {},
   "outputs": [],
   "source": []
  }
 ],
 "metadata": {
  "kernelspec": {
   "display_name": "Python 3",
   "language": "python",
   "name": "python3"
  },
  "language_info": {
   "codemirror_mode": {
    "name": "ipython",
    "version": 3
   },
   "file_extension": ".py",
   "mimetype": "text/x-python",
   "name": "python",
   "nbconvert_exporter": "python",
   "pygments_lexer": "ipython3",
   "version": "3.7.4"
  }
 },
 "nbformat": 4,
 "nbformat_minor": 2
}
