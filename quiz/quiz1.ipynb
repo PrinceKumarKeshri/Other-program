{
 "cells": [
  {
   "cell_type": "code",
   "execution_count": 1,
   "metadata": {},
   "outputs": [
    {
     "name": "stdout",
     "output_type": "stream",
     "text": [
      "String : I love python python python\n",
      "What you want to find : python\n",
      "Enter the stop index position of \"python\" = 6\n",
      "Found at position = 7\n",
      "Found at position = 14\n",
      "Found at position = 21\n"
     ]
    }
   ],
   "source": [
    "m=input(\"String : \")\n",
    "y=input(\"What you want to find : \")\n",
    "j=int(input(f'''Enter the stop index position of \"{y}\" = '''))\n",
    "for i in range (len(m)):\n",
    "    if m[i:i+j] == y:\n",
    "        print(f\"Found at position = {i}\")"
   ]
  },
  {
   "cell_type": "code",
   "execution_count": 2,
   "metadata": {},
   "outputs": [
    {
     "name": "stdout",
     "output_type": "stream",
     "text": [
      "String : I love python python python\n",
      "What you want to find : o\n",
      "Enter the stop index position of \"o\" = 1\n",
      "Found at position = 3\n",
      "Found at position = 11\n",
      "Found at position = 18\n",
      "Found at position = 25\n"
     ]
    }
   ],
   "source": [
    "m=input(\"String : \")\n",
    "y=input(\"What you want to find : \")\n",
    "j=int(input(f'''Enter the stop index position of \"{y}\" = '''))\n",
    "for i in range (len(m)):\n",
    "    if m[i:i+j] == y:\n",
    "        print(f\"Found at position = {i}\")"
   ]
  },
  {
   "cell_type": "code",
   "execution_count": 25,
   "metadata": {},
   "outputs": [],
   "source": [
    "def index_6(*args):\n",
    "    for i in range (len(args)):\n",
    "        if args[i] == 6:\n",
    "            print(f\"Found at position = {i}\")"
   ]
  },
  {
   "cell_type": "code",
   "execution_count": 26,
   "metadata": {},
   "outputs": [
    {
     "name": "stdout",
     "output_type": "stream",
     "text": [
      "Found at position = 3\n",
      "Found at position = 4\n"
     ]
    }
   ],
   "source": [
    "index_6(2,34,45,6,6)"
   ]
  },
  {
   "cell_type": "code",
   "execution_count": null,
   "metadata": {},
   "outputs": [],
   "source": []
  },
  {
   "cell_type": "code",
   "execution_count": null,
   "metadata": {},
   "outputs": [],
   "source": []
  },
  {
   "cell_type": "code",
   "execution_count": null,
   "metadata": {},
   "outputs": [],
   "source": []
  },
  {
   "cell_type": "code",
   "execution_count": null,
   "metadata": {},
   "outputs": [],
   "source": []
  },
  {
   "cell_type": "code",
   "execution_count": null,
   "metadata": {},
   "outputs": [],
   "source": []
  },
  {
   "cell_type": "code",
   "execution_count": null,
   "metadata": {},
   "outputs": [],
   "source": []
  }
 ],
 "metadata": {
  "kernelspec": {
   "display_name": "Python 3",
   "language": "python",
   "name": "python3"
  },
  "language_info": {
   "codemirror_mode": {
    "name": "ipython",
    "version": 3
   },
   "file_extension": ".py",
   "mimetype": "text/x-python",
   "name": "python",
   "nbconvert_exporter": "python",
   "pygments_lexer": "ipython3",
   "version": "3.7.4"
  }
 },
 "nbformat": 4,
 "nbformat_minor": 2
}
