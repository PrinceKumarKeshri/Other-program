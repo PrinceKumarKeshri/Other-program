{
 "cells": [
  {
   "cell_type": "code",
   "execution_count": 11,
   "metadata": {},
   "outputs": [
    {
     "name": "stdout",
     "output_type": "stream",
     "text": [
      "Beginning value  = 1\n",
      "Last value       = 5\n",
      "User guess value = 5\n",
      "\n",
      "\n",
      "Random guess value between 1 and 5 = 1\n",
      "Random guess value is lower than user guess value\n",
      "\n",
      "Random guess value between 1 and 5 = 3\n",
      "Random guess value is lower than user guess value\n",
      "\n",
      "Random guess value between 1 and 5 = 5\n",
      "Random guess value is equal to user guess value\n",
      "\n"
     ]
    }
   ],
   "source": [
    "import random\n",
    "i=int(input(\"Beginning value  = \"))\n",
    "highest=int(input(\"Last value       = \"))\n",
    "ask_no=int(input(\"User guess value = \"))\n",
    "print(\"\\n\")\n",
    "j=1\n",
    "while j:\n",
    "    t=random.randint(i, highest)\n",
    "    print(f\"Random guess value between {i} and {highest} = {t}\")\n",
    "    if t>ask_no:\n",
    "        print(\"Random guess value is greater than user guess value\\n\")\n",
    "    elif t<ask_no:\n",
    "        print(\"Random guess value is lower than user guess value\\n\")  \n",
    "    else:\n",
    "        print(\"Random guess value is equal to user guess value\\n\")\n",
    "        break"
   ]
  },
  {
   "cell_type": "code",
   "execution_count": null,
   "metadata": {},
   "outputs": [],
   "source": []
  },
  {
   "cell_type": "code",
   "execution_count": null,
   "metadata": {},
   "outputs": [],
   "source": []
  }
 ],
 "metadata": {
  "kernelspec": {
   "display_name": "Python 3",
   "language": "python",
   "name": "python3"
  },
  "language_info": {
   "codemirror_mode": {
    "name": "ipython",
    "version": 3
   },
   "file_extension": ".py",
   "mimetype": "text/x-python",
   "name": "python",
   "nbconvert_exporter": "python",
   "pygments_lexer": "ipython3",
   "version": "3.7.4"
  }
 },
 "nbformat": 4,
 "nbformat_minor": 2
}
