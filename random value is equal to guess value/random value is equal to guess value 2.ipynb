{
 "cells": [
  {
   "cell_type": "code",
   "execution_count": null,
   "metadata": {},
   "outputs": [],
   "source": [
    "import random\n",
    "i=int(input(\"Beginning value = \"))\n",
    "highest=int(input(\"Last value = \"))\n",
    "ask_no=int(input(\"User guess value = \"))\n",
    "j=1\n",
    "while j:\n",
    "    t=random.randint(i, highest)\n",
    "    print(f\"Random guess value between {i} and {highest} = {t}\")\n",
    "    if t>ask_no:\n",
    "        print(\"Random guess value is greater than user guess value\")\n",
    "    elif t<ask_no:\n",
    "        print(\"Random guess value is lower than user guess value\")  \n",
    "    else:\n",
    "        print(\"Random guess value is equal user guess value\")\n",
    "        break"
   ]
  },
  {
   "cell_type": "code",
   "execution_count": null,
   "metadata": {},
   "outputs": [],
   "source": []
  }
 ],
 "metadata": {
  "kernelspec": {
   "display_name": "Python 3",
   "language": "python",
   "name": "python3"
  },
  "language_info": {
   "codemirror_mode": {
    "name": "ipython",
    "version": 3
   },
   "file_extension": ".py",
   "mimetype": "text/x-python",
   "name": "python",
   "nbconvert_exporter": "python",
   "pygments_lexer": "ipython3",
   "version": "3.7.4"
  }
 },
 "nbformat": 4,
 "nbformat_minor": 2
}
