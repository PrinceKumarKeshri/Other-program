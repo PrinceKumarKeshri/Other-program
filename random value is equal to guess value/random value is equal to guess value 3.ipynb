{
 "cells": [
  {
   "cell_type": "code",
   "execution_count": 4,
   "metadata": {},
   "outputs": [
    {
     "name": "stdout",
     "output_type": "stream",
     "text": [
      "Beginning value  = 1\n",
      "Last value       = 20\n",
      "User guess value = 15\n",
      "Random guess value between 1 and 20 = 8\n",
      "Random guess value is lower than user guess value\n",
      "Random guess value between 1 and 20 = 18\n",
      "Random guess value is greater than user guess value\n",
      "Random guess value between 1 and 20 = 10\n",
      "Random guess value is lower than user guess value\n",
      "Random guess value between 1 and 20 = 19\n",
      "Random guess value is greater than user guess value\n",
      "Random guess value between 1 and 20 = 5\n",
      "Random guess value is lower than user guess value\n",
      "Random guess value between 1 and 20 = 5\n",
      "Random guess value is lower than user guess value\n",
      "Random guess value between 1 and 20 = 17\n",
      "Random guess value is greater than user guess value\n",
      "Random guess value between 1 and 20 = 13\n",
      "Random guess value is lower than user guess value\n",
      "Random guess value between 1 and 20 = 20\n",
      "Random guess value is greater than user guess value\n",
      "Random guess value between 1 and 20 = 15\n",
      "Random guess value is equal to user guess value\n"
     ]
    }
   ],
   "source": [
    "import random\n",
    "i=int(input(\"Beginning value  = \"))\n",
    "highest=int(input(\"Last value       = \"))\n",
    "ask_no=int(input(\"User guess value = \"))\n",
    "j=1\n",
    "while j:\n",
    "    t=random.randint(i, highest)\n",
    "    print(f\"Random guess value between {i} and {highest} = {t}\")\n",
    "    if t>ask_no:\n",
    "        print(\"Random guess value is greater than user guess value\\\")\n",
    "    elif t<ask_no:\n",
    "        print(\"Random guess value is lower than user guess value\")  \n",
    "    else:\n",
    "        print(\"Random guess value is equal to user guess value\")\n",
    "        break"
   ]
  },
  {
   "cell_type": "code",
   "execution_count": null,
   "metadata": {},
   "outputs": [],
   "source": []
  }
 ],
 "metadata": {
  "kernelspec": {
   "display_name": "Python 3",
   "language": "python",
   "name": "python3"
  },
  "language_info": {
   "codemirror_mode": {
    "name": "ipython",
    "version": 3
   },
   "file_extension": ".py",
   "mimetype": "text/x-python",
   "name": "python",
   "nbconvert_exporter": "python",
   "pygments_lexer": "ipython3",
   "version": "3.7.4"
  }
 },
 "nbformat": 4,
 "nbformat_minor": 2
}
