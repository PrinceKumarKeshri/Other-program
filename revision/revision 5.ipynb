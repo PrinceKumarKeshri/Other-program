{
 "cells": [
  {
   "cell_type": "code",
   "execution_count": 11,
   "metadata": {},
   "outputs": [
    {
     "name": "stdout",
     "output_type": "stream",
     "text": [
      "First  Number = 2\n",
      "Second Number = 3\n",
      "Third  Number = 1\n",
      "Sum =  6\n"
     ]
    }
   ],
   "source": [
    "num1=int(input('First  Number = '))\n",
    "num2=int(input('Second Number = '))\n",
    "num3=int(input('Third  Number = '))\n",
    "total=num1+num2+num3\n",
    "if num1!=num2!=num3:\n",
    "    print('Sum = ',total)\n",
    "elif num1==num2 or num2==num3 or num1==num3:\n",
    "    print('Sum = 0')"
   ]
  },
  {
   "cell_type": "code",
   "execution_count": 16,
   "metadata": {},
   "outputs": [
    {
     "name": "stdout",
     "output_type": "stream",
     "text": [
      "First  Number = 8\n",
      "Second Number = 8\n",
      "Sum = 20\n"
     ]
    }
   ],
   "source": [
    "num1=int(input('First  Number = '))\n",
    "num2=int(input('Second Number = '))\n",
    "total=num1+num2\n",
    "if 15<total<20:\n",
    "    print('Sum = 20')\n",
    "else:\n",
    "    print('Sum = ',total)"
   ]
  },
  {
   "cell_type": "code",
   "execution_count": 22,
   "metadata": {},
   "outputs": [
    {
     "name": "stdout",
     "output_type": "stream",
     "text": [
      "First  Number = 7\n",
      "Second Number = 2\n",
      "True\n"
     ]
    }
   ],
   "source": [
    "num1=int(input('First  Number = '))\n",
    "num2=int(input('Second Number = '))\n",
    "sum=num1+num2\n",
    "diff=num1-num2\n",
    "if num1==num2 or sum==5 or diff==5:\n",
    "    print('True')\n",
    "else:\n",
    "    print('False')"
   ]
  },
  {
   "cell_type": "code",
   "execution_count": null,
   "metadata": {},
   "outputs": [],
   "source": []
  }
 ],
 "metadata": {
  "kernelspec": {
   "display_name": "Python 3",
   "language": "python",
   "name": "python3"
  },
  "language_info": {
   "codemirror_mode": {
    "name": "ipython",
    "version": 3
   },
   "file_extension": ".py",
   "mimetype": "text/x-python",
   "name": "python",
   "nbconvert_exporter": "python",
   "pygments_lexer": "ipython3",
   "version": "3.7.4"
  }
 },
 "nbformat": 4,
 "nbformat_minor": 2
}
